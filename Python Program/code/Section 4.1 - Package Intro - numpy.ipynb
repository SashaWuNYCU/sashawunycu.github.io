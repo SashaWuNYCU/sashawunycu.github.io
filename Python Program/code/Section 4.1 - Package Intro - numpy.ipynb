{
 "cells": [
  {
   "cell_type": "markdown",
   "metadata": {},
   "source": [
    "***\n",
    "## Numpy (Short for Numerical Python)\n",
    "***"
   ]
  },
  {
   "cell_type": "code",
   "execution_count": 1,
   "metadata": {},
   "outputs": [
    {
     "name": "stdout",
     "output_type": "stream",
     "text": [
      "目前 NumPy 版本為 2.0.1\n"
     ]
    }
   ],
   "source": [
    "import numpy as np\n",
    "# See the version\n",
    "print(f'目前 NumPy 版本為 {np.__version__}')"
   ]
  },
  {
   "cell_type": "markdown",
   "metadata": {},
   "source": [
    "***\n",
    "## Upcasting (Homogeneous Data)\n",
    "***"
   ]
  },
  {
   "cell_type": "code",
   "execution_count": 2,
   "metadata": {},
   "outputs": [
    {
     "data": {
      "text/plain": [
       "array([1, 4, 2, 5, 2])"
      ]
     },
     "metadata": {},
     "output_type": "display_data"
    },
    {
     "data": {
      "text/plain": [
       "array([3.14159265, 4.        , 2.        , 3.        ])"
      ]
     },
     "metadata": {},
     "output_type": "display_data"
    },
    {
     "data": {
      "text/plain": [
       "array([3., 4., 5., 1.])"
      ]
     },
     "metadata": {},
     "output_type": "display_data"
    }
   ],
   "source": [
    "display(np.array([1,4,2,5,2]), # Create Array\n",
    "        np.array([np.pi,4,2,3]), # type not match will upcast them by promotion rules\n",
    "        np.array([3,4,5,1],dtype = float)) # assign type"
   ]
  },
  {
   "cell_type": "markdown",
   "metadata": {},
   "source": [
    "***\n",
    "## NumPy Standard Data Types\n",
    "***"
   ]
  },
  {
   "cell_type": "code",
   "execution_count": 3,
   "metadata": {},
   "outputs": [
    {
     "data": {
      "text/plain": [
       "array([[1, 2, 3],\n",
       "       [3, 4, 5],\n",
       "       [5, 6, 7]])"
      ]
     },
     "metadata": {},
     "output_type": "display_data"
    },
    {
     "data": {
      "text/plain": [
       "array([[1., 0., 0.],\n",
       "       [0., 1., 0.],\n",
       "       [0., 0., 1.]])"
      ]
     },
     "metadata": {},
     "output_type": "display_data"
    },
    {
     "data": {
      "text/plain": [
       "array([[1., 0., 0.],\n",
       "       [0., 1., 0.],\n",
       "       [0., 0., 1.]])"
      ]
     },
     "metadata": {},
     "output_type": "display_data"
    },
    {
     "data": {
      "text/plain": [
       "array([[0., 1., 0.],\n",
       "       [0., 0., 1.],\n",
       "       [0., 0., 0.]])"
      ]
     },
     "metadata": {},
     "output_type": "display_data"
    },
    {
     "data": {
      "text/plain": [
       "array([[0., 0., 0.],\n",
       "       [1., 0., 0.],\n",
       "       [0., 1., 0.]])"
      ]
     },
     "metadata": {},
     "output_type": "display_data"
    },
    {
     "data": {
      "text/plain": [
       "array([[1, 0, 0],\n",
       "       [0, 3, 0],\n",
       "       [0, 0, 5]])"
      ]
     },
     "metadata": {},
     "output_type": "display_data"
    }
   ],
   "source": [
    "display(np.array([range(k,k+3) for k in [1,3,5]]), # Nested lists result in multi-dim arrays\n",
    "        np.identity(3),\n",
    "        np.eye(3),\n",
    "        np.eye(3,k = 1),\n",
    "        np.eye(3,k = -1),\n",
    "        np.diag([1,3,5]))"
   ]
  },
  {
   "cell_type": "code",
   "execution_count": 4,
   "metadata": {},
   "outputs": [
    {
     "data": {
      "text/plain": [
       "array([0, 0, 0, 0, 0, 0, 0, 0, 0, 0])"
      ]
     },
     "metadata": {},
     "output_type": "display_data"
    },
    {
     "data": {
      "text/plain": [
       "array([[[0, 0, 0],\n",
       "        [0, 0, 0],\n",
       "        [0, 0, 0]],\n",
       "\n",
       "       [[0, 0, 0],\n",
       "        [0, 0, 0],\n",
       "        [0, 0, 0]],\n",
       "\n",
       "       [[0, 0, 0],\n",
       "        [0, 0, 0],\n",
       "        [0, 0, 0]]], dtype=int16)"
      ]
     },
     "metadata": {},
     "output_type": "display_data"
    },
    {
     "data": {
      "text/plain": [
       "array([[[1, 1, 1],\n",
       "        [1, 1, 1],\n",
       "        [1, 1, 1]],\n",
       "\n",
       "       [[1, 1, 1],\n",
       "        [1, 1, 1],\n",
       "        [1, 1, 1]],\n",
       "\n",
       "       [[1, 1, 1],\n",
       "        [1, 1, 1],\n",
       "        [1, 1, 1]]], dtype=int16)"
      ]
     },
     "metadata": {},
     "output_type": "display_data"
    },
    {
     "data": {
      "text/plain": [
       "array([[[3.14159265, 3.14159265],\n",
       "        [3.14159265, 3.14159265],\n",
       "        [3.14159265, 3.14159265]],\n",
       "\n",
       "       [[3.14159265, 3.14159265],\n",
       "        [3.14159265, 3.14159265],\n",
       "        [3.14159265, 3.14159265]],\n",
       "\n",
       "       [[3.14159265, 3.14159265],\n",
       "        [3.14159265, 3.14159265],\n",
       "        [3.14159265, 3.14159265]]])"
      ]
     },
     "metadata": {},
     "output_type": "display_data"
    },
    {
     "data": {
      "text/plain": [
       "array([[4.9e-324, 0.0e+000, 0.0e+000],\n",
       "       [0.0e+000, 1.5e-323, 0.0e+000],\n",
       "       [0.0e+000, 0.0e+000, 2.5e-323]])"
      ]
     },
     "metadata": {},
     "output_type": "display_data"
    }
   ],
   "source": [
    "display(np.zeros(10,dtype = int), # length-10 array with 0s\n",
    "        np.zeros((3,3,3),dtype = 'int16'), # 3 個 3 by 3 matrix 都是 0\n",
    "        np.ones((3,3,3),dtype = np.int16), # 3 個 3 by 3 matrix 都是 1\n",
    "        np.full((3,3,2),np.pi), # 3 個 3 by 2 matrix 都是 pi\n",
    "        np.empty((3,3))) "
   ]
  },
  {
   "cell_type": "markdown",
   "metadata": {},
   "source": [
    "***\n",
    "## Array Attributes\n",
    "***"
   ]
  },
  {
   "cell_type": "code",
   "execution_count": 5,
   "metadata": {},
   "outputs": [
    {
     "data": {
      "text/plain": [
       "3"
      ]
     },
     "metadata": {},
     "output_type": "display_data"
    },
    {
     "data": {
      "text/plain": [
       "(3, 4, 5)"
      ]
     },
     "metadata": {},
     "output_type": "display_data"
    },
    {
     "data": {
      "text/plain": [
       "60"
      ]
     },
     "metadata": {},
     "output_type": "display_data"
    },
    {
     "data": {
      "text/plain": [
       "dtype('int64')"
      ]
     },
     "metadata": {},
     "output_type": "display_data"
    }
   ],
   "source": [
    "# Seed for reproducibility\n",
    "rng = np.random.default_rng(seed = 1234567)\n",
    "v1 = rng.integers(10,size = 6)\n",
    "v2 = rng.integers(10,size = [3,4])\n",
    "v3 = rng.integers(10,size = [3,4,5])\n",
    "display(v3.ndim,\n",
    "        v3.shape,\n",
    "        v3.size,\n",
    "        v3.dtype)"
   ]
  },
  {
   "cell_type": "markdown",
   "metadata": {},
   "source": [
    "***\n",
    "## Incremental Sequence \n",
    "***"
   ]
  },
  {
   "cell_type": "code",
   "execution_count": 6,
   "metadata": {},
   "outputs": [
    {
     "data": {
      "text/plain": [
       "array([0. , 0.1, 0.2, 0.3, 0.4, 0.5, 0.6, 0.7, 0.8, 0.9, 1. ])"
      ]
     },
     "metadata": {},
     "output_type": "display_data"
    },
    {
     "data": {
      "text/plain": [
       "array([1.        , 1.07177346, 1.14869835, 1.23114441, 1.31950791,\n",
       "       1.41421356, 1.51571657, 1.62450479, 1.74110113, 1.86606598,\n",
       "       2.        ])"
      ]
     },
     "metadata": {},
     "output_type": "display_data"
    },
    {
     "data": {
      "text/plain": [
       "array([1.        , 1.07177346, 1.14869835, 1.23114441, 1.31950791,\n",
       "       1.41421356, 1.51571657, 1.62450479, 1.74110113, 1.86606598,\n",
       "       2.        ])"
      ]
     },
     "metadata": {},
     "output_type": "display_data"
    },
    {
     "data": {
      "text/plain": [
       "array([   1.,   10.,  100., 1000.])"
      ]
     },
     "metadata": {},
     "output_type": "display_data"
    }
   ],
   "source": [
    "x = np.linspace(0,1,11)\n",
    "d = 2 # mod\n",
    "y = np.logspace(0,1,11,base = d)\n",
    "xy = d**x\n",
    "z = np.geomspace(1,1000,4)\n",
    "display(x,\n",
    "        y,\n",
    "        xy,\n",
    "        z)"
   ]
  },
  {
   "cell_type": "markdown",
   "metadata": {},
   "source": [
    "***\n",
    "## Meshgrid\n",
    "***"
   ]
  },
  {
   "cell_type": "code",
   "execution_count": 7,
   "metadata": {},
   "outputs": [
    {
     "data": {
      "text/plain": [
       "array([[-1. , -0.5,  0. ,  0.5,  1. ],\n",
       "       [-1. , -0.5,  0. ,  0.5,  1. ],\n",
       "       [-1. , -0.5,  0. ,  0.5,  1. ],\n",
       "       [-1. , -0.5,  0. ,  0.5,  1. ],\n",
       "       [-1. , -0.5,  0. ,  0.5,  1. ]])"
      ]
     },
     "metadata": {},
     "output_type": "display_data"
    },
    {
     "data": {
      "text/plain": [
       "array([[-1. , -1. , -1. , -1. , -1. ],\n",
       "       [-0.5, -0.5, -0.5, -0.5, -0.5],\n",
       "       [ 0. ,  0. ,  0. ,  0. ,  0. ],\n",
       "       [ 0.5,  0.5,  0.5,  0.5,  0.5],\n",
       "       [ 1. ,  1. ,  1. ,  1. ,  1. ]])"
      ]
     },
     "metadata": {},
     "output_type": "display_data"
    },
    {
     "data": {
      "text/plain": [
       "array([[0.13533528, 0.2865048 , 0.36787944, 0.2865048 , 0.13533528],\n",
       "       [0.2865048 , 0.60653066, 0.77880078, 0.60653066, 0.2865048 ],\n",
       "       [0.36787944, 0.77880078, 1.        , 0.77880078, 0.36787944],\n",
       "       [0.2865048 , 0.60653066, 0.77880078, 0.60653066, 0.2865048 ],\n",
       "       [0.13533528, 0.2865048 , 0.36787944, 0.2865048 , 0.13533528]])"
      ]
     },
     "metadata": {},
     "output_type": "display_data"
    },
    {
     "data": {
      "text/plain": [
       "<matplotlib.colorbar.Colorbar at 0x179cdc71c70>"
      ]
     },
     "execution_count": 7,
     "metadata": {},
     "output_type": "execute_result"
    },
    {
     "data": {
      "image/png": "[encoded data removed]",
      "text/plain": [
       "<Figure size 640x480 with 2 Axes>"
      ]
     },
     "metadata": {},
     "output_type": "display_data"
    }
   ],
   "source": [
    "import matplotlib.pyplot as plt\n",
    "x = np.linspace(-1,1,5)\n",
    "y = np.linspace(-1,1,5)\n",
    "X,Y = np.meshgrid(x,y)\n",
    "Z = np.exp(-(X ** 2  + Y ** 2))\n",
    "display(X,\n",
    "        Y,\n",
    "        Z)\n",
    "plt.contourf(X,Y,Z)\n",
    "plt.colorbar()"
   ]
  },
  {
   "cell_type": "markdown",
   "metadata": {},
   "source": [
    "***\n",
    "## Generate a image by RGB color channels\n",
    "***"
   ]
  },
  {
   "cell_type": "code",
   "execution_count": 8,
   "metadata": {},
   "outputs": [
    {
     "data": {
      "text/plain": [
       "<matplotlib.image.AxesImage at 0x179cdd56000>"
      ]
     },
     "execution_count": 8,
     "metadata": {},
     "output_type": "execute_result"
    },
    {
     "data": {
      "image/png": "[encoded data removed]",
      "text/plain": [
       "<Figure size 640x480 with 1 Axes>"
      ]
     },
     "metadata": {},
     "output_type": "display_data"
    }
   ],
   "source": [
    "import matplotlib.pyplot as plt\n",
    "\n",
    "# Image Size (height x width)\n",
    "h,w = 200,255  # Wider image to show smooth transition\n",
    "# Create gradient matrices\n",
    "R = np.linspace(255,100,w,dtype = np.uint8).reshape(1,-1) * np.ones((h,1),dtype = np.uint8)\n",
    "G = np.linspace(155,255,w,dtype = np.uint8).reshape(1,-1) * np.ones((h,1),dtype = np.uint8)\n",
    "B = np.linspace(100,255,w,dtype = np.uint8).reshape(1,-1) * np.ones((h,1),dtype = np.uint8)\n",
    "# Stack the three channels to form an RGB image\n",
    "RGB_image = np.stack((R,G,B),axis = -1)\n",
    "# Display the image\n",
    "plt.imshow(RGB_image)"
   ]
  },
  {
   "cell_type": "markdown",
   "metadata": {},
   "source": [
    "***\n",
    "## Accessing Single Elements\n",
    "***"
   ]
  },
  {
   "cell_type": "code",
   "execution_count": 9,
   "metadata": {},
   "outputs": [
    {
     "data": {
      "text/plain": [
       "array([7, 9, 1, 0, 5, 2])"
      ]
     },
     "metadata": {},
     "output_type": "display_data"
    },
    {
     "data": {
      "text/plain": [
       "np.int64(7)"
      ]
     },
     "metadata": {},
     "output_type": "display_data"
    },
    {
     "data": {
      "text/plain": [
       "np.int64(5)"
      ]
     },
     "metadata": {},
     "output_type": "display_data"
    },
    {
     "data": {
      "text/plain": [
       "np.int64(2)"
      ]
     },
     "metadata": {},
     "output_type": "display_data"
    },
    {
     "data": {
      "text/plain": [
       "np.int64(5)"
      ]
     },
     "metadata": {},
     "output_type": "display_data"
    },
    {
     "data": {
      "text/plain": [
       "array([[8, 7, 4, 3],\n",
       "       [8, 8, 0, 1],\n",
       "       [0, 6, 4, 1]])"
      ]
     },
     "metadata": {},
     "output_type": "display_data"
    },
    {
     "data": {
      "text/plain": [
       "np.int64(8)"
      ]
     },
     "metadata": {},
     "output_type": "display_data"
    },
    {
     "data": {
      "text/plain": [
       "np.int64(1)"
      ]
     },
     "metadata": {},
     "output_type": "display_data"
    }
   ],
   "source": [
    "# Accessing Single Elements\n",
    "display(v1,\n",
    "        v1[0],\n",
    "        v1[4],\n",
    "        v1[-1],\n",
    "        v1[-2],\n",
    "        v2,\n",
    "        v2[0,0],\n",
    "        v2[2,-1])"
   ]
  },
  {
   "cell_type": "code",
   "execution_count": 10,
   "metadata": {},
   "outputs": [
    {
     "name": "stdout",
     "output_type": "stream",
     "text": [
      "[[-3  7  4  3]\n",
      " [ 8  8  0  1]\n",
      " [ 0  6  4  1]]\n"
     ]
    }
   ],
   "source": [
    "# insert a float value into an integer array, the value will be silently truncated\n",
    "v2[0,0] = -np.pi\n",
    "print(v2)"
   ]
  },
  {
   "cell_type": "markdown",
   "metadata": {},
   "source": [
    "***\n",
    "## 1-dim Subarray\n",
    "***"
   ]
  },
  {
   "cell_type": "code",
   "execution_count": 11,
   "metadata": {},
   "outputs": [
    {
     "data": {
      "text/plain": [
       "array([7, 9, 1, 0, 5, 2])"
      ]
     },
     "metadata": {},
     "output_type": "display_data"
    },
    {
     "data": {
      "text/plain": [
       "array([7, 9, 1])"
      ]
     },
     "metadata": {},
     "output_type": "display_data"
    },
    {
     "data": {
      "text/plain": [
       "array([0, 5, 2])"
      ]
     },
     "metadata": {},
     "output_type": "display_data"
    },
    {
     "data": {
      "text/plain": [
       "array([1, 0])"
      ]
     },
     "metadata": {},
     "output_type": "display_data"
    },
    {
     "data": {
      "text/plain": [
       "array([7, 1, 5])"
      ]
     },
     "metadata": {},
     "output_type": "display_data"
    },
    {
     "data": {
      "text/plain": [
       "array([9, 0, 2])"
      ]
     },
     "metadata": {},
     "output_type": "display_data"
    },
    {
     "data": {
      "text/plain": [
       "array([2, 5, 0, 1, 9, 7])"
      ]
     },
     "metadata": {},
     "output_type": "display_data"
    },
    {
     "data": {
      "text/plain": [
       "array([5, 1, 7])"
      ]
     },
     "metadata": {},
     "output_type": "display_data"
    }
   ],
   "source": [
    "# Accessing Subarray\n",
    "display(v1,\n",
    "        v1[:3], # first 3 elements\n",
    "        v1[3:], # elements after index 3\n",
    "\t\tv1[2:4], # 3rd to 4th element\n",
    "        v1[::2], # every second element\n",
    "        v1[1::2], # every second element, starting at index 1\n",
    "        v1[::-1], # all elements, reversed\n",
    "        v1[4::-2]) # every second element from index 4, reversed"
   ]
  },
  {
   "cell_type": "markdown",
   "metadata": {},
   "source": [
    "***\n",
    "## Multi-dim Subarrays\n",
    "***"
   ]
  },
  {
   "cell_type": "code",
   "execution_count": 12,
   "metadata": {},
   "outputs": [
    {
     "data": {
      "text/plain": [
       "array([[-3,  7,  4,  3],\n",
       "       [ 8,  8,  0,  1],\n",
       "       [ 0,  6,  4,  1]])"
      ]
     },
     "metadata": {},
     "output_type": "display_data"
    },
    {
     "data": {
      "text/plain": [
       "array([[-3,  7,  4],\n",
       "       [ 8,  8,  0]])"
      ]
     },
     "metadata": {},
     "output_type": "display_data"
    },
    {
     "data": {
      "text/plain": [
       "array([[-3,  4],\n",
       "       [ 8,  0],\n",
       "       [ 0,  4]])"
      ]
     },
     "metadata": {},
     "output_type": "display_data"
    },
    {
     "data": {
      "text/plain": [
       "array([[ 1,  4,  6,  0],\n",
       "       [ 1,  0,  8,  8],\n",
       "       [ 3,  4,  7, -3]])"
      ]
     },
     "metadata": {},
     "output_type": "display_data"
    },
    {
     "data": {
      "text/plain": [
       "array([-3,  8,  0])"
      ]
     },
     "metadata": {},
     "output_type": "display_data"
    },
    {
     "data": {
      "text/plain": [
       "array([-3,  7,  4,  3])"
      ]
     },
     "metadata": {},
     "output_type": "display_data"
    },
    {
     "data": {
      "text/plain": [
       "array([-3,  7,  4,  3])"
      ]
     },
     "metadata": {},
     "output_type": "display_data"
    }
   ],
   "source": [
    "display(v2,\n",
    "        v2[:2,:3], # first two rows & three columns\n",
    "        v2[:3,::2], # three rows, every second column\n",
    "        v2[::-1,::-1], # all rows & columns, reversed\n",
    "        v2[:,0], # first column of v2\n",
    "        v2[0,:], # first row of v2\n",
    "\t\tv2[0]) # equal to v2[0,:]"
   ]
  },
  {
   "cell_type": "markdown",
   "metadata": {},
   "source": [
    "***\n",
    "## Subarray is mutable\n",
    "***"
   ]
  },
  {
   "cell_type": "code",
   "execution_count": 13,
   "metadata": {},
   "outputs": [
    {
     "data": {
      "text/plain": [
       "array([[-3,  7,  4,  3],\n",
       "       [ 8,  8,  0,  1],\n",
       "       [ 0,  6,  4,  1]])"
      ]
     },
     "metadata": {},
     "output_type": "display_data"
    },
    {
     "data": {
      "text/plain": [
       "array([[-3,  7],\n",
       "       [ 8,  8]])"
      ]
     },
     "metadata": {},
     "output_type": "display_data"
    },
    {
     "data": {
      "text/plain": [
       "array([[2, 7],\n",
       "       [8, 8]])"
      ]
     },
     "metadata": {},
     "output_type": "display_data"
    },
    {
     "data": {
      "text/plain": [
       "array([[2, 7, 4, 3],\n",
       "       [8, 8, 0, 1],\n",
       "       [0, 6, 4, 1]])"
      ]
     },
     "metadata": {},
     "output_type": "display_data"
    }
   ],
   "source": [
    "v2_sub = v2[:2,:2]\n",
    "display(v2,\n",
    "        v2_sub)\n",
    "v2_sub[0,0] = np.exp(1)\n",
    "display(v2_sub,v2)"
   ]
  },
  {
   "cell_type": "markdown",
   "metadata": {},
   "source": [
    "***\n",
    "## Copy of Array\n",
    "***"
   ]
  },
  {
   "cell_type": "code",
   "execution_count": 14,
   "metadata": {},
   "outputs": [
    {
     "data": {
      "text/plain": [
       "array([[2, 7, 4, 3],\n",
       "       [8, 8, 0, 1],\n",
       "       [0, 6, 4, 1]])"
      ]
     },
     "metadata": {},
     "output_type": "display_data"
    },
    {
     "data": {
      "text/plain": [
       "array([[2, 7],\n",
       "       [8, 8]])"
      ]
     },
     "metadata": {},
     "output_type": "display_data"
    },
    {
     "data": {
      "text/plain": [
       "array([[  2,   7],\n",
       "       [  8, 123]])"
      ]
     },
     "metadata": {},
     "output_type": "display_data"
    },
    {
     "data": {
      "text/plain": [
       "array([[2, 7, 4, 3],\n",
       "       [8, 8, 0, 1],\n",
       "       [0, 6, 4, 1]])"
      ]
     },
     "metadata": {},
     "output_type": "display_data"
    }
   ],
   "source": [
    "v2_sub_copy = v2[:2,:2].copy()\n",
    "display(v2,\n",
    "        v2_sub_copy)\n",
    "v2_sub_copy[1,1] = 123\n",
    "display(v2_sub_copy,v2)"
   ]
  },
  {
   "cell_type": "markdown",
   "metadata": {},
   "source": [
    "***\n",
    "## Reshape of Arrays\n",
    "***"
   ]
  },
  {
   "cell_type": "code",
   "execution_count": 15,
   "metadata": {},
   "outputs": [
    {
     "data": {
      "text/plain": [
       "array([0, 1, 2, 3, 4, 5, 6, 7, 8])"
      ]
     },
     "metadata": {},
     "output_type": "display_data"
    },
    {
     "data": {
      "text/plain": [
       "array([[0, 1, 2],\n",
       "       [3, 4, 5],\n",
       "       [6, 7, 8]])"
      ]
     },
     "metadata": {},
     "output_type": "display_data"
    }
   ],
   "source": [
    "u1 = np.arange(9)\n",
    "display(u1,\n",
    "        u1.reshape(3,3))"
   ]
  },
  {
   "cell_type": "code",
   "execution_count": 16,
   "metadata": {},
   "outputs": [
    {
     "data": {
      "text/plain": [
       "array([1, 2, 3])"
      ]
     },
     "metadata": {},
     "output_type": "display_data"
    },
    {
     "data": {
      "text/plain": [
       "(3,)"
      ]
     },
     "metadata": {},
     "output_type": "display_data"
    },
    {
     "data": {
      "text/plain": [
       "array([[1, 2, 3]])"
      ]
     },
     "metadata": {},
     "output_type": "display_data"
    },
    {
     "data": {
      "text/plain": [
       "(1, 3)"
      ]
     },
     "metadata": {},
     "output_type": "display_data"
    },
    {
     "data": {
      "text/plain": [
       "array([[1, 2, 3]])"
      ]
     },
     "metadata": {},
     "output_type": "display_data"
    },
    {
     "data": {
      "text/plain": [
       "(1, 3)"
      ]
     },
     "metadata": {},
     "output_type": "display_data"
    }
   ],
   "source": [
    "x1 = np.array([1,2,3])\n",
    "display(x1,\n",
    "        x1.shape)\n",
    "x11 = x1.reshape(1,3)\n",
    "x12 = x1[np.newaxis,:]\n",
    "display(x11,\n",
    "        x11.shape,\n",
    "        x12,\n",
    "        x12.shape)"
   ]
  },
  {
   "cell_type": "markdown",
   "metadata": {},
   "source": [
    "***\n",
    "## Concatenation\n",
    "***"
   ]
  },
  {
   "cell_type": "code",
   "execution_count": 17,
   "metadata": {},
   "outputs": [
    {
     "data": {
      "text/plain": [
       "array([1, 3, 5, 2, 4, 6])"
      ]
     },
     "metadata": {},
     "output_type": "display_data"
    },
    {
     "data": {
      "text/plain": [
       "array([1, 3, 5, 2, 4, 6, 0, 0, 0])"
      ]
     },
     "metadata": {},
     "output_type": "display_data"
    },
    {
     "data": {
      "text/plain": [
       "array([[1, 0, 0],\n",
       "       [0, 1, 0],\n",
       "       [0, 0, 1]])"
      ]
     },
     "metadata": {},
     "output_type": "display_data"
    },
    {
     "data": {
      "text/plain": [
       "array([[1, 0, 0, 1, 0, 0],\n",
       "       [0, 1, 0, 0, 1, 0],\n",
       "       [0, 0, 1, 0, 0, 1]])"
      ]
     },
     "metadata": {},
     "output_type": "display_data"
    },
    {
     "data": {
      "text/plain": [
       "array([[1, 3, 5],\n",
       "       [1, 0, 0],\n",
       "       [0, 1, 0],\n",
       "       [0, 0, 1]])"
      ]
     },
     "metadata": {},
     "output_type": "display_data"
    },
    {
     "data": {
      "text/plain": [
       "array([[1, 0, 0, 1, 0, 0],\n",
       "       [0, 1, 0, 0, 1, 0],\n",
       "       [0, 0, 1, 0, 0, 1]])"
      ]
     },
     "metadata": {},
     "output_type": "display_data"
    }
   ],
   "source": [
    "x1 = np.array([1,3,5])\n",
    "x2 = np.array([2,4,6])\n",
    "x3 = np.array([0,0,0])\n",
    "y1 = np.eye(3,dtype = int)\n",
    "display(np.concatenate([x1,x2]),\n",
    "        np.concatenate([x1,x2,x3]),\n",
    "        y1,\n",
    "        np.concatenate([y1,y1],axis = 1), # concatenate along the second axis (zero-indexed)\n",
    "        np.vstack([x1,y1]), # vertically stack the arrays\n",
    "        np.hstack([y1,y1])) # horizontally stack the arrays"
   ]
  },
  {
   "cell_type": "markdown",
   "metadata": {},
   "source": [
    "***\n",
    "## Split of Array\n",
    "***"
   ]
  },
  {
   "cell_type": "code",
   "execution_count": 18,
   "metadata": {},
   "outputs": [
    {
     "data": {
      "text/plain": [
       "[array([ 1,  2,  3, 87]), array([97,  6]), array([4, 2])]"
      ]
     },
     "metadata": {},
     "output_type": "display_data"
    },
    {
     "data": {
      "text/plain": [
       "array([[  2,   3,   4,  88],\n",
       "       [  3,   4,   5,  89],\n",
       "       [  4,   5,   6,  90],\n",
       "       [ 88,  89,  90, 174]])"
      ]
     },
     "metadata": {},
     "output_type": "display_data"
    },
    {
     "data": {
      "text/plain": [
       "[array([[ 2,  3,  4, 88],\n",
       "        [ 3,  4,  5, 89]]),\n",
       " array([[  4,   5,   6,  90],\n",
       "        [ 88,  89,  90, 174]])]"
      ]
     },
     "metadata": {},
     "output_type": "display_data"
    },
    {
     "data": {
      "text/plain": [
       "[array([[ 2,  3],\n",
       "        [ 3,  4],\n",
       "        [ 4,  5],\n",
       "        [88, 89]]),\n",
       " array([[  4,  88],\n",
       "        [  5,  89],\n",
       "        [  6,  90],\n",
       "        [ 90, 174]])]"
      ]
     },
     "metadata": {},
     "output_type": "display_data"
    }
   ],
   "source": [
    "x1 = np.array([1,2,3,87,97,6,4,2])\n",
    "x2 = x1[:4].reshape(1,-1) + x1[:4].reshape(1,-1).T # Broadcasting\n",
    "display(np.split(x1,[4,6]), # pass a list of indices giving the split points\n",
    "        x2,\n",
    "        np.vsplit(x2,[2]),\n",
    "        np.hsplit(x2,[2]))"
   ]
  },
  {
   "cell_type": "markdown",
   "metadata": {},
   "source": [
    "***\n",
    "## Slowness of Loops\n",
    "***\n",
    "##### ns, nanoseconds = $10^{-9}$ s\n",
    "##### $\\mu \\text{s}$, microseconds = $10^{-6}$ s\n",
    "##### ms, milliseconds = $10^{-3}$ s"
   ]
  },
  {
   "cell_type": "code",
   "execution_count": 19,
   "metadata": {},
   "outputs": [
    {
     "name": "stdout",
     "output_type": "stream",
     "text": [
      "12.3 ms ± 139 μs per loop (mean ± std. dev. of 7 runs, 100 loops each)\n",
      "81.3 μs ± 2.43 μs per loop (mean ± std. dev. of 7 runs, 10,000 loops each)\n"
     ]
    }
   ],
   "source": [
    "def cal_recip(seq):\n",
    "    res = np.empty(len(seq))\n",
    "    for k in range(len(res)):\n",
    "        res[k] = 1 / seq[k]\n",
    "    return res\n",
    "vals = np.random.randint(1,7,100000)\n",
    "%timeit cal_recip(vals)\n",
    "%timeit 1 / vals"
   ]
  },
  {
   "cell_type": "markdown",
   "metadata": {},
   "source": [
    "***\n",
    "## Array Arithmetic\n",
    "***"
   ]
  },
  {
   "cell_type": "code",
   "execution_count": 20,
   "metadata": {},
   "outputs": [
    {
     "data": {
      "text/plain": [
       "array([1, 3, 3, 1])"
      ]
     },
     "metadata": {},
     "output_type": "display_data"
    },
    {
     "data": {
      "text/plain": [
       "array([6, 8, 8, 6])"
      ]
     },
     "metadata": {},
     "output_type": "display_data"
    },
    {
     "data": {
      "text/plain": [
       "array([-2,  0,  0, -2])"
      ]
     },
     "metadata": {},
     "output_type": "display_data"
    },
    {
     "data": {
      "text/plain": [
       "array([0, 2, 2, 0])"
      ]
     },
     "metadata": {},
     "output_type": "display_data"
    },
    {
     "data": {
      "text/plain": [
       "array([2, 6, 6, 2])"
      ]
     },
     "metadata": {},
     "output_type": "display_data"
    },
    {
     "data": {
      "text/plain": [
       "array([ 1, 27, 27,  1])"
      ]
     },
     "metadata": {},
     "output_type": "display_data"
    },
    {
     "data": {
      "text/plain": [
       "array([0.25, 0.75, 0.75, 0.25])"
      ]
     },
     "metadata": {},
     "output_type": "display_data"
    },
    {
     "data": {
      "text/plain": [
       "array([0, 1, 1, 0])"
      ]
     },
     "metadata": {},
     "output_type": "display_data"
    },
    {
     "data": {
      "text/plain": [
       "array([-1, -3, -3, -1])"
      ]
     },
     "metadata": {},
     "output_type": "display_data"
    },
    {
     "data": {
      "text/plain": [
       "array([1, 3, 3, 1])"
      ]
     },
     "metadata": {},
     "output_type": "display_data"
    }
   ],
   "source": [
    "x = np.array([1,3,3,1])\n",
    "display(x,\n",
    "        x + 5,\n",
    "        x - 3,\n",
    "        np.abs(x-1),\n",
    "        x * 2,\n",
    "        x ** 3,\n",
    "        x / 4,\n",
    "        x // 2,\n",
    "        -x,\n",
    "        x % 5)"
   ]
  },
  {
   "cell_type": "code",
   "execution_count": 21,
   "metadata": {},
   "outputs": [
    {
     "data": {
      "text/plain": [
       "array([-3.14159265, -1.57079633,  0.        ,  1.57079633,  3.14159265])"
      ]
     },
     "metadata": {},
     "output_type": "display_data"
    },
    {
     "data": {
      "text/plain": [
       "array([-1.2246468e-16, -1.0000000e+00,  0.0000000e+00,  1.0000000e+00,\n",
       "        1.2246468e-16])"
      ]
     },
     "metadata": {},
     "output_type": "display_data"
    },
    {
     "data": {
      "text/plain": [
       "array([-1.000000e+00,  6.123234e-17,  1.000000e+00,  6.123234e-17,\n",
       "       -1.000000e+00])"
      ]
     },
     "metadata": {},
     "output_type": "display_data"
    },
    {
     "data": {
      "text/plain": [
       "array([ 1.22464680e-16, -1.63312394e+16,  0.00000000e+00,  1.63312394e+16,\n",
       "       -1.22464680e-16])"
      ]
     },
     "metadata": {},
     "output_type": "display_data"
    }
   ],
   "source": [
    "ang = np.linspace(-np.pi,np.pi,5)\n",
    "display(ang,\n",
    "        np.sin(ang),\n",
    "        np.cos(ang),\n",
    "        np.tan(ang))"
   ]
  },
  {
   "cell_type": "code",
   "execution_count": 22,
   "metadata": {},
   "outputs": [
    {
     "data": {
      "text/plain": [
       "array([-1.57079633, -0.52359878,  0.        ,  0.52359878,  1.57079633])"
      ]
     },
     "metadata": {},
     "output_type": "display_data"
    },
    {
     "data": {
      "text/plain": [
       "array([-0.78539816, -0.46364761,  0.        ,  0.46364761,  0.78539816])"
      ]
     },
     "metadata": {},
     "output_type": "display_data"
    }
   ],
   "source": [
    "val = np.linspace(-1,1,5)\n",
    "display(np.arcsin(val),\n",
    "        np.arctan(val))"
   ]
  },
  {
   "cell_type": "code",
   "execution_count": 23,
   "metadata": {},
   "outputs": [
    {
     "name": "stderr",
     "output_type": "stream",
     "text": [
      "C:\\Users\\User\\AppData\\Local\\Temp\\ipykernel_7228\\4249535630.py:3: RuntimeWarning: invalid value encountered in log\n",
      "  np.log(y),\n"
     ]
    },
    {
     "data": {
      "text/plain": [
       "array([ 0.04978707,  2.71828183, 20.08553692])"
      ]
     },
     "metadata": {},
     "output_type": "display_data"
    },
    {
     "data": {
      "text/plain": [
       "array([       nan, 0.        , 1.09861229])"
      ]
     },
     "metadata": {},
     "output_type": "display_data"
    },
    {
     "data": {
      "text/plain": [
       "array([ 0.03703704,  3.        , 27.        ])"
      ]
     },
     "metadata": {},
     "output_type": "display_data"
    }
   ],
   "source": [
    "y = np.array([-3,1,3])\n",
    "display(np.exp(y),\n",
    "        np.log(y),\n",
    "        np.power(3.,y))"
   ]
  },
  {
   "cell_type": "code",
   "execution_count": 24,
   "metadata": {},
   "outputs": [
    {
     "name": "stdout",
     "output_type": "stream",
     "text": [
      "[-0.78539816 -0.46364761  0.          0.46364761  0.78539816]\n",
      "[10. 30. 50. 70. 90.]\n"
     ]
    }
   ],
   "source": [
    "x = np.array([1,3,5,7,9])\n",
    "y = np.empty(5)\n",
    "print(y)\n",
    "np.multiply(x,10,out = y)\n",
    "print(y)"
   ]
  },
  {
   "cell_type": "markdown",
   "metadata": {},
   "source": [
    "***\n",
    "## Vectorized function\n",
    "***"
   ]
  },
  {
   "cell_type": "code",
   "execution_count": 25,
   "metadata": {},
   "outputs": [
    {
     "data": {
      "text/plain": [
       "0"
      ]
     },
     "metadata": {},
     "output_type": "display_data"
    },
    {
     "data": {
      "text/plain": [
       "1"
      ]
     },
     "metadata": {},
     "output_type": "display_data"
    },
    {
     "name": "stdout",
     "output_type": "stream",
     "text": [
      "The truth value of an array with more than one element is ambiguous. Use a.any() or a.all()\n"
     ]
    },
    {
     "data": {
      "text/plain": [
       "array([0, 0, 0, 0, 0, 0, 1, 1, 1, 1, 1])"
      ]
     },
     "metadata": {},
     "output_type": "display_data"
    }
   ],
   "source": [
    "def heaviside_1(x):\n",
    "    return 1 if x > 0 else 0\n",
    "display(heaviside_1(-1),\n",
    "        heaviside_1(1.5))\n",
    "x = np.linspace(-1,1,11)\n",
    "try:\n",
    "    heaviside_1(x)\n",
    "except Exception as e:\n",
    "    print(e)\n",
    "finally:\n",
    "    # np.vectorize works with arrays, it will be relatively slow\n",
    "    heaviside_2 = np.vectorize(heaviside_1)\n",
    "    display(heaviside_2(x))"
   ]
  },
  {
   "cell_type": "code",
   "execution_count": 26,
   "metadata": {},
   "outputs": [
    {
     "data": {
      "text/plain": [
       "array([0, 0, 0, 0, 0, 0, 1, 1, 1, 1, 1])"
      ]
     },
     "metadata": {},
     "output_type": "display_data"
    }
   ],
   "source": [
    "def heaviside_3(x):\n",
    "    return 1 * (x > 0)\n",
    "display(heaviside_3(x))"
   ]
  },
  {
   "cell_type": "markdown",
   "metadata": {},
   "source": [
    "***\n",
    "## Aggregation\n",
    "***"
   ]
  },
  {
   "cell_type": "code",
   "execution_count": 27,
   "metadata": {},
   "outputs": [
    {
     "data": {
      "text/plain": [
       "array([1, 2, 3, 4, 5])"
      ]
     },
     "metadata": {},
     "output_type": "display_data"
    },
    {
     "data": {
      "text/plain": [
       "np.int64(15)"
      ]
     },
     "metadata": {},
     "output_type": "display_data"
    },
    {
     "data": {
      "text/plain": [
       "array([ 1,  3,  6, 10, 15])"
      ]
     },
     "metadata": {},
     "output_type": "display_data"
    },
    {
     "data": {
      "text/plain": [
       "array([  1,   2,   6,  24, 120])"
      ]
     },
     "metadata": {},
     "output_type": "display_data"
    },
    {
     "data": {
      "text/plain": [
       "array([[ 2,  3,  4,  5,  6],\n",
       "       [ 3,  4,  5,  6,  7],\n",
       "       [ 4,  5,  6,  7,  8],\n",
       "       [ 5,  6,  7,  8,  9],\n",
       "       [ 6,  7,  8,  9, 10]])"
      ]
     },
     "metadata": {},
     "output_type": "display_data"
    }
   ],
   "source": [
    "x = np.arange(1,6)\n",
    "display(x,\n",
    "        np.add.reduce(x),\n",
    "        np.add.accumulate(x),\n",
    "        np.multiply.accumulate(x),\n",
    "        np.add.outer(x,x))"
   ]
  },
  {
   "cell_type": "code",
   "execution_count": 28,
   "metadata": {},
   "outputs": [
    {
     "data": {
      "text/plain": [
       "array([ 1.,  2.,  3., nan])"
      ]
     },
     "metadata": {},
     "output_type": "display_data"
    },
    {
     "data": {
      "text/plain": [
       "np.float64(nan)"
      ]
     },
     "metadata": {},
     "output_type": "display_data"
    },
    {
     "data": {
      "text/plain": [
       "np.float64(2.0)"
      ]
     },
     "metadata": {},
     "output_type": "display_data"
    }
   ],
   "source": [
    "xm = np.array([1,2,3,np.nan])\n",
    "display(xm,\n",
    "        np.mean(xm),\n",
    "        np.nanmean(xm))"
   ]
  },
  {
   "cell_type": "markdown",
   "metadata": {},
   "source": [
    "***\n",
    "## Broadcasting\n",
    "***\n",
    "## Case 1\n",
    "##### $M_{(2,3)}$ and $A_{(3,)}$  \n",
    "##### By rule 1, $M_{(2,3)}$ and $A_{(1,3)}$\n",
    "##### By rule 2, $M_{(2,3)}$ and $A_{(2,3)}$\n",
    "##### Match"
   ]
  },
  {
   "cell_type": "code",
   "execution_count": 29,
   "metadata": {},
   "outputs": [
    {
     "data": {
      "text/plain": [
       "array([[1., 2., 3.],\n",
       "       [1., 2., 3.]])"
      ]
     },
     "execution_count": 29,
     "metadata": {},
     "output_type": "execute_result"
    }
   ],
   "source": [
    "M = np.ones((2,3))\n",
    "a = np.arange(3)\n",
    "M + a"
   ]
  },
  {
   "cell_type": "markdown",
   "metadata": {},
   "source": [
    "## Case 2\n",
    "##### $M_{(3,1)}$ and $A_{(3,)}$  \n",
    "##### By rule 1, $M_{(3,1)}$ and $A_{(1,3)}$\n",
    "##### By rule 2, $M_{(3,3)}$ and $A_{(3,3)}$\n",
    "##### Match"
   ]
  },
  {
   "cell_type": "code",
   "execution_count": 30,
   "metadata": {},
   "outputs": [
    {
     "data": {
      "text/plain": [
       "array([[0, 1, 2],\n",
       "       [1, 2, 3],\n",
       "       [2, 3, 4]])"
      ]
     },
     "execution_count": 30,
     "metadata": {},
     "output_type": "execute_result"
    }
   ],
   "source": [
    "M = np.array([[0],[1],[2]])\n",
    "a = np.array([0,1,2])\n",
    "M + a"
   ]
  },
  {
   "cell_type": "markdown",
   "metadata": {},
   "source": [
    "##### $M_{(3,2)}$ and $A_{(3,)}$  \n",
    "##### By rule 1, $M_{(3,2)}$ and $A_{(1,3)}$\n",
    "##### By rule 2, $M_{(3,2)}$ and $A_{(2,3)}$\n",
    "##### can not match"
   ]
  },
  {
   "cell_type": "code",
   "execution_count": 31,
   "metadata": {},
   "outputs": [
    {
     "name": "stdout",
     "output_type": "stream",
     "text": [
      "operands could not be broadcast together with shapes (3,2) (3,) \n"
     ]
    }
   ],
   "source": [
    "M = np.ones((3,2))\n",
    "a = np.arange(3)\n",
    "try:\n",
    "\tM + a\n",
    "except Exception as e:\n",
    "\tprint(e)"
   ]
  },
  {
   "cell_type": "markdown",
   "metadata": {},
   "source": [
    "***\n",
    "## Mask\n",
    "***"
   ]
  },
  {
   "cell_type": "code",
   "execution_count": 32,
   "metadata": {},
   "outputs": [
    {
     "data": {
      "text/plain": [
       "array([[ 20,  69, -76],\n",
       "       [ 73,  35, -94],\n",
       "       [-62,  81,  10]], dtype=int32)"
      ]
     },
     "metadata": {},
     "output_type": "display_data"
    },
    {
     "data": {
      "text/plain": [
       "array([[ True, False,  True],\n",
       "       [False, False,  True],\n",
       "       [ True, False,  True]])"
      ]
     },
     "metadata": {},
     "output_type": "display_data"
    },
    {
     "data": {
      "text/plain": [
       "array([[ True,  True, False],\n",
       "       [ True,  True, False],\n",
       "       [False,  True,  True]])"
      ]
     },
     "metadata": {},
     "output_type": "display_data"
    },
    {
     "data": {
      "text/plain": [
       "array([[False,  True, False],\n",
       "       [ True, False, False],\n",
       "       [False,  True, False]])"
      ]
     },
     "metadata": {},
     "output_type": "display_data"
    },
    {
     "data": {
      "text/plain": [
       "array([[False, False,  True],\n",
       "       [False, False,  True],\n",
       "       [ True, False, False]])"
      ]
     },
     "metadata": {},
     "output_type": "display_data"
    },
    {
     "data": {
      "text/plain": [
       "array([[ True, False, False],\n",
       "       [False, False, False],\n",
       "       [False, False, False]])"
      ]
     },
     "metadata": {},
     "output_type": "display_data"
    },
    {
     "data": {
      "text/plain": [
       "array([[False,  True,  True],\n",
       "       [ True,  True,  True],\n",
       "       [ True,  True,  True]])"
      ]
     },
     "metadata": {},
     "output_type": "display_data"
    }
   ],
   "source": [
    "\n",
    "np.random.seed(250311)\n",
    "x = np.random.randint(-99,99,(3,3))\n",
    "display(x,\n",
    "        x < 30,\n",
    "        x > -30,\n",
    "        x >= 40,\n",
    "        x <= -40,\n",
    "        x == x[0,0],\n",
    "        x != x[0,0])"
   ]
  },
  {
   "cell_type": "code",
   "execution_count": 33,
   "metadata": {},
   "outputs": [
    {
     "data": {
      "text/plain": [
       "6"
      ]
     },
     "metadata": {},
     "output_type": "display_data"
    },
    {
     "data": {
      "text/plain": [
       "array([1, 2, 1])"
      ]
     },
     "metadata": {},
     "output_type": "display_data"
    },
    {
     "data": {
      "text/plain": [
       "np.True_"
      ]
     },
     "metadata": {},
     "output_type": "display_data"
    },
    {
     "data": {
      "text/plain": [
       "np.True_"
      ]
     },
     "metadata": {},
     "output_type": "display_data"
    }
   ],
   "source": [
    "display(np.count_nonzero(x < 40), # how many values less than 40?\n",
    "        np.sum(x > 20,axis = 1), # how many values greater than 20 in each row?\n",
    "        np.any(x > 66), # are there any values greater than 66?\n",
    "        np.all(x < 99)) # are there any values less than 99?"
   ]
  },
  {
   "cell_type": "code",
   "execution_count": 34,
   "metadata": {},
   "outputs": [
    {
     "data": {
      "text/plain": [
       "array([[ 20,  69, -76],\n",
       "       [ 73,  35, -94],\n",
       "       [-62,  81,  10]], dtype=int32)"
      ]
     },
     "metadata": {},
     "output_type": "display_data"
    },
    {
     "data": {
      "text/plain": [
       "np.int64(4)"
      ]
     },
     "metadata": {},
     "output_type": "display_data"
    },
    {
     "data": {
      "text/plain": [
       "np.int64(6)"
      ]
     },
     "metadata": {},
     "output_type": "display_data"
    }
   ],
   "source": [
    "display(x,\n",
    "        np.sum((x > -40) & (x < 70)),\n",
    "        np.sum(~(x < 30) | (x < -70)))"
   ]
  },
  {
   "cell_type": "code",
   "execution_count": 35,
   "metadata": {},
   "outputs": [
    {
     "data": {
      "text/plain": [
       "array([[ 20,  69, -76],\n",
       "       [ 73,  35, -94],\n",
       "       [-62,  81,  10]], dtype=int32)"
      ]
     },
     "metadata": {},
     "output_type": "display_data"
    },
    {
     "data": {
      "text/plain": [
       "array([-76, -94], dtype=int32)"
      ]
     },
     "metadata": {},
     "output_type": "display_data"
    },
    {
     "data": {
      "text/plain": [
       "array([20, 69, 73, 35, 10], dtype=int32)"
      ]
     },
     "metadata": {},
     "output_type": "display_data"
    }
   ],
   "source": [
    "display(x,\n",
    "        x[x < -70],\n",
    "        x[(x < 80) & (x > 0)])"
   ]
  },
  {
   "cell_type": "markdown",
   "metadata": {},
   "source": [
    "***\n",
    "## Sorting\n",
    "***"
   ]
  },
  {
   "cell_type": "code",
   "execution_count": 36,
   "metadata": {},
   "outputs": [
    {
     "data": {
      "text/plain": [
       "array([42, 55, 12,  8, 28], dtype=int32)"
      ]
     },
     "metadata": {},
     "output_type": "display_data"
    },
    {
     "data": {
      "text/plain": [
       "array([3, 2, 4, 0, 1])"
      ]
     },
     "metadata": {},
     "output_type": "display_data"
    },
    {
     "data": {
      "text/plain": [
       "array([ 8, 12, 28, 42, 55], dtype=int32)"
      ]
     },
     "metadata": {},
     "output_type": "display_data"
    },
    {
     "data": {
      "text/plain": [
       "array([ 8, 12, 28, 42, 55], dtype=int32)"
      ]
     },
     "metadata": {},
     "output_type": "display_data"
    }
   ],
   "source": [
    "x = np.random.randint(0,100,5)\n",
    "i = np.argsort(x)\n",
    "display(x,\n",
    "        i,\n",
    "        np.sort(x),\n",
    "        x[i])"
   ]
  },
  {
   "cell_type": "code",
   "execution_count": 37,
   "metadata": {},
   "outputs": [
    {
     "data": {
      "text/plain": [
       "array([[16, 77, 18, 82],\n",
       "       [99, 94, 96, 16],\n",
       "       [22, 73, 29,  0],\n",
       "       [34, 58, 59, 15]], dtype=int32)"
      ]
     },
     "metadata": {},
     "output_type": "display_data"
    },
    {
     "data": {
      "text/plain": [
       "array([[16, 58, 18,  0],\n",
       "       [22, 73, 29, 15],\n",
       "       [34, 77, 59, 16],\n",
       "       [99, 94, 96, 82]], dtype=int32)"
      ]
     },
     "metadata": {},
     "output_type": "display_data"
    },
    {
     "data": {
      "text/plain": [
       "array([[16, 18, 77, 82],\n",
       "       [16, 94, 96, 99],\n",
       "       [ 0, 22, 29, 73],\n",
       "       [15, 34, 58, 59]], dtype=int32)"
      ]
     },
     "metadata": {},
     "output_type": "display_data"
    }
   ],
   "source": [
    "xM = np.random.randint(0,100,(4,4))\n",
    "display(xM,\n",
    "        np.sort(xM,axis = 0),\n",
    "        np.sort(xM,axis = 1))"
   ]
  },
  {
   "cell_type": "markdown",
   "metadata": {},
   "source": [
    "***\n",
    "## Matrix Operation\n",
    "***"
   ]
  },
  {
   "cell_type": "code",
   "execution_count": 38,
   "metadata": {},
   "outputs": [
    {
     "data": {
      "text/plain": [
       "array([[1, 2, 3],\n",
       "       [4, 5, 6]])"
      ]
     },
     "metadata": {},
     "output_type": "display_data"
    },
    {
     "data": {
      "text/plain": [
       "array([[1, 2],\n",
       "       [3, 4],\n",
       "       [5, 6]])"
      ]
     },
     "metadata": {},
     "output_type": "display_data"
    },
    {
     "data": {
      "text/plain": [
       "array([[22, 28],\n",
       "       [49, 64]])"
      ]
     },
     "metadata": {},
     "output_type": "display_data"
    }
   ],
   "source": [
    "A = np.array([[1,2,3],\n",
    "              [4,5,6]])\n",
    "B = np.array([[1,2],\n",
    "              [3,4],\n",
    "              [5,6]])\n",
    "display(A,\n",
    "        B,\n",
    "        A @ B) # np.dot(A,B)"
   ]
  },
  {
   "cell_type": "code",
   "execution_count": 39,
   "metadata": {},
   "outputs": [
    {
     "data": {
      "text/plain": [
       "array([[1, 2, 3],\n",
       "       [2, 4, 6],\n",
       "       [3, 6, 9]])"
      ]
     },
     "metadata": {},
     "output_type": "display_data"
    },
    {
     "data": {
      "text/plain": [
       "np.int64(14)"
      ]
     },
     "metadata": {},
     "output_type": "display_data"
    },
    {
     "data": {
      "text/plain": [
       "array([1, 2, 3, 2, 4, 6, 3, 6, 9])"
      ]
     },
     "metadata": {},
     "output_type": "display_data"
    }
   ],
   "source": [
    "x = np.array([1, 2, 3])\n",
    "display(np.outer(x,x),\n",
    "        np.inner(x,x),\n",
    "        np.kron(x,x))"
   ]
  },
  {
   "cell_type": "markdown",
   "metadata": {},
   "source": [
    "***\n",
    "## Block Matrix\n",
    "***"
   ]
  },
  {
   "cell_type": "code",
   "execution_count": 45,
   "metadata": {},
   "outputs": [
    {
     "data": {
      "text/plain": [
       "array([[1, 1],\n",
       "       [1, 0]])"
      ]
     },
     "metadata": {},
     "output_type": "display_data"
    },
    {
     "data": {
      "text/plain": [
       "array([[0., 0.],\n",
       "       [0., 0.]])"
      ]
     },
     "metadata": {},
     "output_type": "display_data"
    },
    {
     "data": {
      "text/plain": [
       "<matplotlib.image.AxesImage at 0x179d1137b60>"
      ]
     },
     "execution_count": 45,
     "metadata": {},
     "output_type": "execute_result"
    },
    {
     "data": {
      "image/png": "[encoded data removed]",
      "text/plain": [
       "<Figure size 640x480 with 2 Axes>"
      ]
     },
     "metadata": {},
     "output_type": "display_data"
    }
   ],
   "source": [
    "H1 = np.array([[1,1],\n",
    "               [1,0]])\n",
    "O1 = np.zeros((2,2))\n",
    "display(H1,\n",
    "        O1)\n",
    "plt.subplot(1,2,1)\n",
    "plt.imshow(np.block([[H1,H1],\n",
    "                     [H1,O1]]),cmap = plt.cm.gray_r)\n",
    "plt.subplot(1,2,2)\n",
    "plt.imshow(np.kron(H1,H1),cmap = plt.cm.gray_r)"
   ]
  },
  {
   "cell_type": "code",
   "execution_count": null,
   "metadata": {},
   "outputs": [],
   "source": []
  }
 ],
 "metadata": {
  "kernelspec": {
   "display_name": "Python 3",
   "language": "python",
   "name": "python3"
  },
  "language_info": {
   "codemirror_mode": {
    "name": "ipython",
    "version": 3
   },
   "file_extension": ".py",
   "mimetype": "text/x-python",
   "name": "python",
   "nbconvert_exporter": "python",
   "pygments_lexer": "ipython3",
   "version": "3.12.0"
  }
 },
 "nbformat": 4,
 "nbformat_minor": 2
}
