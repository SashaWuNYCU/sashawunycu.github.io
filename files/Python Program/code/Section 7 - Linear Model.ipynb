{
 "cells": [
  {
   "cell_type": "markdown",
   "metadata": {},
   "source": [
    "***\n",
    "## Linear Model\n",
    "***"
   ]
  },
  {
   "cell_type": "code",
   "execution_count": 2,
   "metadata": {},
   "outputs": [],
   "source": [
    "# requirement package\n",
    "import pandas as pd\n",
    "import sympy as sym\n",
    "import numpy as np\n",
    "import cvxpy as cp\n",
    "import matplotlib.pyplot as plt\n",
    "import scipy as sp\n",
    "import scipy.stats as scs\n",
    "import statsmodels.api as sm\n",
    "import statsmodels.formula.api as smf\n",
    "import seaborn as sns\n",
    "from statsmodels.stats.outliers_influence import variance_inflation_factor as vif\n",
    "from sklearn.linear_model import LinearRegression,Lasso\n",
    "from sklearn.model_selection import GridSearchCV\n",
    "from sklearn.decomposition import PCA\n",
    "from mlxtend.feature_selection import SequentialFeatureSelector as SFS\n",
    "from mlxtend.feature_selection import ExhaustiveFeatureSelector as EFS\n",
    "# Choose the style\n",
    "plt.style.use('seaborn-v0_8-whitegrid')\n",
    "\n",
    "# Always print floating point numbers using fixed point notation\n",
    "np.set_printoptions(suppress = True)"
   ]
  },
  {
   "cell_type": "code",
   "execution_count": 3,
   "metadata": {},
   "outputs": [],
   "source": [
    "# Require Dataset\n",
    "from faraway.datasets import savings\n",
    "from faraway.datasets import odor\n",
    "from faraway.datasets import galapagos\n",
    "from faraway.datasets import globwarm\n",
    "from faraway.datasets import sexab\n",
    "from faraway.datasets import fruitfly\n",
    "from faraway.datasets import statedata\n",
    "from faraway.datasets import seatpos"
   ]
  },
  {
   "cell_type": "markdown",
   "metadata": {},
   "source": [
    "***\n",
    "## Estimate Coefficient\n",
    "***"
   ]
  },
  {
   "cell_type": "code",
   "execution_count": 3,
   "metadata": {},
   "outputs": [
    {
     "data": {
      "text/plain": [
       "array([[1.  , 1.47],\n",
       "       [1.  , 1.5 ],\n",
       "       [1.  , 1.52],\n",
       "       [1.  , 1.55],\n",
       "       [1.  , 1.57],\n",
       "       [1.  , 1.6 ],\n",
       "       [1.  , 1.63],\n",
       "       [1.  , 1.65],\n",
       "       [1.  , 1.68],\n",
       "       [1.  , 1.7 ],\n",
       "       [1.  , 1.73],\n",
       "       [1.  , 1.75],\n",
       "       [1.  , 1.78],\n",
       "       [1.  , 1.8 ],\n",
       "       [1.  , 1.83]])"
      ]
     },
     "metadata": {},
     "output_type": "display_data"
    },
    {
     "data": {
      "text/plain": [
       "(15, 2)"
      ]
     },
     "metadata": {},
     "output_type": "display_data"
    },
    {
     "data": {
      "text/plain": [
       "array([[52.21],\n",
       "       [53.12],\n",
       "       [54.48],\n",
       "       [55.84],\n",
       "       [57.2 ],\n",
       "       [58.57],\n",
       "       [59.93],\n",
       "       [61.29],\n",
       "       [63.11],\n",
       "       [64.47],\n",
       "       [66.28],\n",
       "       [68.1 ],\n",
       "       [69.92],\n",
       "       [72.19],\n",
       "       [74.46]])"
      ]
     },
     "metadata": {},
     "output_type": "display_data"
    },
    {
     "data": {
      "text/plain": [
       "(15, 1)"
      ]
     },
     "metadata": {},
     "output_type": "display_data"
    }
   ],
   "source": [
    "X = np.array([1.47,1.5,1.52,1.55,1.57,\n",
    "              1.6,1.63,1.65,1.68,1.7,\n",
    "              1.73,1.75,1.78,1.80,1.83])\n",
    "# model matrix\n",
    "Xm = sm.add_constant(X)\n",
    "y = np.array([52.21,53.12,54.48,55.84,57.2,\n",
    "              58.57,59.93,61.29,63.11,64.47,\n",
    "              66.28,68.1,69.92,72.19,74.46]).reshape(-1,1)\n",
    "display(Xm,\n",
    "        Xm.shape,\n",
    "        y,\n",
    "        y.shape)"
   ]
  },
  {
   "cell_type": "code",
   "execution_count": 4,
   "metadata": {},
   "outputs": [],
   "source": [
    "def Grad_D(X,y,beta_int = np.ones((2,1)),tols = 1e-9,alpha = 1e-3):\n",
    "\tcount = 0\n",
    "\t# Do the Gradient descent\n",
    "\twhile True:\n",
    "\t\tbeta_curr = beta_int - alpha * 2 * (X.T @ (X @ beta_int - y))\n",
    "\t\tcount += 1\n",
    "\t\t# L2 norm\n",
    "\t\trmse = np.linalg.vector_norm(beta_curr - beta_int,ord = 2)\n",
    "\t\tif rmse < tols:\n",
    "\t\t\tbreak\n",
    "\t\trpt_str = f'iter {count}'\n",
    "\t\trpt_str += ': {:.4f} {:.4f}'.format(*beta_curr.ravel())\n",
    "\t\tbeta_int = beta_curr\n",
    "\treturn beta_int.ravel()"
   ]
  },
  {
   "cell_type": "code",
   "execution_count": 5,
   "metadata": {},
   "outputs": [],
   "source": [
    "def MLE_Est(X,y,beta_int = np.ones(2)):\n",
    "\t# Define log likelihood\n",
    "\tneg_LL = lambda beta: -1 * np.sum(scs.norm.logpdf(y,X @ np.array([[beta[0]],[beta[1]]]),1))\n",
    "\t# Find the critical point\n",
    "\tbeta_mle = sp.optimize.minimize(neg_LL,beta_int,method = 'L-BFGS-B')\n",
    "\treturn beta_mle.x"
   ]
  },
  {
   "cell_type": "code",
   "execution_count": 6,
   "metadata": {},
   "outputs": [
    {
     "data": {
      "text/plain": [
       "array([-39.06195592,  61.27218654])"
      ]
     },
     "metadata": {},
     "output_type": "display_data"
    },
    {
     "data": {
      "text/plain": [
       "array([-39.06195592,  61.27218654])"
      ]
     },
     "metadata": {},
     "output_type": "display_data"
    },
    {
     "data": {
      "text/plain": [
       "array([-39.06194717,  61.27218126])"
      ]
     },
     "metadata": {},
     "output_type": "display_data"
    },
    {
     "data": {
      "text/plain": [
       "array([-39.06195553,  61.27218625])"
      ]
     },
     "metadata": {},
     "output_type": "display_data"
    }
   ],
   "source": [
    "# OLS vs GD\n",
    "beta_inv = np.linalg.inv(Xm.T @ Xm) @ (Xm.T @ y)\n",
    "beta_solve = np.linalg.solve(Xm.T @ Xm,Xm.T @ y)\n",
    "beta_GD = Grad_D(Xm,y)\n",
    "beta_mle = MLE_Est(Xm,y)\n",
    "display(beta_inv.ravel(),\n",
    "        beta_solve.ravel(),\n",
    "        beta_GD,\n",
    "        beta_mle)"
   ]
  },
  {
   "cell_type": "code",
   "execution_count": 7,
   "metadata": {},
   "outputs": [
    {
     "name": "stdout",
     "output_type": "stream",
     "text": [
      "6.27 μs ± 42 ns per loop (mean ± std. dev. of 7 runs, 100,000 loops each)\n",
      "6.05 μs ± 437 ns per loop (mean ± std. dev. of 7 runs, 100,000 loops each)\n"
     ]
    }
   ],
   "source": [
    "# 計算速度比較\n",
    "%timeit np.linalg.inv(Xm.T @ Xm) @ (Xm.T @ y)\n",
    "%timeit np.linalg.solve(Xm.T @ Xm,Xm.T @ y)\n",
    "# %timeit Grad_D(Xm,y,np.ones((2,1)))\n",
    "# %timeit MLE_Est(Xm,y)"
   ]
  },
  {
   "cell_type": "code",
   "execution_count": 8,
   "metadata": {},
   "outputs": [
    {
     "data": {
      "text/html": [
       "<div>\n",
       "<style scoped>\n",
       "    .dataframe tbody tr th:only-of-type {\n",
       "        vertical-align: middle;\n",
       "    }\n",
       "\n",
       "    .dataframe tbody tr th {\n",
       "        vertical-align: top;\n",
       "    }\n",
       "\n",
       "    .dataframe thead th {\n",
       "        text-align: right;\n",
       "    }\n",
       "</style>\n",
       "<table border=\"1\" class=\"dataframe\">\n",
       "  <thead>\n",
       "    <tr style=\"text-align: right;\">\n",
       "      <th></th>\n",
       "      <th>X</th>\n",
       "      <th>y</th>\n",
       "    </tr>\n",
       "  </thead>\n",
       "  <tbody>\n",
       "    <tr>\n",
       "      <th>0</th>\n",
       "      <td>1.47</td>\n",
       "      <td>52.21</td>\n",
       "    </tr>\n",
       "    <tr>\n",
       "      <th>1</th>\n",
       "      <td>1.50</td>\n",
       "      <td>53.12</td>\n",
       "    </tr>\n",
       "    <tr>\n",
       "      <th>2</th>\n",
       "      <td>1.52</td>\n",
       "      <td>54.48</td>\n",
       "    </tr>\n",
       "    <tr>\n",
       "      <th>3</th>\n",
       "      <td>1.55</td>\n",
       "      <td>55.84</td>\n",
       "    </tr>\n",
       "    <tr>\n",
       "      <th>4</th>\n",
       "      <td>1.57</td>\n",
       "      <td>57.20</td>\n",
       "    </tr>\n",
       "  </tbody>\n",
       "</table>\n",
       "</div>"
      ],
      "text/plain": [
       "      X      y\n",
       "0  1.47  52.21\n",
       "1  1.50  53.12\n",
       "2  1.52  54.48\n",
       "3  1.55  55.84\n",
       "4  1.57  57.20"
      ]
     },
     "execution_count": 8,
     "metadata": {},
     "output_type": "execute_result"
    }
   ],
   "source": [
    "# fake dataset\n",
    "df_fake = pd.DataFrame([X,y.ravel()],index = ['X','y']).T\n",
    "df_fake.head()"
   ]
  },
  {
   "cell_type": "code",
   "execution_count": 9,
   "metadata": {},
   "outputs": [
    {
     "name": "stderr",
     "output_type": "stream",
     "text": [
      "c:\\Users\\User\\AppData\\Local\\Programs\\Python\\Python312\\Lib\\site-packages\\scipy\\stats\\_axis_nan_policy.py:418: UserWarning: `kurtosistest` p-value may be inaccurate with fewer than 20 observations; only n=15 observations were given.\n",
      "  return hypotest_fun_in(*args, **kwds)\n"
     ]
    },
    {
     "data": {
      "text/html": [
       "<table class=\"simpletable\">\n",
       "<tr>\n",
       "      <td></td>         <th>coef</th>     <th>std err</th>      <th>t</th>      <th>P>|t|</th>  <th>[0.025</th>    <th>0.975]</th>  \n",
       "</tr>\n",
       "<tr>\n",
       "  <th>Intercept</th> <td>  -39.0620</td> <td>    2.938</td> <td>  -13.295</td> <td> 0.000</td> <td>  -45.409</td> <td>  -32.715</td>\n",
       "</tr>\n",
       "<tr>\n",
       "  <th>X</th>         <td>   61.2722</td> <td>    1.776</td> <td>   34.502</td> <td> 0.000</td> <td>   57.436</td> <td>   65.109</td>\n",
       "</tr>\n",
       "</table>"
      ],
      "text/latex": [
       "\\begin{center}\n",
       "\\begin{tabular}{lcccccc}\n",
       "\\toprule\n",
       "                   & \\textbf{coef} & \\textbf{std err} & \\textbf{t} & \\textbf{P$> |$t$|$} & \\textbf{[0.025} & \\textbf{0.975]}  \\\\\n",
       "\\midrule\n",
       "\\textbf{Intercept} &     -39.0620  &        2.938     &   -13.295  &         0.000        &      -45.409    &      -32.715     \\\\\n",
       "\\textbf{X}         &      61.2722  &        1.776     &    34.502  &         0.000        &       57.436    &       65.109     \\\\\n",
       "\\bottomrule\n",
       "\\end{tabular}\n",
       "\\end{center}"
      ],
      "text/plain": [
       "<class 'statsmodels.iolib.table.SimpleTable'>"
      ]
     },
     "execution_count": 9,
     "metadata": {},
     "output_type": "execute_result"
    }
   ],
   "source": [
    "# By statsmodel package formula api\n",
    "model_f = smf.ols('y ~ X',data = df_fake).fit()\n",
    "model_f.summary().tables[1]"
   ]
  },
  {
   "cell_type": "code",
   "execution_count": 10,
   "metadata": {},
   "outputs": [
    {
     "name": "stderr",
     "output_type": "stream",
     "text": [
      "c:\\Users\\User\\AppData\\Local\\Programs\\Python\\Python312\\Lib\\site-packages\\scipy\\stats\\_axis_nan_policy.py:418: UserWarning: `kurtosistest` p-value may be inaccurate with fewer than 20 observations; only n=15 observations were given.\n",
      "  return hypotest_fun_in(*args, **kwds)\n"
     ]
    },
    {
     "data": {
      "text/html": [
       "<table class=\"simpletable\">\n",
       "<tr>\n",
       "    <td></td>       <th>coef</th>     <th>std err</th>      <th>t</th>      <th>P>|t|</th>  <th>[0.025</th>    <th>0.975]</th>  \n",
       "</tr>\n",
       "<tr>\n",
       "  <th>const</th> <td>  -39.0620</td> <td>    2.938</td> <td>  -13.295</td> <td> 0.000</td> <td>  -45.409</td> <td>  -32.715</td>\n",
       "</tr>\n",
       "<tr>\n",
       "  <th>x1</th>    <td>   61.2722</td> <td>    1.776</td> <td>   34.502</td> <td> 0.000</td> <td>   57.436</td> <td>   65.109</td>\n",
       "</tr>\n",
       "</table>"
      ],
      "text/latex": [
       "\\begin{center}\n",
       "\\begin{tabular}{lcccccc}\n",
       "\\toprule\n",
       "               & \\textbf{coef} & \\textbf{std err} & \\textbf{t} & \\textbf{P$> |$t$|$} & \\textbf{[0.025} & \\textbf{0.975]}  \\\\\n",
       "\\midrule\n",
       "\\textbf{const} &     -39.0620  &        2.938     &   -13.295  &         0.000        &      -45.409    &      -32.715     \\\\\n",
       "\\textbf{x1}    &      61.2722  &        1.776     &    34.502  &         0.000        &       57.436    &       65.109     \\\\\n",
       "\\bottomrule\n",
       "\\end{tabular}\n",
       "\\end{center}"
      ],
      "text/plain": [
       "<class 'statsmodels.iolib.table.SimpleTable'>"
      ]
     },
     "execution_count": 10,
     "metadata": {},
     "output_type": "execute_result"
    }
   ],
   "source": [
    "# By statsmodel another api\n",
    "sm.OLS(y,Xm).fit().summary().tables[1]"
   ]
  },
  {
   "cell_type": "code",
   "execution_count": 11,
   "metadata": {},
   "outputs": [
    {
     "data": {
      "text/plain": [
       "array([-39.06195592,  61.27218654])"
      ]
     },
     "metadata": {},
     "output_type": "display_data"
    }
   ],
   "source": [
    "# ML tools\n",
    "lm = LinearRegression()\n",
    "lm.fit(X.reshape(-1,1),y)\n",
    "display(np.concatenate([lm.intercept_,lm.coef_[0]]))"
   ]
  },
  {
   "cell_type": "markdown",
   "metadata": {},
   "source": [
    "***\n",
    "## Constraint Least Square\n",
    "***"
   ]
  },
  {
   "cell_type": "code",
   "execution_count": 12,
   "metadata": {},
   "outputs": [
    {
     "data": {
      "text/html": [
       "<div>\n",
       "<style scoped>\n",
       "    .dataframe tbody tr th:only-of-type {\n",
       "        vertical-align: middle;\n",
       "    }\n",
       "\n",
       "    .dataframe tbody tr th {\n",
       "        vertical-align: top;\n",
       "    }\n",
       "\n",
       "    .dataframe thead th {\n",
       "        text-align: right;\n",
       "    }\n",
       "</style>\n",
       "<table border=\"1\" class=\"dataframe\">\n",
       "  <thead>\n",
       "    <tr style=\"text-align: right;\">\n",
       "      <th></th>\n",
       "      <th>sr</th>\n",
       "      <th>pop15</th>\n",
       "      <th>pop75</th>\n",
       "      <th>dpi</th>\n",
       "      <th>ddpi</th>\n",
       "    </tr>\n",
       "  </thead>\n",
       "  <tbody>\n",
       "    <tr>\n",
       "      <th>Australia</th>\n",
       "      <td>11.43</td>\n",
       "      <td>29.35</td>\n",
       "      <td>2.87</td>\n",
       "      <td>2329.68</td>\n",
       "      <td>2.87</td>\n",
       "    </tr>\n",
       "    <tr>\n",
       "      <th>Austria</th>\n",
       "      <td>12.07</td>\n",
       "      <td>23.32</td>\n",
       "      <td>4.41</td>\n",
       "      <td>1507.99</td>\n",
       "      <td>3.93</td>\n",
       "    </tr>\n",
       "    <tr>\n",
       "      <th>Belgium</th>\n",
       "      <td>13.17</td>\n",
       "      <td>23.80</td>\n",
       "      <td>4.43</td>\n",
       "      <td>2108.47</td>\n",
       "      <td>3.82</td>\n",
       "    </tr>\n",
       "    <tr>\n",
       "      <th>Bolivia</th>\n",
       "      <td>5.75</td>\n",
       "      <td>41.89</td>\n",
       "      <td>1.67</td>\n",
       "      <td>189.13</td>\n",
       "      <td>0.22</td>\n",
       "    </tr>\n",
       "    <tr>\n",
       "      <th>Brazil</th>\n",
       "      <td>12.88</td>\n",
       "      <td>42.19</td>\n",
       "      <td>0.83</td>\n",
       "      <td>728.47</td>\n",
       "      <td>4.56</td>\n",
       "    </tr>\n",
       "  </tbody>\n",
       "</table>\n",
       "</div>"
      ],
      "text/plain": [
       "              sr  pop15  pop75      dpi  ddpi\n",
       "Australia  11.43  29.35   2.87  2329.68  2.87\n",
       "Austria    12.07  23.32   4.41  1507.99  3.93\n",
       "Belgium    13.17  23.80   4.43  2108.47  3.82\n",
       "Bolivia     5.75  41.89   1.67   189.13  0.22\n",
       "Brazil     12.88  42.19   0.83   728.47  4.56"
      ]
     },
     "execution_count": 12,
     "metadata": {},
     "output_type": "execute_result"
    }
   ],
   "source": [
    "df_sav = savings.load()\n",
    "df_sav.head()"
   ]
  },
  {
   "cell_type": "code",
   "execution_count": 13,
   "metadata": {},
   "outputs": [
    {
     "data": {
      "text/plain": [
       "array([[ 5.22292317],\n",
       "       [ 0.90182819],\n",
       "       [-0.90182819],\n",
       "       [ 0.00024118],\n",
       "       [ 0.00608082]])"
      ]
     },
     "execution_count": 13,
     "metadata": {},
     "output_type": "execute_result"
    }
   ],
   "source": [
    "Xc = sm.add_constant(df_sav.values[:,1:])\n",
    "yc = df_sav.values[:,1].reshape(-1,1)\n",
    "Am = np.array([[0,1,1,0,0]])\n",
    "const = np.array([[0]])\n",
    "iXtX = np.linalg.inv(Xc.T @ Xc)\n",
    "beta_ols = iXtX @ (Xc.T @ yc)\n",
    "beta_cls = beta_ols - iXtX @ Am.T @ np.linalg.inv(Am @ iXtX @ Am.T) @ (Am @ beta_ols - const)\n",
    "beta_cls"
   ]
  },
  {
   "cell_type": "code",
   "execution_count": 14,
   "metadata": {},
   "outputs": [
    {
     "data": {
      "text/plain": [
       "array([[ 5.22292317],\n",
       "       [ 0.90182819],\n",
       "       [-0.90182819],\n",
       "       [ 0.00024118],\n",
       "       [ 0.00608082]])"
      ]
     },
     "metadata": {},
     "output_type": "display_data"
    }
   ],
   "source": [
    "# Create Variable\n",
    "beta = cp.Variable((5,1))\n",
    "# Set objective function\n",
    "obj = cp.Minimize(cp.sum_squares(yc - Xc @ beta))\n",
    "# Set Constraint\n",
    "cstr = [Am @ beta == const]\n",
    "# Solver\n",
    "problem = cp.Problem(obj,cstr)\n",
    "problem.solve()\n",
    "# 結果\n",
    "display(beta.value)"
   ]
  },
  {
   "cell_type": "markdown",
   "metadata": {},
   "source": [
    "***\n",
    "## Projection Matrix\n",
    "***"
   ]
  },
  {
   "cell_type": "code",
   "execution_count": 15,
   "metadata": {},
   "outputs": [
    {
     "data": {
      "text/plain": [
       "array([[-0., -0.],\n",
       "       [-0., -0.],\n",
       "       [-0., -0.],\n",
       "       [-0., -0.],\n",
       "       [-0., -0.],\n",
       "       [-0., -0.],\n",
       "       [-0., -0.],\n",
       "       [-0., -0.],\n",
       "       [-0., -0.],\n",
       "       [-0., -0.],\n",
       "       [-0., -0.],\n",
       "       [-0., -0.],\n",
       "       [-0., -0.],\n",
       "       [-0., -0.],\n",
       "       [-0., -0.]])"
      ]
     },
     "metadata": {},
     "output_type": "display_data"
    },
    {
     "data": {
      "text/plain": [
       "array([[-0.],\n",
       "       [-0.],\n",
       "       [-0.],\n",
       "       [-0.],\n",
       "       [-0.],\n",
       "       [-0.],\n",
       "       [-0.],\n",
       "       [-0.],\n",
       "       [-0.],\n",
       "       [-0.],\n",
       "       [-0.],\n",
       "       [-0.],\n",
       "       [-0.],\n",
       "       [-0.],\n",
       "       [-0.]])"
      ]
     },
     "metadata": {},
     "output_type": "display_data"
    }
   ],
   "source": [
    "P = Xm @ np.linalg.inv(Xm.T @ Xm) @ Xm.T\n",
    "display(P @ Xm - Xm,\n",
    "        P @ y - model_f.fittedvalues.values.reshape(-1,1))"
   ]
  },
  {
   "cell_type": "markdown",
   "metadata": {},
   "source": [
    "***\n",
    "## ANOVA decomposition\n",
    "***"
   ]
  },
  {
   "cell_type": "code",
   "execution_count": 16,
   "metadata": {},
   "outputs": [
    {
     "data": {
      "text/plain": [
       "{'SST': array([[693.37264]]),\n",
       " 'SSR': array([[685.8820816]]),\n",
       " 'SSE': array([[7.4905584]])}"
      ]
     },
     "metadata": {},
     "output_type": "display_data"
    },
    {
     "data": {
      "text/html": [
       "<div>\n",
       "<style scoped>\n",
       "    .dataframe tbody tr th:only-of-type {\n",
       "        vertical-align: middle;\n",
       "    }\n",
       "\n",
       "    .dataframe tbody tr th {\n",
       "        vertical-align: top;\n",
       "    }\n",
       "\n",
       "    .dataframe thead th {\n",
       "        text-align: right;\n",
       "    }\n",
       "</style>\n",
       "<table border=\"1\" class=\"dataframe\">\n",
       "  <thead>\n",
       "    <tr style=\"text-align: right;\">\n",
       "      <th></th>\n",
       "      <th>df</th>\n",
       "      <th>sum_sq</th>\n",
       "      <th>mean_sq</th>\n",
       "      <th>F</th>\n",
       "      <th>PR(&gt;F)</th>\n",
       "    </tr>\n",
       "  </thead>\n",
       "  <tbody>\n",
       "    <tr>\n",
       "      <th>X</th>\n",
       "      <td>1.0</td>\n",
       "      <td>685.882082</td>\n",
       "      <td>685.882082</td>\n",
       "      <td>1190.360796</td>\n",
       "      <td>3.603515e-14</td>\n",
       "    </tr>\n",
       "    <tr>\n",
       "      <th>Residual</th>\n",
       "      <td>13.0</td>\n",
       "      <td>7.490558</td>\n",
       "      <td>0.576197</td>\n",
       "      <td>NaN</td>\n",
       "      <td>NaN</td>\n",
       "    </tr>\n",
       "  </tbody>\n",
       "</table>\n",
       "</div>"
      ],
      "text/plain": [
       "            df      sum_sq     mean_sq            F        PR(>F)\n",
       "X          1.0  685.882082  685.882082  1190.360796  3.603515e-14\n",
       "Residual  13.0    7.490558    0.576197          NaN           NaN"
      ]
     },
     "metadata": {},
     "output_type": "display_data"
    }
   ],
   "source": [
    "vec1 = np.ones(y.shape)\n",
    "I = np.eye(vec1.shape[0])\n",
    "J = (vec1 @ vec1.T) / vec1.shape[0]\n",
    "anova_decomp = {'SST':y.T @ (I - J) @ y,\n",
    "                'SSR':y.T @ (P - J) @ y,\n",
    "                'SSE':y.T @ (I - P) @ y}\n",
    "anova_default = sm.stats.anova_lm(model_f)\n",
    "display(anova_decomp,\n",
    "        anova_default)"
   ]
  },
  {
   "cell_type": "markdown",
   "metadata": {},
   "source": [
    "***\n",
    "## Hypothesis Testing\n",
    "***"
   ]
  },
  {
   "cell_type": "code",
   "execution_count": 17,
   "metadata": {},
   "outputs": [
    {
     "data": {
      "text/html": [
       "<table class=\"simpletable\">\n",
       "<caption>OLS Regression Results</caption>\n",
       "<tr>\n",
       "  <th>Dep. Variable:</th>       <td>sr</td>     <th>  R-squared:         </th> <td>   0.338</td>\n",
       "</tr>\n",
       "<tr>\n",
       "  <th>Model:</th>               <td>OLS</td>    <th>  Adj. R-squared:    </th> <td>   0.280</td>\n",
       "</tr>\n",
       "<tr>\n",
       "  <th>No. Observations:</th>  <td>    50</td>   <th>  F-statistic:       </th> <td>   5.756</td>\n",
       "</tr>\n",
       "<tr>\n",
       "  <th>Covariance Type:</th>  <td>nonrobust</td> <th>  Prob (F-statistic):</th> <td>0.000790</td>\n",
       "</tr>\n",
       "</table>\n",
       "<table class=\"simpletable\">\n",
       "<tr>\n",
       "      <td></td>         <th>coef</th>     <th>std err</th>      <th>t</th>      <th>P>|t|</th>  <th>[0.025</th>    <th>0.975]</th>  \n",
       "</tr>\n",
       "<tr>\n",
       "  <th>Intercept</th> <td>   28.5661</td> <td>    7.355</td> <td>    3.884</td> <td> 0.000</td> <td>   13.753</td> <td>   43.379</td>\n",
       "</tr>\n",
       "<tr>\n",
       "  <th>pop15</th>     <td>   -0.4612</td> <td>    0.145</td> <td>   -3.189</td> <td> 0.003</td> <td>   -0.753</td> <td>   -0.170</td>\n",
       "</tr>\n",
       "<tr>\n",
       "  <th>pop75</th>     <td>   -1.6915</td> <td>    1.084</td> <td>   -1.561</td> <td> 0.126</td> <td>   -3.874</td> <td>    0.491</td>\n",
       "</tr>\n",
       "<tr>\n",
       "  <th>dpi</th>       <td>   -0.0003</td> <td>    0.001</td> <td>   -0.362</td> <td> 0.719</td> <td>   -0.002</td> <td>    0.002</td>\n",
       "</tr>\n",
       "<tr>\n",
       "  <th>ddpi</th>      <td>    0.4097</td> <td>    0.196</td> <td>    2.088</td> <td> 0.042</td> <td>    0.015</td> <td>    0.805</td>\n",
       "</tr>\n",
       "</table><br/><br/>Notes:<br/>[1] Standard Errors assume that the covariance matrix of the errors is correctly specified.<br/>[2] The condition number is large, 2.04e+04. This might indicate that there are<br/>strong multicollinearity or other numerical problems."
      ],
      "text/latex": [
       "\\begin{center}\n",
       "\\begin{tabular}{lclc}\n",
       "\\toprule\n",
       "\\textbf{Dep. Variable:}    &       sr      & \\textbf{  R-squared:         } &     0.338   \\\\\n",
       "\\textbf{Model:}            &      OLS      & \\textbf{  Adj. R-squared:    } &     0.280   \\\\\n",
       "\\textbf{No. Observations:} &         50    & \\textbf{  F-statistic:       } &     5.756   \\\\\n",
       "\\textbf{Covariance Type:}  &   nonrobust   & \\textbf{  Prob (F-statistic):} &  0.000790   \\\\\n",
       "\\bottomrule\n",
       "\\end{tabular}\n",
       "\\begin{tabular}{lcccccc}\n",
       "                   & \\textbf{coef} & \\textbf{std err} & \\textbf{t} & \\textbf{P$> |$t$|$} & \\textbf{[0.025} & \\textbf{0.975]}  \\\\\n",
       "\\midrule\n",
       "\\textbf{Intercept} &      28.5661  &        7.355     &     3.884  &         0.000        &       13.753    &       43.379     \\\\\n",
       "\\textbf{pop15}     &      -0.4612  &        0.145     &    -3.189  &         0.003        &       -0.753    &       -0.170     \\\\\n",
       "\\textbf{pop75}     &      -1.6915  &        1.084     &    -1.561  &         0.126        &       -3.874    &        0.491     \\\\\n",
       "\\textbf{dpi}       &      -0.0003  &        0.001     &    -0.362  &         0.719        &       -0.002    &        0.002     \\\\\n",
       "\\textbf{ddpi}      &       0.4097  &        0.196     &     2.088  &         0.042        &        0.015    &        0.805     \\\\\n",
       "\\bottomrule\n",
       "\\end{tabular}\n",
       "%\\caption{OLS Regression Results}\n",
       "\\end{center}\n",
       "\n",
       "Notes: \\newline\n",
       " [1] Standard Errors assume that the covariance matrix of the errors is correctly specified. \\newline\n",
       " [2] The condition number is large, 2.04e+04. This might indicate that there are \\newline\n",
       " strong multicollinearity or other numerical problems."
      ],
      "text/plain": [
       "<class 'statsmodels.iolib.summary.Summary'>\n",
       "\"\"\"\n",
       "                            OLS Regression Results                            \n",
       "==============================================================================\n",
       "Dep. Variable:                     sr   R-squared:                       0.338\n",
       "Model:                            OLS   Adj. R-squared:                  0.280\n",
       "No. Observations:                  50   F-statistic:                     5.756\n",
       "Covariance Type:            nonrobust   Prob (F-statistic):           0.000790\n",
       "==============================================================================\n",
       "                 coef    std err          t      P>|t|      [0.025      0.975]\n",
       "------------------------------------------------------------------------------\n",
       "Intercept     28.5661      7.355      3.884      0.000      13.753      43.379\n",
       "pop15         -0.4612      0.145     -3.189      0.003      -0.753      -0.170\n",
       "pop75         -1.6915      1.084     -1.561      0.126      -3.874       0.491\n",
       "dpi           -0.0003      0.001     -0.362      0.719      -0.002       0.002\n",
       "ddpi           0.4097      0.196      2.088      0.042       0.015       0.805\n",
       "==============================================================================\n",
       "\n",
       "Notes:\n",
       "[1] Standard Errors assume that the covariance matrix of the errors is correctly specified.\n",
       "[2] The condition number is large, 2.04e+04. This might indicate that there are\n",
       "strong multicollinearity or other numerical problems.\n",
       "\"\"\""
      ]
     },
     "metadata": {},
     "output_type": "display_data"
    },
    {
     "data": {
      "text/html": [
       "<div>\n",
       "<style scoped>\n",
       "    .dataframe tbody tr th:only-of-type {\n",
       "        vertical-align: middle;\n",
       "    }\n",
       "\n",
       "    .dataframe tbody tr th {\n",
       "        vertical-align: top;\n",
       "    }\n",
       "\n",
       "    .dataframe thead th {\n",
       "        text-align: right;\n",
       "    }\n",
       "</style>\n",
       "<table border=\"1\" class=\"dataframe\">\n",
       "  <thead>\n",
       "    <tr style=\"text-align: right;\">\n",
       "      <th></th>\n",
       "      <th>df</th>\n",
       "      <th>sum_sq</th>\n",
       "      <th>mean_sq</th>\n",
       "      <th>F</th>\n",
       "      <th>PR(&gt;F)</th>\n",
       "    </tr>\n",
       "  </thead>\n",
       "  <tbody>\n",
       "    <tr>\n",
       "      <th>pop15</th>\n",
       "      <td>1.0</td>\n",
       "      <td>204.117565</td>\n",
       "      <td>204.117565</td>\n",
       "      <td>14.115732</td>\n",
       "      <td>0.000492</td>\n",
       "    </tr>\n",
       "    <tr>\n",
       "      <th>pop75</th>\n",
       "      <td>1.0</td>\n",
       "      <td>53.342710</td>\n",
       "      <td>53.342710</td>\n",
       "      <td>3.688910</td>\n",
       "      <td>0.061125</td>\n",
       "    </tr>\n",
       "    <tr>\n",
       "      <th>dpi</th>\n",
       "      <td>1.0</td>\n",
       "      <td>12.400946</td>\n",
       "      <td>12.400946</td>\n",
       "      <td>0.857586</td>\n",
       "      <td>0.359355</td>\n",
       "    </tr>\n",
       "    <tr>\n",
       "      <th>ddpi</th>\n",
       "      <td>1.0</td>\n",
       "      <td>63.054031</td>\n",
       "      <td>63.054031</td>\n",
       "      <td>4.360496</td>\n",
       "      <td>0.042471</td>\n",
       "    </tr>\n",
       "    <tr>\n",
       "      <th>Residual</th>\n",
       "      <td>45.0</td>\n",
       "      <td>650.712998</td>\n",
       "      <td>14.460289</td>\n",
       "      <td>NaN</td>\n",
       "      <td>NaN</td>\n",
       "    </tr>\n",
       "  </tbody>\n",
       "</table>\n",
       "</div>"
      ],
      "text/plain": [
       "            df      sum_sq     mean_sq          F    PR(>F)\n",
       "pop15      1.0  204.117565  204.117565  14.115732  0.000492\n",
       "pop75      1.0   53.342710   53.342710   3.688910  0.061125\n",
       "dpi        1.0   12.400946   12.400946   0.857586  0.359355\n",
       "ddpi       1.0   63.054031   63.054031   4.360496  0.042471\n",
       "Residual  45.0  650.712998   14.460289        NaN       NaN"
      ]
     },
     "metadata": {},
     "output_type": "display_data"
    }
   ],
   "source": [
    "# Complete model\n",
    "full_model = smf.ols('sr ~ pop15 + pop75 + dpi + ddpi',data = df_sav).fit()\n",
    "display(full_model.summary(slim = True),\n",
    "        sm.stats.anova_lm(full_model))"
   ]
  },
  {
   "cell_type": "code",
   "execution_count": 18,
   "metadata": {},
   "outputs": [
    {
     "data": {
      "text/html": [
       "<div>\n",
       "<style scoped>\n",
       "    .dataframe tbody tr th:only-of-type {\n",
       "        vertical-align: middle;\n",
       "    }\n",
       "\n",
       "    .dataframe tbody tr th {\n",
       "        vertical-align: top;\n",
       "    }\n",
       "\n",
       "    .dataframe thead th {\n",
       "        text-align: right;\n",
       "    }\n",
       "</style>\n",
       "<table border=\"1\" class=\"dataframe\">\n",
       "  <thead>\n",
       "    <tr style=\"text-align: right;\">\n",
       "      <th></th>\n",
       "      <th>df_resid</th>\n",
       "      <th>ssr</th>\n",
       "      <th>df_diff</th>\n",
       "      <th>ss_diff</th>\n",
       "      <th>F</th>\n",
       "      <th>Pr(&gt;F)</th>\n",
       "    </tr>\n",
       "  </thead>\n",
       "  <tbody>\n",
       "    <tr>\n",
       "      <th>1</th>\n",
       "      <td>45.0</td>\n",
       "      <td>650.712998</td>\n",
       "      <td>4.0</td>\n",
       "      <td>332.915252</td>\n",
       "      <td>5.755681</td>\n",
       "      <td>0.00079</td>\n",
       "    </tr>\n",
       "  </tbody>\n",
       "</table>\n",
       "</div>"
      ],
      "text/plain": [
       "   df_resid         ssr  df_diff     ss_diff         F   Pr(>F)\n",
       "1      45.0  650.712998      4.0  332.915252  5.755681  0.00079"
      ]
     },
     "execution_count": 18,
     "metadata": {},
     "output_type": "execute_result"
    }
   ],
   "source": [
    "# Test all predictors\n",
    "reduce_model = smf.ols('sr ~ 1',data = df_sav).fit()\n",
    "sm.stats.anova_lm(reduce_model,full_model).dropna()"
   ]
  },
  {
   "cell_type": "code",
   "execution_count": 19,
   "metadata": {},
   "outputs": [
    {
     "data": {
      "text/html": [
       "<div>\n",
       "<style scoped>\n",
       "    .dataframe tbody tr th:only-of-type {\n",
       "        vertical-align: middle;\n",
       "    }\n",
       "\n",
       "    .dataframe tbody tr th {\n",
       "        vertical-align: top;\n",
       "    }\n",
       "\n",
       "    .dataframe thead th {\n",
       "        text-align: right;\n",
       "    }\n",
       "</style>\n",
       "<table border=\"1\" class=\"dataframe\">\n",
       "  <thead>\n",
       "    <tr style=\"text-align: right;\">\n",
       "      <th></th>\n",
       "      <th>F</th>\n",
       "      <th>Pr(&gt;F)</th>\n",
       "    </tr>\n",
       "  </thead>\n",
       "  <tbody>\n",
       "    <tr>\n",
       "      <th>Test coef of pop15 = 0</th>\n",
       "      <td>10.166595</td>\n",
       "      <td>0.002603</td>\n",
       "    </tr>\n",
       "    <tr>\n",
       "      <th>Test coef of pop75 = 0</th>\n",
       "      <td>2.436720</td>\n",
       "      <td>0.125530</td>\n",
       "    </tr>\n",
       "    <tr>\n",
       "      <th>Test coef of dpi = 0</th>\n",
       "      <td>0.130920</td>\n",
       "      <td>0.719173</td>\n",
       "    </tr>\n",
       "    <tr>\n",
       "      <th>Test coef of ddpi = 0</th>\n",
       "      <td>4.360496</td>\n",
       "      <td>0.042471</td>\n",
       "    </tr>\n",
       "  </tbody>\n",
       "</table>\n",
       "</div>"
      ],
      "text/plain": [
       "                                F    Pr(>F)\n",
       "Test coef of pop15 = 0  10.166595  0.002603\n",
       "Test coef of pop75 = 0   2.436720  0.125530\n",
       "Test coef of dpi = 0     0.130920  0.719173\n",
       "Test coef of ddpi = 0    4.360496  0.042471"
      ]
     },
     "execution_count": 19,
     "metadata": {},
     "output_type": "execute_result"
    }
   ],
   "source": [
    "# Test one predictor\n",
    "X_names = ['pop15','pop75','dpi','ddpi']\n",
    "dL = pd.DataFrame([])\n",
    "for k in X_names:\n",
    "    tmp = X_names.copy()\n",
    "    tmp.remove(k)\n",
    "    model_1 = smf.ols('sr ~ ' + ' + '.join(tmp),data = df_sav).fit()\n",
    "    res = sm.stats.anova_lm(model_1,full_model).dropna()\n",
    "    res.index = [f'Test coef of {k} = 0']\n",
    "    dL = pd.concat([dL,res[['F','Pr(>F)']]])\n",
    "dL"
   ]
  },
  {
   "cell_type": "code",
   "execution_count": 20,
   "metadata": {},
   "outputs": [
    {
     "data": {
      "text/plain": [
       "'Test coef of pop75 = dpi = 0'"
      ]
     },
     "metadata": {},
     "output_type": "display_data"
    },
    {
     "data": {
      "text/html": [
       "<div>\n",
       "<style scoped>\n",
       "    .dataframe tbody tr th:only-of-type {\n",
       "        vertical-align: middle;\n",
       "    }\n",
       "\n",
       "    .dataframe tbody tr th {\n",
       "        vertical-align: top;\n",
       "    }\n",
       "\n",
       "    .dataframe thead th {\n",
       "        text-align: right;\n",
       "    }\n",
       "</style>\n",
       "<table border=\"1\" class=\"dataframe\">\n",
       "  <thead>\n",
       "    <tr style=\"text-align: right;\">\n",
       "      <th></th>\n",
       "      <th>F</th>\n",
       "      <th>Pr(&gt;F)</th>\n",
       "    </tr>\n",
       "  </thead>\n",
       "  <tbody>\n",
       "    <tr>\n",
       "      <th>1</th>\n",
       "      <td>1.723301</td>\n",
       "      <td>0.190045</td>\n",
       "    </tr>\n",
       "  </tbody>\n",
       "</table>\n",
       "</div>"
      ],
      "text/plain": [
       "          F    Pr(>F)\n",
       "1  1.723301  0.190045"
      ]
     },
     "metadata": {},
     "output_type": "display_data"
    }
   ],
   "source": [
    "# Test pair of predictor\n",
    "model_2 = smf.ols('sr ~ pop15 + ddpi',data = df_sav).fit()\n",
    "display('Test coef of pop75 = dpi = 0',\n",
    "      \tsm.stats.anova_lm(model_2,full_model).dropna()[['F','Pr(>F)']])"
   ]
  },
  {
   "cell_type": "code",
   "execution_count": 21,
   "metadata": {},
   "outputs": [
    {
     "data": {
      "text/plain": [
       "'Test coef of pop15 = pop75'"
      ]
     },
     "metadata": {},
     "output_type": "display_data"
    },
    {
     "data": {
      "text/html": [
       "<div>\n",
       "<style scoped>\n",
       "    .dataframe tbody tr th:only-of-type {\n",
       "        vertical-align: middle;\n",
       "    }\n",
       "\n",
       "    .dataframe tbody tr th {\n",
       "        vertical-align: top;\n",
       "    }\n",
       "\n",
       "    .dataframe thead th {\n",
       "        text-align: right;\n",
       "    }\n",
       "</style>\n",
       "<table border=\"1\" class=\"dataframe\">\n",
       "  <thead>\n",
       "    <tr style=\"text-align: right;\">\n",
       "      <th></th>\n",
       "      <th>F</th>\n",
       "      <th>Pr(&gt;F)</th>\n",
       "    </tr>\n",
       "  </thead>\n",
       "  <tbody>\n",
       "    <tr>\n",
       "      <th>1</th>\n",
       "      <td>1.584652</td>\n",
       "      <td>0.214583</td>\n",
       "    </tr>\n",
       "  </tbody>\n",
       "</table>\n",
       "</div>"
      ],
      "text/plain": [
       "          F    Pr(>F)\n",
       "1  1.584652  0.214583"
      ]
     },
     "metadata": {},
     "output_type": "display_data"
    }
   ],
   "source": [
    "# Test subset bi = bj\n",
    "model_3 = smf.ols('sr ~ np.add(pop15,pop75) + dpi + ddpi',data = df_sav).fit()\n",
    "display('Test coef of pop15 = pop75',\n",
    "        sm.stats.anova_lm(model_3,full_model).dropna()[['F','Pr(>F)']])"
   ]
  },
  {
   "cell_type": "markdown",
   "metadata": {},
   "source": [
    "***\n",
    "## Linear Hypothesis Test\n",
    "***"
   ]
  },
  {
   "cell_type": "code",
   "execution_count": 22,
   "metadata": {},
   "outputs": [
    {
     "data": {
      "text/latex": [
       "$\\displaystyle \\left[\\begin{matrix}0 & 2 & -1 & 0 & 0\\\\0 & 0 & 1 & -2 & 3\\\\0 & 1 & 0 & 0 & -1\\end{matrix}\\right]$"
      ],
      "text/plain": [
       "Matrix([\n",
       "[0, 2, -1,  0,  0],\n",
       "[0, 0,  1, -2,  3],\n",
       "[0, 1,  0,  0, -1]])"
      ]
     },
     "metadata": {},
     "output_type": "display_data"
    },
    {
     "data": {
      "text/latex": [
       "$\\displaystyle \\left[\\begin{matrix}b_{0}\\\\b_{1}\\\\b_{2}\\\\b_{3}\\\\b_{4}\\end{matrix}\\right]$"
      ],
      "text/plain": [
       "Matrix([\n",
       "[b0],\n",
       "[b1],\n",
       "[b2],\n",
       "[b3],\n",
       "[b4]])"
      ]
     },
     "metadata": {},
     "output_type": "display_data"
    },
    {
     "data": {
      "text/latex": [
       "$\\displaystyle \\left[\\begin{matrix}2 b_{1} - b_{2}\\\\b_{2} - 2 b_{3} + 3 b_{4}\\\\b_{1} - b_{4}\\end{matrix}\\right]$"
      ],
      "text/plain": [
       "Matrix([\n",
       "[       2*b1 - b2],\n",
       "[b2 - 2*b3 + 3*b4],\n",
       "[         b1 - b4]])"
      ]
     },
     "metadata": {},
     "output_type": "display_data"
    }
   ],
   "source": [
    "b = sym.symbols('b0 b1 b2 b3 b4')\n",
    "coefL = [[0,2,-1,0,0],\n",
    "         [0,0,1,-2,3],\n",
    "         [0,1,0,0,-1]]\n",
    "betaL = sym.Matrix([b]).T\n",
    "Rm = sym.Matrix(coefL)\n",
    "display(Rm,\n",
    "        betaL,\n",
    "        Rm @ betaL)"
   ]
  },
  {
   "cell_type": "code",
   "execution_count": 23,
   "metadata": {},
   "outputs": [
    {
     "data": {
      "text/plain": [
       "array([[ 0,  2, -1,  0,  0],\n",
       "       [ 0,  0,  1, -2,  3],\n",
       "       [ 0,  1,  0,  0, -1]])"
      ]
     },
     "metadata": {},
     "output_type": "display_data"
    },
    {
     "data": {
      "text/plain": [
       "6.578550878189696"
      ]
     },
     "metadata": {},
     "output_type": "display_data"
    },
    {
     "data": {
      "text/plain": [
       "0.000879078484072512"
      ]
     },
     "metadata": {},
     "output_type": "display_data"
    }
   ],
   "source": [
    "r = np.array(coefL)\n",
    "LH_test = full_model.f_test(r)\n",
    "display(r,\n",
    "        LH_test.fvalue,\n",
    "        LH_test.pvalue.item())"
   ]
  },
  {
   "cell_type": "markdown",
   "metadata": {},
   "source": [
    "***\n",
    "## Confidence Interval\n",
    "***"
   ]
  },
  {
   "cell_type": "code",
   "execution_count": 24,
   "metadata": {},
   "outputs": [
    {
     "data": {
      "text/html": [
       "<div>\n",
       "<style scoped>\n",
       "    .dataframe tbody tr th:only-of-type {\n",
       "        vertical-align: middle;\n",
       "    }\n",
       "\n",
       "    .dataframe tbody tr th {\n",
       "        vertical-align: top;\n",
       "    }\n",
       "\n",
       "    .dataframe thead th {\n",
       "        text-align: right;\n",
       "    }\n",
       "</style>\n",
       "<table border=\"1\" class=\"dataframe\">\n",
       "  <thead>\n",
       "    <tr style=\"text-align: right;\">\n",
       "      <th></th>\n",
       "      <th>2.5%</th>\n",
       "      <th>97.5%</th>\n",
       "    </tr>\n",
       "  </thead>\n",
       "  <tbody>\n",
       "    <tr>\n",
       "      <th>Intercept</th>\n",
       "      <td>13.753331</td>\n",
       "      <td>43.378842</td>\n",
       "    </tr>\n",
       "    <tr>\n",
       "      <th>pop15</th>\n",
       "      <td>-0.752518</td>\n",
       "      <td>-0.169869</td>\n",
       "    </tr>\n",
       "    <tr>\n",
       "      <th>pop75</th>\n",
       "      <td>-3.873978</td>\n",
       "      <td>0.490983</td>\n",
       "    </tr>\n",
       "    <tr>\n",
       "      <th>dpi</th>\n",
       "      <td>-0.002212</td>\n",
       "      <td>0.001538</td>\n",
       "    </tr>\n",
       "    <tr>\n",
       "      <th>ddpi</th>\n",
       "      <td>0.014534</td>\n",
       "      <td>0.804856</td>\n",
       "    </tr>\n",
       "  </tbody>\n",
       "</table>\n",
       "</div>"
      ],
      "text/plain": [
       "                2.5%      97.5%\n",
       "Intercept  13.753331  43.378842\n",
       "pop15      -0.752518  -0.169869\n",
       "pop75      -3.873978   0.490983\n",
       "dpi        -0.002212   0.001538\n",
       "ddpi        0.014534   0.804856"
      ]
     },
     "execution_count": 24,
     "metadata": {},
     "output_type": "execute_result"
    }
   ],
   "source": [
    "# Confidence Interval for coefficients\n",
    "full_model.conf_int().rename(columns = {0:'2.5%',1:'97.5%'})"
   ]
  },
  {
   "cell_type": "code",
   "execution_count": 25,
   "metadata": {},
   "outputs": [
    {
     "data": {
      "text/plain": [
       "array([22.53900384])"
      ]
     },
     "metadata": {},
     "output_type": "display_data"
    },
    {
     "data": {
      "text/plain": [
       "array([[4.02867829]])"
      ]
     },
     "metadata": {},
     "output_type": "display_data"
    },
    {
     "data": {
      "text/plain": [
       "array([[14.42482924]])"
      ]
     },
     "metadata": {},
     "output_type": "display_data"
    },
    {
     "data": {
      "text/plain": [
       "array([[30.65317844]])"
      ]
     },
     "metadata": {},
     "output_type": "display_data"
    },
    {
     "data": {
      "text/plain": [
       "array([[11.38106418]])"
      ]
     },
     "metadata": {},
     "output_type": "display_data"
    },
    {
     "data": {
      "text/plain": [
       "array([[33.69694349]])"
      ]
     },
     "metadata": {},
     "output_type": "display_data"
    }
   ],
   "source": [
    "# By theorem\n",
    "pred_input1 = {'pop15':4,\n",
    "               'pop75':3,\n",
    "               'dpi':1000,\n",
    "               'ddpi':3}\n",
    "# yhat\n",
    "pred_y = full_model.predict(pred_input1).values\n",
    "# Get model matrix\n",
    "Xm = full_model.model.wexog\n",
    "x0 = np.array([1,4,3,1000,3]).reshape(-1,1)\n",
    "shat = np.sqrt(full_model.scale)\n",
    "df_resid = int(full_model.df_resid)\n",
    "sq_term = x0.T @ np.linalg.inv(Xm.T @ Xm) @ x0\n",
    "mr1 = np.sqrt(sq_term) * shat * scs.t.ppf(0.975,df_resid)\n",
    "mr2 = np.sqrt(1 + sq_term) * shat * scs.t.ppf(0.975,df_resid)\n",
    "display(pred_y,\n",
    "        np.sqrt(sq_term) * shat,\n",
    "        pred_y - mr1,\n",
    "\t\tpred_y + mr1,\n",
    "        pred_y - mr2,\n",
    "\t\tpred_y + mr2)"
   ]
  },
  {
   "cell_type": "code",
   "execution_count": 26,
   "metadata": {},
   "outputs": [
    {
     "data": {
      "text/html": [
       "<div>\n",
       "<style scoped>\n",
       "    .dataframe tbody tr th:only-of-type {\n",
       "        vertical-align: middle;\n",
       "    }\n",
       "\n",
       "    .dataframe tbody tr th {\n",
       "        vertical-align: top;\n",
       "    }\n",
       "\n",
       "    .dataframe thead th {\n",
       "        text-align: right;\n",
       "    }\n",
       "</style>\n",
       "<table border=\"1\" class=\"dataframe\">\n",
       "  <thead>\n",
       "    <tr style=\"text-align: right;\">\n",
       "      <th></th>\n",
       "      <th>mean</th>\n",
       "      <th>mean_se</th>\n",
       "      <th>mean_ci_lower</th>\n",
       "      <th>mean_ci_upper</th>\n",
       "      <th>obs_ci_lower</th>\n",
       "      <th>obs_ci_upper</th>\n",
       "    </tr>\n",
       "  </thead>\n",
       "  <tbody>\n",
       "    <tr>\n",
       "      <th>0</th>\n",
       "      <td>22.539004</td>\n",
       "      <td>4.028678</td>\n",
       "      <td>14.424829</td>\n",
       "      <td>30.653178</td>\n",
       "      <td>11.381064</td>\n",
       "      <td>33.696943</td>\n",
       "    </tr>\n",
       "  </tbody>\n",
       "</table>\n",
       "</div>"
      ],
      "text/plain": [
       "        mean   mean_se  mean_ci_lower  mean_ci_upper  obs_ci_lower  \\\n",
       "0  22.539004  4.028678      14.424829      30.653178     11.381064   \n",
       "\n",
       "   obs_ci_upper  \n",
       "0     33.696943  "
      ]
     },
     "execution_count": 26,
     "metadata": {},
     "output_type": "execute_result"
    }
   ],
   "source": [
    "# prediction interval\n",
    "full_model.get_prediction(pred_input1).summary_frame()"
   ]
  },
  {
   "cell_type": "code",
   "execution_count": 27,
   "metadata": {},
   "outputs": [
    {
     "data": {
      "text/html": [
       "<div>\n",
       "<style scoped>\n",
       "    .dataframe tbody tr th:only-of-type {\n",
       "        vertical-align: middle;\n",
       "    }\n",
       "\n",
       "    .dataframe tbody tr th {\n",
       "        vertical-align: top;\n",
       "    }\n",
       "\n",
       "    .dataframe thead th {\n",
       "        text-align: right;\n",
       "    }\n",
       "</style>\n",
       "<table border=\"1\" class=\"dataframe\">\n",
       "  <thead>\n",
       "    <tr style=\"text-align: right;\">\n",
       "      <th></th>\n",
       "      <th>mean</th>\n",
       "      <th>mean_se</th>\n",
       "      <th>mean_ci_lower</th>\n",
       "      <th>mean_ci_upper</th>\n",
       "      <th>obs_ci_lower</th>\n",
       "      <th>obs_ci_upper</th>\n",
       "    </tr>\n",
       "  </thead>\n",
       "  <tbody>\n",
       "    <tr>\n",
       "      <th>0</th>\n",
       "      <td>9.671</td>\n",
       "      <td>0.537779</td>\n",
       "      <td>8.587858</td>\n",
       "      <td>10.754142</td>\n",
       "      <td>1.935822</td>\n",
       "      <td>17.406178</td>\n",
       "    </tr>\n",
       "  </tbody>\n",
       "</table>\n",
       "</div>"
      ],
      "text/plain": [
       "    mean   mean_se  mean_ci_lower  mean_ci_upper  obs_ci_lower  obs_ci_upper\n",
       "0  9.671  0.537779       8.587858      10.754142      1.935822     17.406178"
      ]
     },
     "execution_count": 27,
     "metadata": {},
     "output_type": "execute_result"
    }
   ],
   "source": [
    "pred_input2 = pd.DataFrame(df_sav.iloc[:,1:].mean()).T\n",
    "full_model.get_prediction(pred_input2).summary_frame()"
   ]
  },
  {
   "cell_type": "markdown",
   "metadata": {},
   "source": [
    "***\n",
    "## Confidence Band\n",
    "***"
   ]
  },
  {
   "cell_type": "code",
   "execution_count": 28,
   "metadata": {},
   "outputs": [
    {
     "data": {
      "text/plain": [
       "[<matplotlib.lines.Line2D at 0x1771dfa18e0>]"
      ]
     },
     "execution_count": 28,
     "metadata": {},
     "output_type": "execute_result"
    },
    {
     "data": {
      "image/png": "[encoded data removed]",
      "text/plain": [
       "<Figure size 640x480 with 1 Axes>"
      ]
     },
     "metadata": {},
     "output_type": "display_data"
    }
   ],
   "source": [
    "grids = np.arange(0,10,0.1)\n",
    "dL = []\n",
    "for k in grids:\n",
    "    x0 = {j:df_sav[j].mean().item() if j in ['pop15','dpi','ddpi'] \n",
    "          else k.item() for j in df_sav.columns[1:]}\n",
    "    y0 = full_model.get_prediction(x0).summary_frame()\n",
    "    dL.append(y0)\n",
    "dL = pd.concat(dL)\n",
    "plt.plot(grids,dL['mean_ci_lower'],color = 'red',linestyle = 'dashed')\n",
    "plt.plot(grids,dL['mean_ci_upper'],color = 'red',linestyle = 'dashed')\n",
    "plt.plot(grids,dL['mean'],color = 'black')"
   ]
  },
  {
   "cell_type": "markdown",
   "metadata": {},
   "source": [
    "***\n",
    "## Orthogonality\n",
    "***\n"
   ]
  },
  {
   "cell_type": "code",
   "execution_count": 29,
   "metadata": {},
   "outputs": [
    {
     "data": {
      "text/html": [
       "<div>\n",
       "<style scoped>\n",
       "    .dataframe tbody tr th:only-of-type {\n",
       "        vertical-align: middle;\n",
       "    }\n",
       "\n",
       "    .dataframe tbody tr th {\n",
       "        vertical-align: top;\n",
       "    }\n",
       "\n",
       "    .dataframe thead th {\n",
       "        text-align: right;\n",
       "    }\n",
       "</style>\n",
       "<table border=\"1\" class=\"dataframe\">\n",
       "  <thead>\n",
       "    <tr style=\"text-align: right;\">\n",
       "      <th></th>\n",
       "      <th>odor</th>\n",
       "      <th>temp</th>\n",
       "      <th>gas</th>\n",
       "      <th>pack</th>\n",
       "    </tr>\n",
       "  </thead>\n",
       "  <tbody>\n",
       "    <tr>\n",
       "      <th>0</th>\n",
       "      <td>66</td>\n",
       "      <td>-1</td>\n",
       "      <td>-1</td>\n",
       "      <td>0</td>\n",
       "    </tr>\n",
       "    <tr>\n",
       "      <th>1</th>\n",
       "      <td>39</td>\n",
       "      <td>1</td>\n",
       "      <td>-1</td>\n",
       "      <td>0</td>\n",
       "    </tr>\n",
       "    <tr>\n",
       "      <th>2</th>\n",
       "      <td>43</td>\n",
       "      <td>-1</td>\n",
       "      <td>1</td>\n",
       "      <td>0</td>\n",
       "    </tr>\n",
       "    <tr>\n",
       "      <th>3</th>\n",
       "      <td>49</td>\n",
       "      <td>1</td>\n",
       "      <td>1</td>\n",
       "      <td>0</td>\n",
       "    </tr>\n",
       "    <tr>\n",
       "      <th>4</th>\n",
       "      <td>58</td>\n",
       "      <td>-1</td>\n",
       "      <td>0</td>\n",
       "      <td>-1</td>\n",
       "    </tr>\n",
       "  </tbody>\n",
       "</table>\n",
       "</div>"
      ],
      "text/plain": [
       "   odor  temp  gas  pack\n",
       "0    66    -1   -1     0\n",
       "1    39     1   -1     0\n",
       "2    43    -1    1     0\n",
       "3    49     1    1     0\n",
       "4    58    -1    0    -1"
      ]
     },
     "execution_count": 29,
     "metadata": {},
     "output_type": "execute_result"
    }
   ],
   "source": [
    "df_odor = odor.load()\n",
    "df_odor.head()"
   ]
  },
  {
   "cell_type": "code",
   "execution_count": 30,
   "metadata": {},
   "outputs": [
    {
     "data": {
      "text/plain": [
       "array([[    15.,   1200.,      0.,      0.],\n",
       "       [  1200., 108800.,      0.,      0.],\n",
       "       [     0.,      0.,      8.,      0.],\n",
       "       [     0.,      0.,      0.,      8.]])"
      ]
     },
     "execution_count": 30,
     "metadata": {},
     "output_type": "execute_result"
    }
   ],
   "source": [
    "Xd = df_odor.values[:,1:]\n",
    "Xm = sm.add_constant(Xd)\n",
    "Xm[:,1] = Xm[:,1] * 40 + 80\n",
    "np.around(Xm.T @ Xm,8)"
   ]
  },
  {
   "cell_type": "code",
   "execution_count": 31,
   "metadata": {},
   "outputs": [
    {
     "data": {
      "text/html": [
       "<div>\n",
       "<style scoped>\n",
       "    .dataframe tbody tr th:only-of-type {\n",
       "        vertical-align: middle;\n",
       "    }\n",
       "\n",
       "    .dataframe tbody tr th {\n",
       "        vertical-align: top;\n",
       "    }\n",
       "\n",
       "    .dataframe thead th {\n",
       "        text-align: right;\n",
       "    }\n",
       "</style>\n",
       "<table border=\"1\" class=\"dataframe\">\n",
       "  <thead>\n",
       "    <tr style=\"text-align: right;\">\n",
       "      <th></th>\n",
       "      <th>coef</th>\n",
       "      <th>t</th>\n",
       "      <th>P&gt;|t|</th>\n",
       "    </tr>\n",
       "  </thead>\n",
       "  <tbody>\n",
       "    <tr>\n",
       "      <th>Intercept</th>\n",
       "      <td>15.200</td>\n",
       "      <td>1.634735</td>\n",
       "      <td>0.130371</td>\n",
       "    </tr>\n",
       "    <tr>\n",
       "      <th>temp</th>\n",
       "      <td>-12.125</td>\n",
       "      <td>-0.952324</td>\n",
       "      <td>0.361390</td>\n",
       "    </tr>\n",
       "    <tr>\n",
       "      <th>gas</th>\n",
       "      <td>-17.000</td>\n",
       "      <td>-1.335218</td>\n",
       "      <td>0.208779</td>\n",
       "    </tr>\n",
       "    <tr>\n",
       "      <th>pack</th>\n",
       "      <td>-21.375</td>\n",
       "      <td>-1.678840</td>\n",
       "      <td>0.121332</td>\n",
       "    </tr>\n",
       "  </tbody>\n",
       "</table>\n",
       "</div>"
      ],
      "text/plain": [
       "             coef         t     P>|t|\n",
       "Intercept  15.200  1.634735  0.130371\n",
       "temp      -12.125 -0.952324  0.361390\n",
       "gas       -17.000 -1.335218  0.208779\n",
       "pack      -21.375 -1.678840  0.121332"
      ]
     },
     "execution_count": 31,
     "metadata": {},
     "output_type": "execute_result"
    }
   ],
   "source": [
    "res1 = smf.ols('odor ~ temp + gas + pack',data = df_odor).fit()\n",
    "res2 = smf.ols('odor ~ gas + pack',data = df_odor).fit()\n",
    "pd.concat([res1.params,res1.tvalues,res1.pvalues],axis = 1).rename(columns = {0:'coef',1:'t',2:'P>|t|'})"
   ]
  },
  {
   "cell_type": "code",
   "execution_count": 32,
   "metadata": {},
   "outputs": [
    {
     "data": {
      "text/html": [
       "<div>\n",
       "<style scoped>\n",
       "    .dataframe tbody tr th:only-of-type {\n",
       "        vertical-align: middle;\n",
       "    }\n",
       "\n",
       "    .dataframe tbody tr th {\n",
       "        vertical-align: top;\n",
       "    }\n",
       "\n",
       "    .dataframe thead th {\n",
       "        text-align: right;\n",
       "    }\n",
       "</style>\n",
       "<table border=\"1\" class=\"dataframe\">\n",
       "  <thead>\n",
       "    <tr style=\"text-align: right;\">\n",
       "      <th></th>\n",
       "      <th>coef</th>\n",
       "      <th>t</th>\n",
       "      <th>P&gt;|t|</th>\n",
       "    </tr>\n",
       "  </thead>\n",
       "  <tbody>\n",
       "    <tr>\n",
       "      <th>Intercept</th>\n",
       "      <td>15.200</td>\n",
       "      <td>1.641112</td>\n",
       "      <td>0.126704</td>\n",
       "    </tr>\n",
       "    <tr>\n",
       "      <th>gas</th>\n",
       "      <td>-17.000</td>\n",
       "      <td>-1.340426</td>\n",
       "      <td>0.204933</td>\n",
       "    </tr>\n",
       "    <tr>\n",
       "      <th>pack</th>\n",
       "      <td>-21.375</td>\n",
       "      <td>-1.685389</td>\n",
       "      <td>0.117719</td>\n",
       "    </tr>\n",
       "  </tbody>\n",
       "</table>\n",
       "</div>"
      ],
      "text/plain": [
       "             coef         t     P>|t|\n",
       "Intercept  15.200  1.641112  0.126704\n",
       "gas       -17.000 -1.340426  0.204933\n",
       "pack      -21.375 -1.685389  0.117719"
      ]
     },
     "execution_count": 32,
     "metadata": {},
     "output_type": "execute_result"
    }
   ],
   "source": [
    "pd.concat([res2.params,res2.tvalues,res2.pvalues],axis = 1).rename(columns = {0:'coef',1:'t',2:'P>|t|'})"
   ]
  },
  {
   "cell_type": "markdown",
   "metadata": {},
   "source": [
    "***\n",
    "## Identifiability\n",
    "***"
   ]
  },
  {
   "cell_type": "code",
   "execution_count": 33,
   "metadata": {},
   "outputs": [
    {
     "data": {
      "text/html": [
       "<table class=\"simpletable\">\n",
       "<caption>OLS Regression Results</caption>\n",
       "<tr>\n",
       "  <th>Dep. Variable:</th>       <td>sr</td>     <th>  R-squared:         </th> <td>   0.338</td>\n",
       "</tr>\n",
       "<tr>\n",
       "  <th>Model:</th>               <td>OLS</td>    <th>  Adj. R-squared:    </th> <td>   0.280</td>\n",
       "</tr>\n",
       "<tr>\n",
       "  <th>No. Observations:</th>  <td>    50</td>   <th>  F-statistic:       </th> <td>   5.756</td>\n",
       "</tr>\n",
       "<tr>\n",
       "  <th>Covariance Type:</th>  <td>nonrobust</td> <th>  Prob (F-statistic):</th> <td>0.000790</td>\n",
       "</tr>\n",
       "</table>\n",
       "<table class=\"simpletable\">\n",
       "<tr>\n",
       "      <td></td>         <th>coef</th>     <th>std err</th>      <th>t</th>      <th>P>|t|</th>  <th>[0.025</th>    <th>0.975]</th>  \n",
       "</tr>\n",
       "<tr>\n",
       "  <th>Intercept</th> <td>   -0.0130</td> <td>    0.010</td> <td>   -1.274</td> <td> 0.209</td> <td>   -0.033</td> <td>    0.008</td>\n",
       "</tr>\n",
       "<tr>\n",
       "  <th>eq</th>        <td>    0.2858</td> <td>    0.074</td> <td>    3.882</td> <td> 0.000</td> <td>    0.138</td> <td>    0.434</td>\n",
       "</tr>\n",
       "<tr>\n",
       "  <th>pop15</th>     <td>   -0.1754</td> <td>    0.073</td> <td>   -2.391</td> <td> 0.021</td> <td>   -0.323</td> <td>   -0.028</td>\n",
       "</tr>\n",
       "<tr>\n",
       "  <th>pop75</th>     <td>   -1.4057</td> <td>    1.025</td> <td>   -1.372</td> <td> 0.177</td> <td>   -3.470</td> <td>    0.659</td>\n",
       "</tr>\n",
       "<tr>\n",
       "  <th>dpi</th>       <td>   -0.0003</td> <td>    0.001</td> <td>   -0.362</td> <td> 0.719</td> <td>   -0.002</td> <td>    0.002</td>\n",
       "</tr>\n",
       "<tr>\n",
       "  <th>ddpi</th>      <td>    0.4097</td> <td>    0.196</td> <td>    2.088</td> <td> 0.042</td> <td>    0.015</td> <td>    0.805</td>\n",
       "</tr>\n",
       "</table><br/><br/>Notes:<br/>[1] Standard Errors assume that the covariance matrix of the errors is correctly specified.<br/>[2] The smallest eigenvalue is 2.95e-31. This might indicate that there are<br/>strong multicollinearity problems or that the design matrix is singular."
      ],
      "text/latex": [
       "\\begin{center}\n",
       "\\begin{tabular}{lclc}\n",
       "\\toprule\n",
       "\\textbf{Dep. Variable:}    &       sr      & \\textbf{  R-squared:         } &     0.338   \\\\\n",
       "\\textbf{Model:}            &      OLS      & \\textbf{  Adj. R-squared:    } &     0.280   \\\\\n",
       "\\textbf{No. Observations:} &         50    & \\textbf{  F-statistic:       } &     5.756   \\\\\n",
       "\\textbf{Covariance Type:}  &   nonrobust   & \\textbf{  Prob (F-statistic):} &  0.000790   \\\\\n",
       "\\bottomrule\n",
       "\\end{tabular}\n",
       "\\begin{tabular}{lcccccc}\n",
       "                   & \\textbf{coef} & \\textbf{std err} & \\textbf{t} & \\textbf{P$> |$t$|$} & \\textbf{[0.025} & \\textbf{0.975]}  \\\\\n",
       "\\midrule\n",
       "\\textbf{Intercept} &      -0.0130  &        0.010     &    -1.274  &         0.209        &       -0.033    &        0.008     \\\\\n",
       "\\textbf{eq}        &       0.2858  &        0.074     &     3.882  &         0.000        &        0.138    &        0.434     \\\\\n",
       "\\textbf{pop15}     &      -0.1754  &        0.073     &    -2.391  &         0.021        &       -0.323    &       -0.028     \\\\\n",
       "\\textbf{pop75}     &      -1.4057  &        1.025     &    -1.372  &         0.177        &       -3.470    &        0.659     \\\\\n",
       "\\textbf{dpi}       &      -0.0003  &        0.001     &    -0.362  &         0.719        &       -0.002    &        0.002     \\\\\n",
       "\\textbf{ddpi}      &       0.4097  &        0.196     &     2.088  &         0.042        &        0.015    &        0.805     \\\\\n",
       "\\bottomrule\n",
       "\\end{tabular}\n",
       "%\\caption{OLS Regression Results}\n",
       "\\end{center}\n",
       "\n",
       "Notes: \\newline\n",
       " [1] Standard Errors assume that the covariance matrix of the errors is correctly specified. \\newline\n",
       " [2] The smallest eigenvalue is 2.95e-31. This might indicate that there are \\newline\n",
       " strong multicollinearity problems or that the design matrix is singular."
      ],
      "text/plain": [
       "<class 'statsmodels.iolib.summary.Summary'>\n",
       "\"\"\"\n",
       "                            OLS Regression Results                            \n",
       "==============================================================================\n",
       "Dep. Variable:                     sr   R-squared:                       0.338\n",
       "Model:                            OLS   Adj. R-squared:                  0.280\n",
       "No. Observations:                  50   F-statistic:                     5.756\n",
       "Covariance Type:            nonrobust   Prob (F-statistic):           0.000790\n",
       "==============================================================================\n",
       "                 coef    std err          t      P>|t|      [0.025      0.975]\n",
       "------------------------------------------------------------------------------\n",
       "Intercept     -0.0130      0.010     -1.274      0.209      -0.033       0.008\n",
       "eq             0.2858      0.074      3.882      0.000       0.138       0.434\n",
       "pop15         -0.1754      0.073     -2.391      0.021      -0.323      -0.028\n",
       "pop75         -1.4057      1.025     -1.372      0.177      -3.470       0.659\n",
       "dpi           -0.0003      0.001     -0.362      0.719      -0.002       0.002\n",
       "ddpi           0.4097      0.196      2.088      0.042       0.015       0.805\n",
       "==============================================================================\n",
       "\n",
       "Notes:\n",
       "[1] Standard Errors assume that the covariance matrix of the errors is correctly specified.\n",
       "[2] The smallest eigenvalue is 2.95e-31. This might indicate that there are\n",
       "strong multicollinearity problems or that the design matrix is singular.\n",
       "\"\"\""
      ]
     },
     "execution_count": 33,
     "metadata": {},
     "output_type": "execute_result"
    }
   ],
   "source": [
    "df_sav['eq'] = df_sav.apply(lambda x:100 - x.pop15 - x.pop75,axis = 1)\n",
    "eq_model = smf.ols('sr ~ eq + pop15 + pop75 + dpi + ddpi',data = df_sav).fit()\n",
    "eq_model.summary(slim = True)"
   ]
  },
  {
   "cell_type": "markdown",
   "metadata": {},
   "source": [
    "***\n",
    "## GLS\n",
    "***"
   ]
  },
  {
   "cell_type": "code",
   "execution_count": 34,
   "metadata": {},
   "outputs": [
    {
     "data": {
      "text/html": [
       "<table class=\"simpletable\">\n",
       "<caption>OLS Regression Results</caption>\n",
       "<tr>\n",
       "  <th>Dep. Variable:</th>        <td>y</td>     <th>  R-squared:         </th> <td>   0.028</td>\n",
       "</tr>\n",
       "<tr>\n",
       "  <th>Model:</th>               <td>OLS</td>    <th>  Adj. R-squared:    </th> <td>   0.008</td>\n",
       "</tr>\n",
       "<tr>\n",
       "  <th>No. Observations:</th>  <td>   100</td>   <th>  F-statistic:       </th> <td>   1.386</td>\n",
       "</tr>\n",
       "<tr>\n",
       "  <th>Covariance Type:</th>  <td>nonrobust</td> <th>  Prob (F-statistic):</th>  <td> 0.255</td> \n",
       "</tr>\n",
       "</table>\n",
       "<table class=\"simpletable\">\n",
       "<tr>\n",
       "    <td></td>       <th>coef</th>     <th>std err</th>      <th>t</th>      <th>P>|t|</th>  <th>[0.025</th>    <th>0.975]</th>  \n",
       "</tr>\n",
       "<tr>\n",
       "  <th>const</th> <td>    0.9474</td> <td>    0.352</td> <td>    2.690</td> <td> 0.008</td> <td>    0.248</td> <td>    1.646</td>\n",
       "</tr>\n",
       "<tr>\n",
       "  <th>x1</th>    <td>    0.7330</td> <td>    0.446</td> <td>    1.645</td> <td> 0.103</td> <td>   -0.151</td> <td>    1.617</td>\n",
       "</tr>\n",
       "<tr>\n",
       "  <th>x2</th>    <td>   -0.1157</td> <td>    0.479</td> <td>   -0.241</td> <td> 0.810</td> <td>   -1.067</td> <td>    0.835</td>\n",
       "</tr>\n",
       "</table><br/><br/>Notes:<br/>[1] Standard Errors assume that the covariance matrix of the errors is correctly specified."
      ],
      "text/latex": [
       "\\begin{center}\n",
       "\\begin{tabular}{lclc}\n",
       "\\toprule\n",
       "\\textbf{Dep. Variable:}    &       y       & \\textbf{  R-squared:         } &     0.028   \\\\\n",
       "\\textbf{Model:}            &      OLS      & \\textbf{  Adj. R-squared:    } &     0.008   \\\\\n",
       "\\textbf{No. Observations:} &        100    & \\textbf{  F-statistic:       } &     1.386   \\\\\n",
       "\\textbf{Covariance Type:}  &   nonrobust   & \\textbf{  Prob (F-statistic):} &    0.255    \\\\\n",
       "\\bottomrule\n",
       "\\end{tabular}\n",
       "\\begin{tabular}{lcccccc}\n",
       "               & \\textbf{coef} & \\textbf{std err} & \\textbf{t} & \\textbf{P$> |$t$|$} & \\textbf{[0.025} & \\textbf{0.975]}  \\\\\n",
       "\\midrule\n",
       "\\textbf{const} &       0.9474  &        0.352     &     2.690  &         0.008        &        0.248    &        1.646     \\\\\n",
       "\\textbf{x1}    &       0.7330  &        0.446     &     1.645  &         0.103        &       -0.151    &        1.617     \\\\\n",
       "\\textbf{x2}    &      -0.1157  &        0.479     &    -0.241  &         0.810        &       -1.067    &        0.835     \\\\\n",
       "\\bottomrule\n",
       "\\end{tabular}\n",
       "%\\caption{OLS Regression Results}\n",
       "\\end{center}\n",
       "\n",
       "Notes: \\newline\n",
       " [1] Standard Errors assume that the covariance matrix of the errors is correctly specified."
      ],
      "text/plain": [
       "<class 'statsmodels.iolib.summary.Summary'>\n",
       "\"\"\"\n",
       "                            OLS Regression Results                            \n",
       "==============================================================================\n",
       "Dep. Variable:                      y   R-squared:                       0.028\n",
       "Model:                            OLS   Adj. R-squared:                  0.008\n",
       "No. Observations:                 100   F-statistic:                     1.386\n",
       "Covariance Type:            nonrobust   Prob (F-statistic):              0.255\n",
       "==============================================================================\n",
       "                 coef    std err          t      P>|t|      [0.025      0.975]\n",
       "------------------------------------------------------------------------------\n",
       "const          0.9474      0.352      2.690      0.008       0.248       1.646\n",
       "x1             0.7330      0.446      1.645      0.103      -0.151       1.617\n",
       "x2            -0.1157      0.479     -0.241      0.810      -1.067       0.835\n",
       "==============================================================================\n",
       "\n",
       "Notes:\n",
       "[1] Standard Errors assume that the covariance matrix of the errors is correctly specified.\n",
       "\"\"\""
      ]
     },
     "execution_count": 34,
     "metadata": {},
     "output_type": "execute_result"
    }
   ],
   "source": [
    "n = 100\n",
    "X = sm.add_constant(np.random.rand(n,2))\n",
    "# Let error be AR(1)\n",
    "err = np.random.randn(n)\n",
    "for t in range(1,n):\n",
    "    err[t] += 0.5 * err[t]\n",
    "beta = np.array([1,0.5,-0.3])\n",
    "y = X @ beta + err\n",
    "model_cret = sm.OLS(y,X).fit()\n",
    "model_cret.summary(slim = True)"
   ]
  },
  {
   "cell_type": "code",
   "execution_count": 35,
   "metadata": {},
   "outputs": [
    {
     "data": {
      "text/html": [
       "<table class=\"simpletable\">\n",
       "<caption>GLS Regression Results</caption>\n",
       "<tr>\n",
       "  <th>Dep. Variable:</th>        <td>y</td>     <th>  R-squared:         </th> <td>   0.771</td>\n",
       "</tr>\n",
       "<tr>\n",
       "  <th>Model:</th>               <td>GLS</td>    <th>  Adj. R-squared:    </th> <td>   0.766</td>\n",
       "</tr>\n",
       "<tr>\n",
       "  <th>No. Observations:</th>  <td>   100</td>   <th>  F-statistic:       </th> <td>   162.9</td>\n",
       "</tr>\n",
       "<tr>\n",
       "  <th>Covariance Type:</th>  <td>nonrobust</td> <th>  Prob (F-statistic):</th> <td>9.81e-32</td>\n",
       "</tr>\n",
       "</table>\n",
       "<table class=\"simpletable\">\n",
       "<tr>\n",
       "    <td></td>       <th>coef</th>     <th>std err</th>      <th>t</th>      <th>P>|t|</th>  <th>[0.025</th>    <th>0.975]</th>  \n",
       "</tr>\n",
       "<tr>\n",
       "  <th>const</th> <td>    0.9039</td> <td>    0.027</td> <td>   33.991</td> <td> 0.000</td> <td>    0.851</td> <td>    0.957</td>\n",
       "</tr>\n",
       "<tr>\n",
       "  <th>x1</th>    <td>    0.7619</td> <td>    0.045</td> <td>   16.763</td> <td> 0.000</td> <td>    0.672</td> <td>    0.852</td>\n",
       "</tr>\n",
       "<tr>\n",
       "  <th>x2</th>    <td>   -0.0764</td> <td>    0.035</td> <td>   -2.178</td> <td> 0.032</td> <td>   -0.146</td> <td>   -0.007</td>\n",
       "</tr>\n",
       "</table><br/><br/>Notes:<br/>[1] Standard Errors assume that the covariance matrix of the errors is correctly specified."
      ],
      "text/latex": [
       "\\begin{center}\n",
       "\\begin{tabular}{lclc}\n",
       "\\toprule\n",
       "\\textbf{Dep. Variable:}    &       y       & \\textbf{  R-squared:         } &     0.771   \\\\\n",
       "\\textbf{Model:}            &      GLS      & \\textbf{  Adj. R-squared:    } &     0.766   \\\\\n",
       "\\textbf{No. Observations:} &        100    & \\textbf{  F-statistic:       } &     162.9   \\\\\n",
       "\\textbf{Covariance Type:}  &   nonrobust   & \\textbf{  Prob (F-statistic):} &  9.81e-32   \\\\\n",
       "\\bottomrule\n",
       "\\end{tabular}\n",
       "\\begin{tabular}{lcccccc}\n",
       "               & \\textbf{coef} & \\textbf{std err} & \\textbf{t} & \\textbf{P$> |$t$|$} & \\textbf{[0.025} & \\textbf{0.975]}  \\\\\n",
       "\\midrule\n",
       "\\textbf{const} &       0.9039  &        0.027     &    33.991  &         0.000        &        0.851    &        0.957     \\\\\n",
       "\\textbf{x1}    &       0.7619  &        0.045     &    16.763  &         0.000        &        0.672    &        0.852     \\\\\n",
       "\\textbf{x2}    &      -0.0764  &        0.035     &    -2.178  &         0.032        &       -0.146    &       -0.007     \\\\\n",
       "\\bottomrule\n",
       "\\end{tabular}\n",
       "%\\caption{GLS Regression Results}\n",
       "\\end{center}\n",
       "\n",
       "Notes: \\newline\n",
       " [1] Standard Errors assume that the covariance matrix of the errors is correctly specified."
      ],
      "text/plain": [
       "<class 'statsmodels.iolib.summary.Summary'>\n",
       "\"\"\"\n",
       "                            GLS Regression Results                            \n",
       "==============================================================================\n",
       "Dep. Variable:                      y   R-squared:                       0.771\n",
       "Model:                            GLS   Adj. R-squared:                  0.766\n",
       "No. Observations:                 100   F-statistic:                     162.9\n",
       "Covariance Type:            nonrobust   Prob (F-statistic):           9.81e-32\n",
       "==============================================================================\n",
       "                 coef    std err          t      P>|t|      [0.025      0.975]\n",
       "------------------------------------------------------------------------------\n",
       "const          0.9039      0.027     33.991      0.000       0.851       0.957\n",
       "x1             0.7619      0.045     16.763      0.000       0.672       0.852\n",
       "x2            -0.0764      0.035     -2.178      0.032      -0.146      -0.007\n",
       "==============================================================================\n",
       "\n",
       "Notes:\n",
       "[1] Standard Errors assume that the covariance matrix of the errors is correctly specified.\n",
       "\"\"\""
      ]
     },
     "execution_count": 35,
     "metadata": {},
     "output_type": "execute_result"
    }
   ],
   "source": [
    "resid = model_cret.resid\n",
    "covM = np.diag(resid**2)\n",
    "model_GLS = sm.GLS(y,X,sigma = covM).fit()\n",
    "model_GLS.summary(slim = True)"
   ]
  },
  {
   "cell_type": "markdown",
   "metadata": {},
   "source": [
    "***\n",
    "## Leverage\n",
    "***"
   ]
  },
  {
   "cell_type": "code",
   "execution_count": 36,
   "metadata": {},
   "outputs": [
    {
     "data": {
      "text/plain": [
       "Libya             0.531457\n",
       "United States     0.333688\n",
       "Japan             0.223310\n",
       "Ireland           0.212236\n",
       "South Rhodesia    0.160809\n",
       "dtype: float64"
      ]
     },
     "execution_count": 36,
     "metadata": {},
     "output_type": "execute_result"
    }
   ],
   "source": [
    "sav_inf = full_model.get_influence()\n",
    "pd.Series(sav_inf.hat_matrix_diag,df_sav.index).sort_values(ascending = False)[:5]"
   ]
  },
  {
   "cell_type": "code",
   "execution_count": 37,
   "metadata": {},
   "outputs": [
    {
     "data": {
      "text/plain": [
       "Text(0, 0.5, 'Leverage')"
      ]
     },
     "execution_count": 37,
     "metadata": {},
     "output_type": "execute_result"
    },
    {
     "data": {
      "image/png": "[encoded data removed]",
      "text/plain": [
       "<Figure size 640x480 with 1 Axes>"
      ]
     },
     "metadata": {},
     "output_type": "display_data"
    }
   ],
   "source": [
    "plt.plot(sav_inf.hat_matrix_diag,'^')\n",
    "plt.hlines(y = 2*5 / 50,xmin = 0,xmax = 50,colors = 'red')\n",
    "plt.ylabel('Leverage')"
   ]
  },
  {
   "cell_type": "code",
   "execution_count": 38,
   "metadata": {},
   "outputs": [
    {
     "data": {
      "text/plain": [
       "Text(1.9, 0.33, 'USA')"
      ]
     },
     "execution_count": 38,
     "metadata": {},
     "output_type": "execute_result"
    },
    {
     "data": {
      "image/png": "[encoded data removed]",
      "text/plain": [
       "<Figure size 640x480 with 1 Axes>"
      ]
     },
     "metadata": {},
     "output_type": "display_data"
    }
   ],
   "source": [
    "# Half normal plot\n",
    "n = df_sav.shape[0]\n",
    "ix = np.arange(1,n+1)\n",
    "halfq = sp.stats.norm.ppf((n+ix) / (2*(n+1)))\n",
    "plt.scatter(halfq,np.sort(sav_inf.hat_matrix_diag),marker = '^')\n",
    "plt.annotate(\"Libya\",(2.1,0.53))\n",
    "plt.annotate(\"USA\",(1.9,0.33))"
   ]
  },
  {
   "cell_type": "code",
   "execution_count": 39,
   "metadata": {},
   "outputs": [
    {
     "data": {
      "image/png": "[encoded data removed]",
      "text/plain": [
       "<Figure size 640x480 with 1 Axes>"
      ]
     },
     "metadata": {},
     "output_type": "display_data"
    }
   ],
   "source": [
    "sm.graphics.plot_leverage_resid2(full_model);"
   ]
  },
  {
   "cell_type": "markdown",
   "metadata": {},
   "source": [
    "***\n",
    "## Bonferroni Correction\n",
    "***"
   ]
  },
  {
   "cell_type": "code",
   "execution_count": 40,
   "metadata": {},
   "outputs": [
    {
     "data": {
      "text/plain": [
       "[<matplotlib.lines.Line2D at 0x17720227200>]"
      ]
     },
     "execution_count": 40,
     "metadata": {},
     "output_type": "execute_result"
    },
    {
     "data": {
      "image/png": "[encoded data removed]",
      "text/plain": [
       "<Figure size 640x480 with 1 Axes>"
      ]
     },
     "metadata": {},
     "output_type": "display_data"
    }
   ],
   "source": [
    "# Internal residual\n",
    "plt.plot(sav_inf.resid_studentized_internal,'^')"
   ]
  },
  {
   "cell_type": "code",
   "execution_count": 41,
   "metadata": {},
   "outputs": [
    {
     "data": {
      "text/plain": [
       "[<matplotlib.lines.Line2D at 0x17720243e60>]"
      ]
     },
     "execution_count": 41,
     "metadata": {},
     "output_type": "execute_result"
    },
    {
     "data": {
      "image/png": "[encoded data removed]",
      "text/plain": [
       "<Figure size 640x480 with 1 Axes>"
      ]
     },
     "metadata": {},
     "output_type": "display_data"
    }
   ],
   "source": [
    "# External residual\n",
    "plt.plot(sav_inf.resid_studentized_external,'^')"
   ]
  },
  {
   "cell_type": "code",
   "execution_count": 42,
   "metadata": {},
   "outputs": [
    {
     "data": {
      "text/plain": [
       "50"
      ]
     },
     "metadata": {},
     "output_type": "display_data"
    },
    {
     "data": {
      "text/plain": [
       "4.0"
      ]
     },
     "metadata": {},
     "output_type": "display_data"
    },
    {
     "data": {
      "text/plain": [
       "'Largeist residual = 2.854 < 3.520'"
      ]
     },
     "metadata": {},
     "output_type": "display_data"
    }
   ],
   "source": [
    "# No outlier indicate\n",
    "p = full_model.df_model\n",
    "jack_resid = pd.Series(sav_inf.resid_studentized_external,df_sav.index)\n",
    "crit_v = abs(sp.stats.t.ppf(0.05 / (2*n),n - p - 1))\n",
    "display(n,\n",
    "        p,\n",
    "        f'Largeist residual = {np.abs(jack_resid).max():.3f} < {crit_v:.3f}')"
   ]
  },
  {
   "cell_type": "markdown",
   "metadata": {},
   "source": [
    "***\n",
    "## Influence Plot\n",
    "***"
   ]
  },
  {
   "cell_type": "code",
   "execution_count": 43,
   "metadata": {},
   "outputs": [
    {
     "data": {
      "image/png": "[encoded data removed]",
      "text/plain": [
       "<Figure size 640x480 with 1 Axes>"
      ]
     },
     "metadata": {},
     "output_type": "display_data"
    }
   ],
   "source": [
    "sm.graphics.influence_plot(full_model);"
   ]
  },
  {
   "cell_type": "markdown",
   "metadata": {},
   "source": [
    "***\n",
    "## Cook Distance\n",
    "***"
   ]
  },
  {
   "cell_type": "code",
   "execution_count": 44,
   "metadata": {},
   "outputs": [
    {
     "data": {
      "text/plain": [
       "Text(0, 0.5, 'Cooks distance')"
      ]
     },
     "execution_count": 44,
     "metadata": {},
     "output_type": "execute_result"
    },
    {
     "data": {
      "image/png": "[encoded data removed]",
      "text/plain": [
       "<Figure size 640x480 with 1 Axes>"
      ]
     },
     "metadata": {},
     "output_type": "display_data"
    }
   ],
   "source": [
    "cook_dist = pd.Series(sav_inf.cooks_distance[0],df_sav.index)\n",
    "cook_dist.sort_values(ascending = False).iloc[:5]\n",
    "plt.plot(cook_dist.values,'^')\n",
    "plt.ylabel('Cooks distance')"
   ]
  },
  {
   "cell_type": "markdown",
   "metadata": {},
   "source": [
    "***\n",
    "## Variance Stabilizing transform\n",
    "***"
   ]
  },
  {
   "cell_type": "code",
   "execution_count": 45,
   "metadata": {},
   "outputs": [
    {
     "data": {
      "text/html": [
       "<div>\n",
       "<style scoped>\n",
       "    .dataframe tbody tr th:only-of-type {\n",
       "        vertical-align: middle;\n",
       "    }\n",
       "\n",
       "    .dataframe tbody tr th {\n",
       "        vertical-align: top;\n",
       "    }\n",
       "\n",
       "    .dataframe thead th {\n",
       "        text-align: right;\n",
       "    }\n",
       "</style>\n",
       "<table border=\"1\" class=\"dataframe\">\n",
       "  <thead>\n",
       "    <tr style=\"text-align: right;\">\n",
       "      <th></th>\n",
       "      <th>Species</th>\n",
       "      <th>Area</th>\n",
       "      <th>Elevation</th>\n",
       "      <th>Nearest</th>\n",
       "      <th>Scruz</th>\n",
       "      <th>Adjacent</th>\n",
       "    </tr>\n",
       "  </thead>\n",
       "  <tbody>\n",
       "    <tr>\n",
       "      <th>Baltra</th>\n",
       "      <td>58</td>\n",
       "      <td>25.09</td>\n",
       "      <td>346</td>\n",
       "      <td>0.6</td>\n",
       "      <td>0.6</td>\n",
       "      <td>1.84</td>\n",
       "    </tr>\n",
       "    <tr>\n",
       "      <th>Bartolome</th>\n",
       "      <td>31</td>\n",
       "      <td>1.24</td>\n",
       "      <td>109</td>\n",
       "      <td>0.6</td>\n",
       "      <td>26.3</td>\n",
       "      <td>572.33</td>\n",
       "    </tr>\n",
       "    <tr>\n",
       "      <th>Caldwell</th>\n",
       "      <td>3</td>\n",
       "      <td>0.21</td>\n",
       "      <td>114</td>\n",
       "      <td>2.8</td>\n",
       "      <td>58.7</td>\n",
       "      <td>0.78</td>\n",
       "    </tr>\n",
       "    <tr>\n",
       "      <th>Champion</th>\n",
       "      <td>25</td>\n",
       "      <td>0.10</td>\n",
       "      <td>46</td>\n",
       "      <td>1.9</td>\n",
       "      <td>47.4</td>\n",
       "      <td>0.18</td>\n",
       "    </tr>\n",
       "    <tr>\n",
       "      <th>Coamano</th>\n",
       "      <td>2</td>\n",
       "      <td>0.05</td>\n",
       "      <td>77</td>\n",
       "      <td>1.9</td>\n",
       "      <td>1.9</td>\n",
       "      <td>903.82</td>\n",
       "    </tr>\n",
       "  </tbody>\n",
       "</table>\n",
       "</div>"
      ],
      "text/plain": [
       "           Species   Area  Elevation  Nearest  Scruz  Adjacent\n",
       "Baltra          58  25.09        346      0.6    0.6      1.84\n",
       "Bartolome       31   1.24        109      0.6   26.3    572.33\n",
       "Caldwell         3   0.21        114      2.8   58.7      0.78\n",
       "Champion        25   0.10         46      1.9   47.4      0.18\n",
       "Coamano          2   0.05         77      1.9    1.9    903.82"
      ]
     },
     "execution_count": 45,
     "metadata": {},
     "output_type": "execute_result"
    }
   ],
   "source": [
    "df_gal = galapagos.load()\n",
    "df_gal.head()"
   ]
  },
  {
   "cell_type": "code",
   "execution_count": 46,
   "metadata": {},
   "outputs": [
    {
     "data": {
      "text/plain": [
       "<matplotlib.lines.Line2D at 0x177203baba0>"
      ]
     },
     "execution_count": 46,
     "metadata": {},
     "output_type": "execute_result"
    },
    {
     "data": {
      "image/png": "[encoded data removed]",
      "text/plain": [
       "<Figure size 1100x600 with 2 Axes>"
      ]
     },
     "metadata": {},
     "output_type": "display_data"
    }
   ],
   "source": [
    "Xm = sm.add_constant(df_gal.loc[:,'Area':])\n",
    "y = df_gal['Species']\n",
    "ys = np.sqrt(y)\n",
    "model_gal = sm.OLS(y,Xm).fit()\n",
    "model_sqrt = sm.OLS(ys,Xm).fit()\n",
    "plt.figure(figsize = [11,6])\n",
    "plt.subplot(1,2,1)\n",
    "plt.plot(model_gal.fittedvalues,model_gal.resid,'^')\n",
    "plt.axhline(0,color = 'red')\n",
    "plt.subplot(1,2,2)\n",
    "plt.plot(model_sqrt.fittedvalues,model_sqrt.resid,'^')\n",
    "plt.axhline(0,color = 'red')"
   ]
  },
  {
   "cell_type": "markdown",
   "metadata": {},
   "source": [
    "***\n",
    "## Box-Cox transform\n",
    "***"
   ]
  },
  {
   "cell_type": "code",
   "execution_count": 47,
   "metadata": {},
   "outputs": [
    {
     "name": "stderr",
     "output_type": "stream",
     "text": [
      "C:\\Users\\User\\AppData\\Local\\Temp\\ipykernel_19836\\2018325450.py:6: UserWarning: No artists with labels found to put in legend.  Note that artists whose label start with an underscore are ignored when legend() is called with no argument.\n",
      "  plt.legend(loc = 'best')\n"
     ]
    },
    {
     "data": {
      "image/png": "[encoded data removed]",
      "text/plain": [
       "<Figure size 1000x500 with 2 Axes>"
      ]
     },
     "metadata": {},
     "output_type": "display_data"
    }
   ],
   "source": [
    "# original data\n",
    "odf = np.random.exponential(size = 1000)\n",
    "tdata, tlam = sp.stats.boxcox(odf)\n",
    "fig, (ax1,ax2) = plt.subplots(1,2)\n",
    "sns.histplot(odf,kde = True,label = 'Non-Normal',color = 'red',ax = ax1)\n",
    "plt.legend(loc = 'best')\n",
    "sns.histplot(tdata,kde = True,label = 'Normal',color = 'red',ax = ax2)\n",
    "plt.title(f'lambda = {tlam:.3f}')\n",
    "plt.legend(loc = 'best')\n",
    "fig.set_figheight(5)\n",
    "fig.set_figwidth(10)"
   ]
  },
  {
   "cell_type": "markdown",
   "metadata": {},
   "source": [
    "***\n",
    "## Normality check\n",
    "***"
   ]
  },
  {
   "cell_type": "code",
   "execution_count": 48,
   "metadata": {},
   "outputs": [
    {
     "data": {
      "image/png": "[encoded data removed]",
      "text/plain": [
       "<Figure size 1000x700 with 4 Axes>"
      ]
     },
     "metadata": {},
     "output_type": "display_data"
    }
   ],
   "source": [
    "fig,ax = plt.subplots(2,2,sharex = True)\n",
    "sm.qqplot(np.random.randn(50),line = 'q',ax = ax[0,0]);\n",
    "sm.qqplot(np.exp(np.random.randn(50)),line = 'q',ax = ax[0,1]);\n",
    "sm.qqplot(np.random.standard_t(1,50),line = 'q',ax = ax[1,0]);\n",
    "sm.qqplot(np.random.sample(50),line = 'q',ax = ax[1,1]);\n",
    "ax[0,0].set_title(\"Normal\")\n",
    "ax[0,1].set_title(\"Lognormal\")\n",
    "ax[1,0].set_title(\"Cauchy\")\n",
    "ax[1,1].set_title(\"Uniform\")\n",
    "fig.set_figheight(7)\n",
    "fig.set_figwidth(10)"
   ]
  },
  {
   "cell_type": "code",
   "execution_count": 49,
   "metadata": {},
   "outputs": [
    {
     "data": {
      "image/png": "[encoded data removed]",
      "text/plain": [
       "<Figure size 640x480 with 1 Axes>"
      ]
     },
     "metadata": {},
     "output_type": "display_data"
    }
   ],
   "source": [
    "# Q-Q plot\n",
    "sm.qqplot(full_model.resid,line = 'q');"
   ]
  },
  {
   "cell_type": "code",
   "execution_count": 50,
   "metadata": {},
   "outputs": [
    {
     "data": {
      "text/plain": [
       "Text(0.5, 0, 'Residual')"
      ]
     },
     "execution_count": 50,
     "metadata": {},
     "output_type": "execute_result"
    },
    {
     "data": {
      "image/png": "[encoded data removed]",
      "text/plain": [
       "<Figure size 640x480 with 1 Axes>"
      ]
     },
     "metadata": {},
     "output_type": "display_data"
    }
   ],
   "source": [
    "plt.hist(full_model.resid)\n",
    "plt.xlabel('Residual')"
   ]
  },
  {
   "cell_type": "code",
   "execution_count": 51,
   "metadata": {},
   "outputs": [
    {
     "data": {
      "text/html": [
       "<div>\n",
       "<style scoped>\n",
       "    .dataframe tbody tr th:only-of-type {\n",
       "        vertical-align: middle;\n",
       "    }\n",
       "\n",
       "    .dataframe tbody tr th {\n",
       "        vertical-align: top;\n",
       "    }\n",
       "\n",
       "    .dataframe thead th {\n",
       "        text-align: right;\n",
       "    }\n",
       "</style>\n",
       "<table border=\"1\" class=\"dataframe\">\n",
       "  <thead>\n",
       "    <tr style=\"text-align: right;\">\n",
       "      <th></th>\n",
       "      <th>Test Statistic</th>\n",
       "      <th>p-value</th>\n",
       "    </tr>\n",
       "    <tr>\n",
       "      <th>Method</th>\n",
       "      <th></th>\n",
       "      <th></th>\n",
       "    </tr>\n",
       "  </thead>\n",
       "  <tbody>\n",
       "    <tr>\n",
       "      <th>Shapiro - Wilk test</th>\n",
       "      <td>0.986984</td>\n",
       "      <td>0.852396</td>\n",
       "    </tr>\n",
       "    <tr>\n",
       "      <th>D\"Agostino\"s K-squared test</th>\n",
       "      <td>0.866177</td>\n",
       "      <td>0.648503</td>\n",
       "    </tr>\n",
       "    <tr>\n",
       "      <th>Kolmogorov–Smirnov test</th>\n",
       "      <td>0.312620</td>\n",
       "      <td>0.000077</td>\n",
       "    </tr>\n",
       "    <tr>\n",
       "      <th>Jarque-Bera test</th>\n",
       "      <td>0.492933</td>\n",
       "      <td>0.781558</td>\n",
       "    </tr>\n",
       "  </tbody>\n",
       "</table>\n",
       "</div>"
      ],
      "text/plain": [
       "                             Test Statistic   p-value\n",
       "Method                                               \n",
       "Shapiro - Wilk test                0.986984  0.852396\n",
       "D\"Agostino\"s K-squared test        0.866177  0.648503\n",
       "Kolmogorov–Smirnov test            0.312620  0.000077\n",
       "Jarque-Bera test                   0.492933  0.781558"
      ]
     },
     "execution_count": 51,
     "metadata": {},
     "output_type": "execute_result"
    }
   ],
   "source": [
    "norm_tbs = []\n",
    "# Shapiro - Wilk test\n",
    "# H0 : sample comes from a normal\n",
    "val,pval = sp.stats.shapiro(full_model.resid)\n",
    "norm_tbs.append(['Shapiro - Wilk test',val.item(),pval.item()])\n",
    "# D'Agostino's K-squared test \n",
    "# H0 : data follows normal\n",
    "val,pval = sp.stats.normaltest(full_model.resid)\n",
    "norm_tbs.append(['D\"Agostino\"s K-squared test',val.item(),pval.item()])\n",
    "# Kolmogorov–Smirnov test \n",
    "# H0 : the data belongs to the specific dist\n",
    "val,pval = sp.stats.kstest(full_model.resid,'norm')\n",
    "norm_tbs.append(['Kolmogorov–Smirnov test',val.item(),pval.item()])\n",
    "# Jarque-Bera test\n",
    "# H0 : Samples from a normal distribution \n",
    "#      have an expected skewness of 0 and \n",
    "#      an expected excess kurtosis of 0\n",
    "val,pval = sp.stats.jarque_bera(full_model.resid)\n",
    "norm_tbs.append(['Jarque-Bera test',val.item(),pval.item()])\n",
    "pd.DataFrame(norm_tbs,columns = ['Method','Test Statistic','p-value']).set_index(\"Method\")"
   ]
  },
  {
   "cell_type": "code",
   "execution_count": 52,
   "metadata": {},
   "outputs": [
    {
     "data": {
      "text/plain": [
       "'Test Statistic = 0.266'"
      ]
     },
     "metadata": {},
     "output_type": "display_data"
    },
    {
     "data": {
      "text/plain": [
       "'Critical value = [0.538 0.613 0.736 0.858 1.021]'"
      ]
     },
     "metadata": {},
     "output_type": "display_data"
    },
    {
     "data": {
      "text/plain": [
       "'with significant = [15.  10.   5.   2.5  1. ]'"
      ]
     },
     "metadata": {},
     "output_type": "display_data"
    }
   ],
   "source": [
    "# Anderson–Darling test\n",
    "# H0 : the data are normally distributed\n",
    "val,pval,sval = sp.stats.anderson(full_model.resid,dist = 'norm')\n",
    "display(f'Test Statistic = {val:.3f}',\n",
    "        f'Critical value = {pval}',\n",
    "        f'with significant = {sval}')"
   ]
  },
  {
   "cell_type": "markdown",
   "metadata": {},
   "source": [
    "***\n",
    "## Collinearity\n",
    "***\n"
   ]
  },
  {
   "cell_type": "code",
   "execution_count": 53,
   "metadata": {},
   "outputs": [
    {
     "data": {
      "text/html": [
       "<div>\n",
       "<style scoped>\n",
       "    .dataframe tbody tr th:only-of-type {\n",
       "        vertical-align: middle;\n",
       "    }\n",
       "\n",
       "    .dataframe tbody tr th {\n",
       "        vertical-align: top;\n",
       "    }\n",
       "\n",
       "    .dataframe thead th {\n",
       "        text-align: right;\n",
       "    }\n",
       "</style>\n",
       "<table border=\"1\" class=\"dataframe\">\n",
       "  <thead>\n",
       "    <tr style=\"text-align: right;\">\n",
       "      <th></th>\n",
       "      <th>Age</th>\n",
       "      <th>Weight</th>\n",
       "      <th>HtShoes</th>\n",
       "      <th>Ht</th>\n",
       "      <th>Seated</th>\n",
       "      <th>Arm</th>\n",
       "      <th>Thigh</th>\n",
       "      <th>Leg</th>\n",
       "      <th>hipcenter</th>\n",
       "    </tr>\n",
       "  </thead>\n",
       "  <tbody>\n",
       "    <tr>\n",
       "      <th>0</th>\n",
       "      <td>46</td>\n",
       "      <td>180</td>\n",
       "      <td>187.2</td>\n",
       "      <td>184.9</td>\n",
       "      <td>95.2</td>\n",
       "      <td>36.1</td>\n",
       "      <td>45.3</td>\n",
       "      <td>41.3</td>\n",
       "      <td>-206.300</td>\n",
       "    </tr>\n",
       "    <tr>\n",
       "      <th>1</th>\n",
       "      <td>31</td>\n",
       "      <td>175</td>\n",
       "      <td>167.5</td>\n",
       "      <td>165.5</td>\n",
       "      <td>83.8</td>\n",
       "      <td>32.9</td>\n",
       "      <td>36.5</td>\n",
       "      <td>35.9</td>\n",
       "      <td>-178.210</td>\n",
       "    </tr>\n",
       "    <tr>\n",
       "      <th>2</th>\n",
       "      <td>23</td>\n",
       "      <td>100</td>\n",
       "      <td>153.6</td>\n",
       "      <td>152.2</td>\n",
       "      <td>82.9</td>\n",
       "      <td>26.0</td>\n",
       "      <td>36.6</td>\n",
       "      <td>31.0</td>\n",
       "      <td>-71.673</td>\n",
       "    </tr>\n",
       "    <tr>\n",
       "      <th>3</th>\n",
       "      <td>19</td>\n",
       "      <td>185</td>\n",
       "      <td>190.3</td>\n",
       "      <td>187.4</td>\n",
       "      <td>97.3</td>\n",
       "      <td>37.4</td>\n",
       "      <td>44.1</td>\n",
       "      <td>41.0</td>\n",
       "      <td>-257.720</td>\n",
       "    </tr>\n",
       "    <tr>\n",
       "      <th>4</th>\n",
       "      <td>23</td>\n",
       "      <td>159</td>\n",
       "      <td>178.0</td>\n",
       "      <td>174.1</td>\n",
       "      <td>93.9</td>\n",
       "      <td>29.5</td>\n",
       "      <td>40.1</td>\n",
       "      <td>36.9</td>\n",
       "      <td>-173.230</td>\n",
       "    </tr>\n",
       "  </tbody>\n",
       "</table>\n",
       "</div>"
      ],
      "text/plain": [
       "   Age  Weight  HtShoes     Ht  Seated   Arm  Thigh   Leg  hipcenter\n",
       "0   46     180    187.2  184.9    95.2  36.1   45.3  41.3   -206.300\n",
       "1   31     175    167.5  165.5    83.8  32.9   36.5  35.9   -178.210\n",
       "2   23     100    153.6  152.2    82.9  26.0   36.6  31.0    -71.673\n",
       "3   19     185    190.3  187.4    97.3  37.4   44.1  41.0   -257.720\n",
       "4   23     159    178.0  174.1    93.9  29.5   40.1  36.9   -173.230"
      ]
     },
     "execution_count": 53,
     "metadata": {},
     "output_type": "execute_result"
    }
   ],
   "source": [
    "df_seat = seatpos.load()\n",
    "df_seat.head()"
   ]
  },
  {
   "cell_type": "code",
   "execution_count": 54,
   "metadata": {},
   "outputs": [
    {
     "data": {
      "text/html": [
       "<table class=\"simpletable\">\n",
       "<caption>OLS Regression Results</caption>\n",
       "<tr>\n",
       "  <th>Dep. Variable:</th>    <td>hipcenter</td> <th>  R-squared:         </th> <td>   0.687</td>\n",
       "</tr>\n",
       "<tr>\n",
       "  <th>Model:</th>               <td>OLS</td>    <th>  Adj. R-squared:    </th> <td>   0.600</td>\n",
       "</tr>\n",
       "<tr>\n",
       "  <th>No. Observations:</th>  <td>    38</td>   <th>  F-statistic:       </th> <td>   7.940</td>\n",
       "</tr>\n",
       "<tr>\n",
       "  <th>Covariance Type:</th>  <td>nonrobust</td> <th>  Prob (F-statistic):</th> <td>1.31e-05</td>\n",
       "</tr>\n",
       "</table>\n",
       "<table class=\"simpletable\">\n",
       "<tr>\n",
       "     <td></td>        <th>coef</th>     <th>std err</th>      <th>t</th>      <th>P>|t|</th>  <th>[0.025</th>    <th>0.975]</th>  \n",
       "</tr>\n",
       "<tr>\n",
       "  <th>const</th>   <td>  436.4321</td> <td>  166.572</td> <td>    2.620</td> <td> 0.014</td> <td>   95.755</td> <td>  777.109</td>\n",
       "</tr>\n",
       "<tr>\n",
       "  <th>Age</th>     <td>    0.7757</td> <td>    0.570</td> <td>    1.360</td> <td> 0.184</td> <td>   -0.391</td> <td>    1.942</td>\n",
       "</tr>\n",
       "<tr>\n",
       "  <th>Weight</th>  <td>    0.0263</td> <td>    0.331</td> <td>    0.080</td> <td> 0.937</td> <td>   -0.651</td> <td>    0.703</td>\n",
       "</tr>\n",
       "<tr>\n",
       "  <th>HtShoes</th> <td>   -2.6924</td> <td>    9.753</td> <td>   -0.276</td> <td> 0.784</td> <td>  -22.640</td> <td>   17.255</td>\n",
       "</tr>\n",
       "<tr>\n",
       "  <th>Ht</th>      <td>    0.6013</td> <td>   10.130</td> <td>    0.059</td> <td> 0.953</td> <td>  -20.117</td> <td>   21.319</td>\n",
       "</tr>\n",
       "<tr>\n",
       "  <th>Seated</th>  <td>    0.5338</td> <td>    3.762</td> <td>    0.142</td> <td> 0.888</td> <td>   -7.160</td> <td>    8.228</td>\n",
       "</tr>\n",
       "<tr>\n",
       "  <th>Arm</th>     <td>   -1.3281</td> <td>    3.900</td> <td>   -0.341</td> <td> 0.736</td> <td>   -9.305</td> <td>    6.649</td>\n",
       "</tr>\n",
       "<tr>\n",
       "  <th>Thigh</th>   <td>   -1.1431</td> <td>    2.660</td> <td>   -0.430</td> <td> 0.671</td> <td>   -6.583</td> <td>    4.297</td>\n",
       "</tr>\n",
       "<tr>\n",
       "  <th>Leg</th>     <td>   -6.4390</td> <td>    4.714</td> <td>   -1.366</td> <td> 0.182</td> <td>  -16.080</td> <td>    3.202</td>\n",
       "</tr>\n",
       "</table><br/><br/>Notes:<br/>[1] Standard Errors assume that the covariance matrix of the errors is correctly specified.<br/>[2] The condition number is large, 8.44e+03. This might indicate that there are<br/>strong multicollinearity or other numerical problems."
      ],
      "text/latex": [
       "\\begin{center}\n",
       "\\begin{tabular}{lclc}\n",
       "\\toprule\n",
       "\\textbf{Dep. Variable:}    &   hipcenter   & \\textbf{  R-squared:         } &     0.687   \\\\\n",
       "\\textbf{Model:}            &      OLS      & \\textbf{  Adj. R-squared:    } &     0.600   \\\\\n",
       "\\textbf{No. Observations:} &         38    & \\textbf{  F-statistic:       } &     7.940   \\\\\n",
       "\\textbf{Covariance Type:}  &   nonrobust   & \\textbf{  Prob (F-statistic):} &  1.31e-05   \\\\\n",
       "\\bottomrule\n",
       "\\end{tabular}\n",
       "\\begin{tabular}{lcccccc}\n",
       "                 & \\textbf{coef} & \\textbf{std err} & \\textbf{t} & \\textbf{P$> |$t$|$} & \\textbf{[0.025} & \\textbf{0.975]}  \\\\\n",
       "\\midrule\n",
       "\\textbf{const}   &     436.4321  &      166.572     &     2.620  &         0.014        &       95.755    &      777.109     \\\\\n",
       "\\textbf{Age}     &       0.7757  &        0.570     &     1.360  &         0.184        &       -0.391    &        1.942     \\\\\n",
       "\\textbf{Weight}  &       0.0263  &        0.331     &     0.080  &         0.937        &       -0.651    &        0.703     \\\\\n",
       "\\textbf{HtShoes} &      -2.6924  &        9.753     &    -0.276  &         0.784        &      -22.640    &       17.255     \\\\\n",
       "\\textbf{Ht}      &       0.6013  &       10.130     &     0.059  &         0.953        &      -20.117    &       21.319     \\\\\n",
       "\\textbf{Seated}  &       0.5338  &        3.762     &     0.142  &         0.888        &       -7.160    &        8.228     \\\\\n",
       "\\textbf{Arm}     &      -1.3281  &        3.900     &    -0.341  &         0.736        &       -9.305    &        6.649     \\\\\n",
       "\\textbf{Thigh}   &      -1.1431  &        2.660     &    -0.430  &         0.671        &       -6.583    &        4.297     \\\\\n",
       "\\textbf{Leg}     &      -6.4390  &        4.714     &    -1.366  &         0.182        &      -16.080    &        3.202     \\\\\n",
       "\\bottomrule\n",
       "\\end{tabular}\n",
       "%\\caption{OLS Regression Results}\n",
       "\\end{center}\n",
       "\n",
       "Notes: \\newline\n",
       " [1] Standard Errors assume that the covariance matrix of the errors is correctly specified. \\newline\n",
       " [2] The condition number is large, 8.44e+03. This might indicate that there are \\newline\n",
       " strong multicollinearity or other numerical problems."
      ],
      "text/plain": [
       "<class 'statsmodels.iolib.summary.Summary'>\n",
       "\"\"\"\n",
       "                            OLS Regression Results                            \n",
       "==============================================================================\n",
       "Dep. Variable:              hipcenter   R-squared:                       0.687\n",
       "Model:                            OLS   Adj. R-squared:                  0.600\n",
       "No. Observations:                  38   F-statistic:                     7.940\n",
       "Covariance Type:            nonrobust   Prob (F-statistic):           1.31e-05\n",
       "==============================================================================\n",
       "                 coef    std err          t      P>|t|      [0.025      0.975]\n",
       "------------------------------------------------------------------------------\n",
       "const        436.4321    166.572      2.620      0.014      95.755     777.109\n",
       "Age            0.7757      0.570      1.360      0.184      -0.391       1.942\n",
       "Weight         0.0263      0.331      0.080      0.937      -0.651       0.703\n",
       "HtShoes       -2.6924      9.753     -0.276      0.784     -22.640      17.255\n",
       "Ht             0.6013     10.130      0.059      0.953     -20.117      21.319\n",
       "Seated         0.5338      3.762      0.142      0.888      -7.160       8.228\n",
       "Arm           -1.3281      3.900     -0.341      0.736      -9.305       6.649\n",
       "Thigh         -1.1431      2.660     -0.430      0.671      -6.583       4.297\n",
       "Leg           -6.4390      4.714     -1.366      0.182     -16.080       3.202\n",
       "==============================================================================\n",
       "\n",
       "Notes:\n",
       "[1] Standard Errors assume that the covariance matrix of the errors is correctly specified.\n",
       "[2] The condition number is large, 8.44e+03. This might indicate that there are\n",
       "strong multicollinearity or other numerical problems.\n",
       "\"\"\""
      ]
     },
     "execution_count": 54,
     "metadata": {},
     "output_type": "execute_result"
    }
   ],
   "source": [
    "Xm = sm.add_constant(df_seat.iloc[:,:-1])\n",
    "y = df_seat['hipcenter']\n",
    "model_coll = sm.OLS(y,Xm).fit()\n",
    "model_coll.summary(slim = True)"
   ]
  },
  {
   "cell_type": "code",
   "execution_count": 55,
   "metadata": {},
   "outputs": [
    {
     "data": {
      "text/plain": [
       "<Axes: >"
      ]
     },
     "execution_count": 55,
     "metadata": {},
     "output_type": "execute_result"
    },
    {
     "data": {
      "image/png": "[encoded data removed]",
      "text/plain": [
       "<Figure size 1000x600 with 2 Axes>"
      ]
     },
     "metadata": {},
     "output_type": "display_data"
    }
   ],
   "source": [
    "corM = Xm.iloc[:,1:].corr()\n",
    "# Create a mask\n",
    "mask = np.tril(corM)\n",
    "\n",
    "plt.figure(figsize=(10, 6))\n",
    "sns.heatmap(corM,mask = mask,center = 0,annot = True,\n",
    "            fmt = '.3f',square = True,cmap = 'coolwarm')"
   ]
  },
  {
   "cell_type": "code",
   "execution_count": 56,
   "metadata": {},
   "outputs": [
    {
     "data": {
      "text/plain": [
       "array([3653708.98133722,   21479.79190345,    9043.22608773,\n",
       "           298.96405783,     148.40052819,      81.17463714,\n",
       "            53.36194842,       7.29822578,       0.05127424])"
      ]
     },
     "execution_count": 56,
     "metadata": {},
     "output_type": "execute_result"
    }
   ],
   "source": [
    "Xf = model_coll.model.wexog\n",
    "evals,evecs =np.linalg.eig(Xf.T @ Xf)\n",
    "oevals = np.sort(evals)[::-1]\n",
    "oevals"
   ]
  },
  {
   "cell_type": "code",
   "execution_count": 57,
   "metadata": {},
   "outputs": [
    {
     "data": {
      "text/plain": [
       "array([     170.0998314 ,      404.02716308,    12221.23156848,\n",
       "          24620.59283669,    45010.47506914,    68470.30682953,\n",
       "         500629.75490405, 71258176.42179964])"
      ]
     },
     "execution_count": 57,
     "metadata": {},
     "output_type": "execute_result"
    }
   ],
   "source": [
    "oevals[0] / oevals[1:]"
   ]
  },
  {
   "cell_type": "code",
   "execution_count": 58,
   "metadata": {},
   "outputs": [
    {
     "data": {
      "text/plain": [
       "const      741.029693\n",
       "Ht         333.137832\n",
       "HtShoes    307.429378\n",
       "Seated       8.951054\n",
       "Leg          6.694291\n",
       "Arm          4.496368\n",
       "Weight       3.647030\n",
       "Thigh        2.762886\n",
       "Age          1.997931\n",
       "dtype: float64"
      ]
     },
     "execution_count": 58,
     "metadata": {},
     "output_type": "execute_result"
    }
   ],
   "source": [
    "pd.Series([vif(Xf,k).item() for k in range(Xf.shape[1])],Xm.columns).sort_values(ascending = False)"
   ]
  },
  {
   "cell_type": "markdown",
   "metadata": {},
   "source": [
    "***\n",
    "## PCA\n",
    "***"
   ]
  },
  {
   "cell_type": "code",
   "execution_count": 59,
   "metadata": {},
   "outputs": [
    {
     "data": {
      "text/html": [
       "<style>#sk-container-id-1 {\n",
       "  /* Definition of color scheme common for light and dark mode */\n",
       "  --sklearn-color-text: black;\n",
       "  --sklearn-color-line: gray;\n",
       "  /* Definition of color scheme for unfitted estimators */\n",
       "  --sklearn-color-unfitted-level-0: #fff5e6;\n",
       "  --sklearn-color-unfitted-level-1: #f6e4d2;\n",
       "  --sklearn-color-unfitted-level-2: #ffe0b3;\n",
       "  --sklearn-color-unfitted-level-3: chocolate;\n",
       "  /* Definition of color scheme for fitted estimators */\n",
       "  --sklearn-color-fitted-level-0: #f0f8ff;\n",
       "  --sklearn-color-fitted-level-1: #d4ebff;\n",
       "  --sklearn-color-fitted-level-2: #b3dbfd;\n",
       "  --sklearn-color-fitted-level-3: cornflowerblue;\n",
       "\n",
       "  /* Specific color for light theme */\n",
       "  --sklearn-color-text-on-default-background: var(--sg-text-color, var(--theme-code-foreground, var(--jp-content-font-color1, black)));\n",
       "  --sklearn-color-background: var(--sg-background-color, var(--theme-background, var(--jp-layout-color0, white)));\n",
       "  --sklearn-color-border-box: var(--sg-text-color, var(--theme-code-foreground, var(--jp-content-font-color1, black)));\n",
       "  --sklearn-color-icon: #696969;\n",
       "\n",
       "  @media (prefers-color-scheme: dark) {\n",
       "    /* Redefinition of color scheme for dark theme */\n",
       "    --sklearn-color-text-on-default-background: var(--sg-text-color, var(--theme-code-foreground, var(--jp-content-font-color1, white)));\n",
       "    --sklearn-color-background: var(--sg-background-color, var(--theme-background, var(--jp-layout-color0, #111)));\n",
       "    --sklearn-color-border-box: var(--sg-text-color, var(--theme-code-foreground, var(--jp-content-font-color1, white)));\n",
       "    --sklearn-color-icon: #878787;\n",
       "  }\n",
       "}\n",
       "\n",
       "#sk-container-id-1 {\n",
       "  color: var(--sklearn-color-text);\n",
       "}\n",
       "\n",
       "#sk-container-id-1 pre {\n",
       "  padding: 0;\n",
       "}\n",
       "\n",
       "#sk-container-id-1 input.sk-hidden--visually {\n",
       "  border: 0;\n",
       "  clip: rect(1px 1px 1px 1px);\n",
       "  clip: rect(1px, 1px, 1px, 1px);\n",
       "  height: 1px;\n",
       "  margin: -1px;\n",
       "  overflow: hidden;\n",
       "  padding: 0;\n",
       "  position: absolute;\n",
       "  width: 1px;\n",
       "}\n",
       "\n",
       "#sk-container-id-1 div.sk-dashed-wrapped {\n",
       "  border: 1px dashed var(--sklearn-color-line);\n",
       "  margin: 0 0.4em 0.5em 0.4em;\n",
       "  box-sizing: border-box;\n",
       "  padding-bottom: 0.4em;\n",
       "  background-color: var(--sklearn-color-background);\n",
       "}\n",
       "\n",
       "#sk-container-id-1 div.sk-container {\n",
       "  /* jupyter's `normalize.less` sets `[hidden] { display: none; }`\n",
       "     but bootstrap.min.css set `[hidden] { display: none !important; }`\n",
       "     so we also need the `!important` here to be able to override the\n",
       "     default hidden behavior on the sphinx rendered scikit-learn.org.\n",
       "     See: https://github.com/scikit-learn/scikit-learn/issues/21755 */\n",
       "  display: inline-block !important;\n",
       "  position: relative;\n",
       "}\n",
       "\n",
       "#sk-container-id-1 div.sk-text-repr-fallback {\n",
       "  display: none;\n",
       "}\n",
       "\n",
       "div.sk-parallel-item,\n",
       "div.sk-serial,\n",
       "div.sk-item {\n",
       "  /* draw centered vertical line to link estimators */\n",
       "  background-image: linear-gradient(var(--sklearn-color-text-on-default-background), var(--sklearn-color-text-on-default-background));\n",
       "  background-size: 2px 100%;\n",
       "  background-repeat: no-repeat;\n",
       "  background-position: center center;\n",
       "}\n",
       "\n",
       "/* Parallel-specific style estimator block */\n",
       "\n",
       "#sk-container-id-1 div.sk-parallel-item::after {\n",
       "  content: \"\";\n",
       "  width: 100%;\n",
       "  border-bottom: 2px solid var(--sklearn-color-text-on-default-background);\n",
       "  flex-grow: 1;\n",
       "}\n",
       "\n",
       "#sk-container-id-1 div.sk-parallel {\n",
       "  display: flex;\n",
       "  align-items: stretch;\n",
       "  justify-content: center;\n",
       "  background-color: var(--sklearn-color-background);\n",
       "  position: relative;\n",
       "}\n",
       "\n",
       "#sk-container-id-1 div.sk-parallel-item {\n",
       "  display: flex;\n",
       "  flex-direction: column;\n",
       "}\n",
       "\n",
       "#sk-container-id-1 div.sk-parallel-item:first-child::after {\n",
       "  align-self: flex-end;\n",
       "  width: 50%;\n",
       "}\n",
       "\n",
       "#sk-container-id-1 div.sk-parallel-item:last-child::after {\n",
       "  align-self: flex-start;\n",
       "  width: 50%;\n",
       "}\n",
       "\n",
       "#sk-container-id-1 div.sk-parallel-item:only-child::after {\n",
       "  width: 0;\n",
       "}\n",
       "\n",
       "/* Serial-specific style estimator block */\n",
       "\n",
       "#sk-container-id-1 div.sk-serial {\n",
       "  display: flex;\n",
       "  flex-direction: column;\n",
       "  align-items: center;\n",
       "  background-color: var(--sklearn-color-background);\n",
       "  padding-right: 1em;\n",
       "  padding-left: 1em;\n",
       "}\n",
       "\n",
       "\n",
       "/* Toggleable style: style used for estimator/Pipeline/ColumnTransformer box that is\n",
       "clickable and can be expanded/collapsed.\n",
       "- Pipeline and ColumnTransformer use this feature and define the default style\n",
       "- Estimators will overwrite some part of the style using the `sk-estimator` class\n",
       "*/\n",
       "\n",
       "/* Pipeline and ColumnTransformer style (default) */\n",
       "\n",
       "#sk-container-id-1 div.sk-toggleable {\n",
       "  /* Default theme specific background. It is overwritten whether we have a\n",
       "  specific estimator or a Pipeline/ColumnTransformer */\n",
       "  background-color: var(--sklearn-color-background);\n",
       "}\n",
       "\n",
       "/* Toggleable label */\n",
       "#sk-container-id-1 label.sk-toggleable__label {\n",
       "  cursor: pointer;\n",
       "  display: block;\n",
       "  width: 100%;\n",
       "  margin-bottom: 0;\n",
       "  padding: 0.5em;\n",
       "  box-sizing: border-box;\n",
       "  text-align: center;\n",
       "}\n",
       "\n",
       "#sk-container-id-1 label.sk-toggleable__label-arrow:before {\n",
       "  /* Arrow on the left of the label */\n",
       "  content: \"▸\";\n",
       "  float: left;\n",
       "  margin-right: 0.25em;\n",
       "  color: var(--sklearn-color-icon);\n",
       "}\n",
       "\n",
       "#sk-container-id-1 label.sk-toggleable__label-arrow:hover:before {\n",
       "  color: var(--sklearn-color-text);\n",
       "}\n",
       "\n",
       "/* Toggleable content - dropdown */\n",
       "\n",
       "#sk-container-id-1 div.sk-toggleable__content {\n",
       "  max-height: 0;\n",
       "  max-width: 0;\n",
       "  overflow: hidden;\n",
       "  text-align: left;\n",
       "  /* unfitted */\n",
       "  background-color: var(--sklearn-color-unfitted-level-0);\n",
       "}\n",
       "\n",
       "#sk-container-id-1 div.sk-toggleable__content.fitted {\n",
       "  /* fitted */\n",
       "  background-color: var(--sklearn-color-fitted-level-0);\n",
       "}\n",
       "\n",
       "#sk-container-id-1 div.sk-toggleable__content pre {\n",
       "  margin: 0.2em;\n",
       "  border-radius: 0.25em;\n",
       "  color: var(--sklearn-color-text);\n",
       "  /* unfitted */\n",
       "  background-color: var(--sklearn-color-unfitted-level-0);\n",
       "}\n",
       "\n",
       "#sk-container-id-1 div.sk-toggleable__content.fitted pre {\n",
       "  /* unfitted */\n",
       "  background-color: var(--sklearn-color-fitted-level-0);\n",
       "}\n",
       "\n",
       "#sk-container-id-1 input.sk-toggleable__control:checked~div.sk-toggleable__content {\n",
       "  /* Expand drop-down */\n",
       "  max-height: 200px;\n",
       "  max-width: 100%;\n",
       "  overflow: auto;\n",
       "}\n",
       "\n",
       "#sk-container-id-1 input.sk-toggleable__control:checked~label.sk-toggleable__label-arrow:before {\n",
       "  content: \"▾\";\n",
       "}\n",
       "\n",
       "/* Pipeline/ColumnTransformer-specific style */\n",
       "\n",
       "#sk-container-id-1 div.sk-label input.sk-toggleable__control:checked~label.sk-toggleable__label {\n",
       "  color: var(--sklearn-color-text);\n",
       "  background-color: var(--sklearn-color-unfitted-level-2);\n",
       "}\n",
       "\n",
       "#sk-container-id-1 div.sk-label.fitted input.sk-toggleable__control:checked~label.sk-toggleable__label {\n",
       "  background-color: var(--sklearn-color-fitted-level-2);\n",
       "}\n",
       "\n",
       "/* Estimator-specific style */\n",
       "\n",
       "/* Colorize estimator box */\n",
       "#sk-container-id-1 div.sk-estimator input.sk-toggleable__control:checked~label.sk-toggleable__label {\n",
       "  /* unfitted */\n",
       "  background-color: var(--sklearn-color-unfitted-level-2);\n",
       "}\n",
       "\n",
       "#sk-container-id-1 div.sk-estimator.fitted input.sk-toggleable__control:checked~label.sk-toggleable__label {\n",
       "  /* fitted */\n",
       "  background-color: var(--sklearn-color-fitted-level-2);\n",
       "}\n",
       "\n",
       "#sk-container-id-1 div.sk-label label.sk-toggleable__label,\n",
       "#sk-container-id-1 div.sk-label label {\n",
       "  /* The background is the default theme color */\n",
       "  color: var(--sklearn-color-text-on-default-background);\n",
       "}\n",
       "\n",
       "/* On hover, darken the color of the background */\n",
       "#sk-container-id-1 div.sk-label:hover label.sk-toggleable__label {\n",
       "  color: var(--sklearn-color-text);\n",
       "  background-color: var(--sklearn-color-unfitted-level-2);\n",
       "}\n",
       "\n",
       "/* Label box, darken color on hover, fitted */\n",
       "#sk-container-id-1 div.sk-label.fitted:hover label.sk-toggleable__label.fitted {\n",
       "  color: var(--sklearn-color-text);\n",
       "  background-color: var(--sklearn-color-fitted-level-2);\n",
       "}\n",
       "\n",
       "/* Estimator label */\n",
       "\n",
       "#sk-container-id-1 div.sk-label label {\n",
       "  font-family: monospace;\n",
       "  font-weight: bold;\n",
       "  display: inline-block;\n",
       "  line-height: 1.2em;\n",
       "}\n",
       "\n",
       "#sk-container-id-1 div.sk-label-container {\n",
       "  text-align: center;\n",
       "}\n",
       "\n",
       "/* Estimator-specific */\n",
       "#sk-container-id-1 div.sk-estimator {\n",
       "  font-family: monospace;\n",
       "  border: 1px dotted var(--sklearn-color-border-box);\n",
       "  border-radius: 0.25em;\n",
       "  box-sizing: border-box;\n",
       "  margin-bottom: 0.5em;\n",
       "  /* unfitted */\n",
       "  background-color: var(--sklearn-color-unfitted-level-0);\n",
       "}\n",
       "\n",
       "#sk-container-id-1 div.sk-estimator.fitted {\n",
       "  /* fitted */\n",
       "  background-color: var(--sklearn-color-fitted-level-0);\n",
       "}\n",
       "\n",
       "/* on hover */\n",
       "#sk-container-id-1 div.sk-estimator:hover {\n",
       "  /* unfitted */\n",
       "  background-color: var(--sklearn-color-unfitted-level-2);\n",
       "}\n",
       "\n",
       "#sk-container-id-1 div.sk-estimator.fitted:hover {\n",
       "  /* fitted */\n",
       "  background-color: var(--sklearn-color-fitted-level-2);\n",
       "}\n",
       "\n",
       "/* Specification for estimator info (e.g. \"i\" and \"?\") */\n",
       "\n",
       "/* Common style for \"i\" and \"?\" */\n",
       "\n",
       ".sk-estimator-doc-link,\n",
       "a:link.sk-estimator-doc-link,\n",
       "a:visited.sk-estimator-doc-link {\n",
       "  float: right;\n",
       "  font-size: smaller;\n",
       "  line-height: 1em;\n",
       "  font-family: monospace;\n",
       "  background-color: var(--sklearn-color-background);\n",
       "  border-radius: 1em;\n",
       "  height: 1em;\n",
       "  width: 1em;\n",
       "  text-decoration: none !important;\n",
       "  margin-left: 1ex;\n",
       "  /* unfitted */\n",
       "  border: var(--sklearn-color-unfitted-level-1) 1pt solid;\n",
       "  color: var(--sklearn-color-unfitted-level-1);\n",
       "}\n",
       "\n",
       ".sk-estimator-doc-link.fitted,\n",
       "a:link.sk-estimator-doc-link.fitted,\n",
       "a:visited.sk-estimator-doc-link.fitted {\n",
       "  /* fitted */\n",
       "  border: var(--sklearn-color-fitted-level-1) 1pt solid;\n",
       "  color: var(--sklearn-color-fitted-level-1);\n",
       "}\n",
       "\n",
       "/* On hover */\n",
       "div.sk-estimator:hover .sk-estimator-doc-link:hover,\n",
       ".sk-estimator-doc-link:hover,\n",
       "div.sk-label-container:hover .sk-estimator-doc-link:hover,\n",
       ".sk-estimator-doc-link:hover {\n",
       "  /* unfitted */\n",
       "  background-color: var(--sklearn-color-unfitted-level-3);\n",
       "  color: var(--sklearn-color-background);\n",
       "  text-decoration: none;\n",
       "}\n",
       "\n",
       "div.sk-estimator.fitted:hover .sk-estimator-doc-link.fitted:hover,\n",
       ".sk-estimator-doc-link.fitted:hover,\n",
       "div.sk-label-container:hover .sk-estimator-doc-link.fitted:hover,\n",
       ".sk-estimator-doc-link.fitted:hover {\n",
       "  /* fitted */\n",
       "  background-color: var(--sklearn-color-fitted-level-3);\n",
       "  color: var(--sklearn-color-background);\n",
       "  text-decoration: none;\n",
       "}\n",
       "\n",
       "/* Span, style for the box shown on hovering the info icon */\n",
       ".sk-estimator-doc-link span {\n",
       "  display: none;\n",
       "  z-index: 9999;\n",
       "  position: relative;\n",
       "  font-weight: normal;\n",
       "  right: .2ex;\n",
       "  padding: .5ex;\n",
       "  margin: .5ex;\n",
       "  width: min-content;\n",
       "  min-width: 20ex;\n",
       "  max-width: 50ex;\n",
       "  color: var(--sklearn-color-text);\n",
       "  box-shadow: 2pt 2pt 4pt #999;\n",
       "  /* unfitted */\n",
       "  background: var(--sklearn-color-unfitted-level-0);\n",
       "  border: .5pt solid var(--sklearn-color-unfitted-level-3);\n",
       "}\n",
       "\n",
       ".sk-estimator-doc-link.fitted span {\n",
       "  /* fitted */\n",
       "  background: var(--sklearn-color-fitted-level-0);\n",
       "  border: var(--sklearn-color-fitted-level-3);\n",
       "}\n",
       "\n",
       ".sk-estimator-doc-link:hover span {\n",
       "  display: block;\n",
       "}\n",
       "\n",
       "/* \"?\"-specific style due to the `<a>` HTML tag */\n",
       "\n",
       "#sk-container-id-1 a.estimator_doc_link {\n",
       "  float: right;\n",
       "  font-size: 1rem;\n",
       "  line-height: 1em;\n",
       "  font-family: monospace;\n",
       "  background-color: var(--sklearn-color-background);\n",
       "  border-radius: 1rem;\n",
       "  height: 1rem;\n",
       "  width: 1rem;\n",
       "  text-decoration: none;\n",
       "  /* unfitted */\n",
       "  color: var(--sklearn-color-unfitted-level-1);\n",
       "  border: var(--sklearn-color-unfitted-level-1) 1pt solid;\n",
       "}\n",
       "\n",
       "#sk-container-id-1 a.estimator_doc_link.fitted {\n",
       "  /* fitted */\n",
       "  border: var(--sklearn-color-fitted-level-1) 1pt solid;\n",
       "  color: var(--sklearn-color-fitted-level-1);\n",
       "}\n",
       "\n",
       "/* On hover */\n",
       "#sk-container-id-1 a.estimator_doc_link:hover {\n",
       "  /* unfitted */\n",
       "  background-color: var(--sklearn-color-unfitted-level-3);\n",
       "  color: var(--sklearn-color-background);\n",
       "  text-decoration: none;\n",
       "}\n",
       "\n",
       "#sk-container-id-1 a.estimator_doc_link.fitted:hover {\n",
       "  /* fitted */\n",
       "  background-color: var(--sklearn-color-fitted-level-3);\n",
       "}\n",
       "</style><div id=\"sk-container-id-1\" class=\"sk-top-container\"><div class=\"sk-text-repr-fallback\"><pre>PCA()</pre><b>In a Jupyter environment, please rerun this cell to show the HTML representation or trust the notebook. <br />On GitHub, the HTML representation is unable to render, please try loading this page with nbviewer.org.</b></div><div class=\"sk-container\" hidden><div class=\"sk-item\"><div class=\"sk-estimator fitted sk-toggleable\"><input class=\"sk-toggleable__control sk-hidden--visually\" id=\"sk-estimator-id-1\" type=\"checkbox\" checked><label for=\"sk-estimator-id-1\" class=\"sk-toggleable__label fitted sk-toggleable__label-arrow fitted\">&nbsp;&nbsp;PCA<a class=\"sk-estimator-doc-link fitted\" rel=\"noreferrer\" target=\"_blank\" href=\"https://scikit-learn.org/1.5/modules/generated/sklearn.decomposition.PCA.html\">?<span>Documentation for PCA</span></a><span class=\"sk-estimator-doc-link fitted\">i<span>Fitted</span></span></label><div class=\"sk-toggleable__content fitted\"><pre>PCA()</pre></div> </div></div></div></div>"
      ],
      "text/plain": [
       "PCA()"
      ]
     },
     "execution_count": 59,
     "metadata": {},
     "output_type": "execute_result"
    }
   ],
   "source": [
    "pca = PCA()\n",
    "Xp = df_seat.iloc[:,:-1]\n",
    "pca.fit(Xp)"
   ]
  },
  {
   "cell_type": "code",
   "execution_count": 60,
   "metadata": {},
   "outputs": [
    {
     "data": {
      "text/plain": [
       "array([0.81924703, 0.95338137, 0.99228641, 0.99599742, 0.9979233 ,\n",
       "       0.99910322, 0.99989213, 1.        ])"
      ]
     },
     "execution_count": 60,
     "metadata": {},
     "output_type": "execute_result"
    }
   ],
   "source": [
    "np.cumsum(pca.explained_variance_ratio_)"
   ]
  },
  {
   "cell_type": "code",
   "execution_count": 61,
   "metadata": {},
   "outputs": [
    {
     "data": {
      "text/plain": [
       "<BarContainer object of 8 artists>"
      ]
     },
     "execution_count": 61,
     "metadata": {},
     "output_type": "execute_result"
    },
    {
     "data": {
      "image/png": "[encoded data removed]",
      "text/plain": [
       "<Figure size 640x480 with 1 Axes>"
      ]
     },
     "metadata": {},
     "output_type": "display_data"
    }
   ],
   "source": [
    "# prop each PCs contributes to the total variation\n",
    "plt.bar(range(Xp.shape[1]),pca.explained_variance_ratio_)"
   ]
  },
  {
   "cell_type": "code",
   "execution_count": 62,
   "metadata": {},
   "outputs": [
    {
     "data": {
      "text/html": [
       "<table class=\"simpletable\">\n",
       "<caption>OLS Regression Results</caption>\n",
       "<tr>\n",
       "  <th>Dep. Variable:</th>    <td>hipcenter</td> <th>  R-squared:         </th> <td>   0.660</td>\n",
       "</tr>\n",
       "<tr>\n",
       "  <th>Model:</th>               <td>OLS</td>    <th>  Adj. R-squared:    </th> <td>   0.630</td>\n",
       "</tr>\n",
       "<tr>\n",
       "  <th>No. Observations:</th>  <td>    38</td>   <th>  F-statistic:       </th> <td>   21.99</td>\n",
       "</tr>\n",
       "<tr>\n",
       "  <th>Covariance Type:</th>  <td>nonrobust</td> <th>  Prob (F-statistic):</th> <td>4.27e-08</td>\n",
       "</tr>\n",
       "</table>\n",
       "<table class=\"simpletable\">\n",
       "<tr>\n",
       "    <td></td>       <th>coef</th>     <th>std err</th>      <th>t</th>      <th>P>|t|</th>  <th>[0.025</th>    <th>0.975]</th>  \n",
       "</tr>\n",
       "<tr>\n",
       "  <th>const</th> <td> -164.8849</td> <td>    5.887</td> <td>  -28.010</td> <td> 0.000</td> <td> -176.848</td> <td> -152.922</td>\n",
       "</tr>\n",
       "<tr>\n",
       "  <th>x1</th>    <td>   -1.0495</td> <td>    0.154</td> <td>   -6.808</td> <td> 0.000</td> <td>   -1.363</td> <td>   -0.736</td>\n",
       "</tr>\n",
       "<tr>\n",
       "  <th>x2</th>    <td>    1.0995</td> <td>    0.381</td> <td>    2.886</td> <td> 0.007</td> <td>    0.325</td> <td>    1.874</td>\n",
       "</tr>\n",
       "<tr>\n",
       "  <th>x3</th>    <td>   -2.3777</td> <td>    0.707</td> <td>   -3.361</td> <td> 0.002</td> <td>   -3.815</td> <td>   -0.940</td>\n",
       "</tr>\n",
       "</table><br/><br/>Notes:<br/>[1] Standard Errors assume that the covariance matrix of the errors is correctly specified."
      ],
      "text/latex": [
       "\\begin{center}\n",
       "\\begin{tabular}{lclc}\n",
       "\\toprule\n",
       "\\textbf{Dep. Variable:}    &   hipcenter   & \\textbf{  R-squared:         } &     0.660   \\\\\n",
       "\\textbf{Model:}            &      OLS      & \\textbf{  Adj. R-squared:    } &     0.630   \\\\\n",
       "\\textbf{No. Observations:} &         38    & \\textbf{  F-statistic:       } &     21.99   \\\\\n",
       "\\textbf{Covariance Type:}  &   nonrobust   & \\textbf{  Prob (F-statistic):} &  4.27e-08   \\\\\n",
       "\\bottomrule\n",
       "\\end{tabular}\n",
       "\\begin{tabular}{lcccccc}\n",
       "               & \\textbf{coef} & \\textbf{std err} & \\textbf{t} & \\textbf{P$> |$t$|$} & \\textbf{[0.025} & \\textbf{0.975]}  \\\\\n",
       "\\midrule\n",
       "\\textbf{const} &    -164.8849  &        5.887     &   -28.010  &         0.000        &     -176.848    &     -152.922     \\\\\n",
       "\\textbf{x1}    &      -1.0495  &        0.154     &    -6.808  &         0.000        &       -1.363    &       -0.736     \\\\\n",
       "\\textbf{x2}    &       1.0995  &        0.381     &     2.886  &         0.007        &        0.325    &        1.874     \\\\\n",
       "\\textbf{x3}    &      -2.3777  &        0.707     &    -3.361  &         0.002        &       -3.815    &       -0.940     \\\\\n",
       "\\bottomrule\n",
       "\\end{tabular}\n",
       "%\\caption{OLS Regression Results}\n",
       "\\end{center}\n",
       "\n",
       "Notes: \\newline\n",
       " [1] Standard Errors assume that the covariance matrix of the errors is correctly specified."
      ],
      "text/plain": [
       "<class 'statsmodels.iolib.summary.Summary'>\n",
       "\"\"\"\n",
       "                            OLS Regression Results                            \n",
       "==============================================================================\n",
       "Dep. Variable:              hipcenter   R-squared:                       0.660\n",
       "Model:                            OLS   Adj. R-squared:                  0.630\n",
       "No. Observations:                  38   F-statistic:                     21.99\n",
       "Covariance Type:            nonrobust   Prob (F-statistic):           4.27e-08\n",
       "==============================================================================\n",
       "                 coef    std err          t      P>|t|      [0.025      0.975]\n",
       "------------------------------------------------------------------------------\n",
       "const       -164.8849      5.887    -28.010      0.000    -176.848    -152.922\n",
       "x1            -1.0495      0.154     -6.808      0.000      -1.363      -0.736\n",
       "x2             1.0995      0.381      2.886      0.007       0.325       1.874\n",
       "x3            -2.3777      0.707     -3.361      0.002      -3.815      -0.940\n",
       "==============================================================================\n",
       "\n",
       "Notes:\n",
       "[1] Standard Errors assume that the covariance matrix of the errors is correctly specified.\n",
       "\"\"\""
      ]
     },
     "execution_count": 62,
     "metadata": {},
     "output_type": "execute_result"
    }
   ],
   "source": [
    "pcScore = pca.fit_transform(Xp)\n",
    "Zp = sm.add_constant(pcScore[:,:3])\n",
    "model_pc = sm.OLS(y,Zp).fit()\n",
    "model_pc.summary(slim = True)"
   ]
  },
  {
   "cell_type": "markdown",
   "metadata": {},
   "source": [
    "***\n",
    "## Serial correlation\n",
    "***"
   ]
  },
  {
   "cell_type": "code",
   "execution_count": 63,
   "metadata": {},
   "outputs": [
    {
     "data": {
      "text/html": [
       "<div>\n",
       "<style scoped>\n",
       "    .dataframe tbody tr th:only-of-type {\n",
       "        vertical-align: middle;\n",
       "    }\n",
       "\n",
       "    .dataframe tbody tr th {\n",
       "        vertical-align: top;\n",
       "    }\n",
       "\n",
       "    .dataframe thead th {\n",
       "        text-align: right;\n",
       "    }\n",
       "</style>\n",
       "<table border=\"1\" class=\"dataframe\">\n",
       "  <thead>\n",
       "    <tr style=\"text-align: right;\">\n",
       "      <th></th>\n",
       "      <th>nhtemp</th>\n",
       "      <th>wusa</th>\n",
       "      <th>jasper</th>\n",
       "      <th>westgreen</th>\n",
       "      <th>chesapeake</th>\n",
       "      <th>tornetrask</th>\n",
       "      <th>urals</th>\n",
       "      <th>mongolia</th>\n",
       "      <th>tasman</th>\n",
       "      <th>year</th>\n",
       "    </tr>\n",
       "  </thead>\n",
       "  <tbody>\n",
       "    <tr>\n",
       "      <th>0</th>\n",
       "      <td>NaN</td>\n",
       "      <td>-0.66</td>\n",
       "      <td>-0.03</td>\n",
       "      <td>0.03</td>\n",
       "      <td>-0.66</td>\n",
       "      <td>0.33</td>\n",
       "      <td>-1.49</td>\n",
       "      <td>0.83</td>\n",
       "      <td>-0.12</td>\n",
       "      <td>1000</td>\n",
       "    </tr>\n",
       "    <tr>\n",
       "      <th>1</th>\n",
       "      <td>NaN</td>\n",
       "      <td>-0.63</td>\n",
       "      <td>-0.07</td>\n",
       "      <td>0.09</td>\n",
       "      <td>-0.67</td>\n",
       "      <td>0.21</td>\n",
       "      <td>-1.44</td>\n",
       "      <td>0.96</td>\n",
       "      <td>-0.17</td>\n",
       "      <td>1001</td>\n",
       "    </tr>\n",
       "    <tr>\n",
       "      <th>2</th>\n",
       "      <td>NaN</td>\n",
       "      <td>-0.60</td>\n",
       "      <td>-0.11</td>\n",
       "      <td>0.18</td>\n",
       "      <td>-0.67</td>\n",
       "      <td>0.13</td>\n",
       "      <td>-1.39</td>\n",
       "      <td>0.99</td>\n",
       "      <td>-0.22</td>\n",
       "      <td>1002</td>\n",
       "    </tr>\n",
       "    <tr>\n",
       "      <th>3</th>\n",
       "      <td>NaN</td>\n",
       "      <td>-0.55</td>\n",
       "      <td>-0.14</td>\n",
       "      <td>0.30</td>\n",
       "      <td>-0.68</td>\n",
       "      <td>0.08</td>\n",
       "      <td>-1.34</td>\n",
       "      <td>0.95</td>\n",
       "      <td>-0.26</td>\n",
       "      <td>1003</td>\n",
       "    </tr>\n",
       "    <tr>\n",
       "      <th>4</th>\n",
       "      <td>NaN</td>\n",
       "      <td>-0.51</td>\n",
       "      <td>-0.15</td>\n",
       "      <td>0.41</td>\n",
       "      <td>-0.68</td>\n",
       "      <td>0.06</td>\n",
       "      <td>-1.30</td>\n",
       "      <td>0.87</td>\n",
       "      <td>-0.31</td>\n",
       "      <td>1004</td>\n",
       "    </tr>\n",
       "  </tbody>\n",
       "</table>\n",
       "</div>"
      ],
      "text/plain": [
       "   nhtemp  wusa  jasper  westgreen  chesapeake  tornetrask  urals  mongolia  \\\n",
       "0     NaN -0.66   -0.03       0.03       -0.66        0.33  -1.49      0.83   \n",
       "1     NaN -0.63   -0.07       0.09       -0.67        0.21  -1.44      0.96   \n",
       "2     NaN -0.60   -0.11       0.18       -0.67        0.13  -1.39      0.99   \n",
       "3     NaN -0.55   -0.14       0.30       -0.68        0.08  -1.34      0.95   \n",
       "4     NaN -0.51   -0.15       0.41       -0.68        0.06  -1.30      0.87   \n",
       "\n",
       "   tasman  year  \n",
       "0   -0.12  1000  \n",
       "1   -0.17  1001  \n",
       "2   -0.22  1002  \n",
       "3   -0.26  1003  \n",
       "4   -0.31  1004  "
      ]
     },
     "execution_count": 63,
     "metadata": {},
     "output_type": "execute_result"
    }
   ],
   "source": [
    "df_glob = globwarm.load()\n",
    "df_glob.head()"
   ]
  },
  {
   "cell_type": "code",
   "execution_count": 64,
   "metadata": {},
   "outputs": [
    {
     "data": {
      "text/html": [
       "<div>\n",
       "<style scoped>\n",
       "    .dataframe tbody tr th:only-of-type {\n",
       "        vertical-align: middle;\n",
       "    }\n",
       "\n",
       "    .dataframe tbody tr th {\n",
       "        vertical-align: top;\n",
       "    }\n",
       "\n",
       "    .dataframe thead th {\n",
       "        text-align: right;\n",
       "    }\n",
       "</style>\n",
       "<table border=\"1\" class=\"dataframe\">\n",
       "  <thead>\n",
       "    <tr style=\"text-align: right;\">\n",
       "      <th></th>\n",
       "      <th>nhtemp</th>\n",
       "      <th>wusa</th>\n",
       "      <th>jasper</th>\n",
       "      <th>westgreen</th>\n",
       "      <th>chesapeake</th>\n",
       "      <th>tornetrask</th>\n",
       "      <th>urals</th>\n",
       "      <th>mongolia</th>\n",
       "      <th>tasman</th>\n",
       "      <th>year</th>\n",
       "    </tr>\n",
       "  </thead>\n",
       "  <tbody>\n",
       "    <tr>\n",
       "      <th>856</th>\n",
       "      <td>-0.37</td>\n",
       "      <td>-0.78</td>\n",
       "      <td>-0.15</td>\n",
       "      <td>-0.06</td>\n",
       "      <td>0.80</td>\n",
       "      <td>0.41</td>\n",
       "      <td>-0.05</td>\n",
       "      <td>-1.27</td>\n",
       "      <td>0.10</td>\n",
       "      <td>1856</td>\n",
       "    </tr>\n",
       "    <tr>\n",
       "      <th>857</th>\n",
       "      <td>-0.35</td>\n",
       "      <td>-0.81</td>\n",
       "      <td>-0.15</td>\n",
       "      <td>-0.24</td>\n",
       "      <td>0.70</td>\n",
       "      <td>0.46</td>\n",
       "      <td>-0.06</td>\n",
       "      <td>-1.18</td>\n",
       "      <td>0.25</td>\n",
       "      <td>1857</td>\n",
       "    </tr>\n",
       "    <tr>\n",
       "      <th>858</th>\n",
       "      <td>-0.33</td>\n",
       "      <td>-0.84</td>\n",
       "      <td>-0.15</td>\n",
       "      <td>-0.41</td>\n",
       "      <td>0.58</td>\n",
       "      <td>0.49</td>\n",
       "      <td>-0.08</td>\n",
       "      <td>-1.07</td>\n",
       "      <td>0.40</td>\n",
       "      <td>1858</td>\n",
       "    </tr>\n",
       "    <tr>\n",
       "      <th>859</th>\n",
       "      <td>-0.09</td>\n",
       "      <td>-0.85</td>\n",
       "      <td>-0.15</td>\n",
       "      <td>-0.57</td>\n",
       "      <td>0.44</td>\n",
       "      <td>0.49</td>\n",
       "      <td>-0.09</td>\n",
       "      <td>-0.98</td>\n",
       "      <td>0.52</td>\n",
       "      <td>1859</td>\n",
       "    </tr>\n",
       "    <tr>\n",
       "      <th>860</th>\n",
       "      <td>-0.37</td>\n",
       "      <td>-0.84</td>\n",
       "      <td>-0.16</td>\n",
       "      <td>-0.70</td>\n",
       "      <td>0.32</td>\n",
       "      <td>0.45</td>\n",
       "      <td>-0.11</td>\n",
       "      <td>-0.90</td>\n",
       "      <td>0.61</td>\n",
       "      <td>1860</td>\n",
       "    </tr>\n",
       "  </tbody>\n",
       "</table>\n",
       "</div>"
      ],
      "text/plain": [
       "     nhtemp  wusa  jasper  westgreen  chesapeake  tornetrask  urals  mongolia  \\\n",
       "856   -0.37 -0.78   -0.15      -0.06        0.80        0.41  -0.05     -1.27   \n",
       "857   -0.35 -0.81   -0.15      -0.24        0.70        0.46  -0.06     -1.18   \n",
       "858   -0.33 -0.84   -0.15      -0.41        0.58        0.49  -0.08     -1.07   \n",
       "859   -0.09 -0.85   -0.15      -0.57        0.44        0.49  -0.09     -0.98   \n",
       "860   -0.37 -0.84   -0.16      -0.70        0.32        0.45  -0.11     -0.90   \n",
       "\n",
       "     tasman  year  \n",
       "856    0.10  1856  \n",
       "857    0.25  1857  \n",
       "858    0.40  1858  \n",
       "859    0.52  1859  \n",
       "860    0.61  1860  "
      ]
     },
     "execution_count": 64,
     "metadata": {},
     "output_type": "execute_result"
    }
   ],
   "source": [
    "df_glob_dr = df_glob.dropna()\n",
    "df_glob_dr.head()"
   ]
  },
  {
   "cell_type": "code",
   "execution_count": 65,
   "metadata": {},
   "outputs": [],
   "source": [
    "Xm = sm.add_constant(df_glob_dr.iloc[:,1:-1])\n",
    "y = df_glob_dr['nhtemp']\n",
    "model_gal = sm.OLS(y,Xm).fit()"
   ]
  },
  {
   "cell_type": "code",
   "execution_count": 66,
   "metadata": {},
   "outputs": [
    {
     "data": {
      "text/plain": [
       "<matplotlib.lines.Line2D at 0x17722003980>"
      ]
     },
     "execution_count": 66,
     "metadata": {},
     "output_type": "execute_result"
    },
    {
     "data": {
      "image/png": "[encoded data removed]",
      "text/plain": [
       "<Figure size 1000x500 with 2 Axes>"
      ]
     },
     "metadata": {},
     "output_type": "display_data"
    }
   ],
   "source": [
    "plt.figure(figsize = [10,5])\n",
    "plt.subplot(1,2,1)\n",
    "plt.plot(df_glob.year[model_gal.resid.keys()],model_gal.resid,'x')\n",
    "plt.axhline(y = 0,color = 'red')\n",
    "plt.subplot(1,2,2)\n",
    "plt.plot(model_gal.resid[:-1],model_gal.resid[1:],'x')\n",
    "plt.axhline(y = 0,color = 'red')\n",
    "plt.axvline(x = 0,color = 'red')"
   ]
  },
  {
   "cell_type": "code",
   "execution_count": 67,
   "metadata": {},
   "outputs": [
    {
     "data": {
      "text/plain": [
       "np.float64(0.8166063726402725)"
      ]
     },
     "execution_count": 67,
     "metadata": {},
     "output_type": "execute_result"
    }
   ],
   "source": [
    "sm.stats.stattools.durbin_watson(model_gal.resid)"
   ]
  },
  {
   "cell_type": "markdown",
   "metadata": {},
   "source": [
    "***\n",
    "## Dummy (2 levels)\n",
    "***"
   ]
  },
  {
   "cell_type": "code",
   "execution_count": 68,
   "metadata": {},
   "outputs": [
    {
     "data": {
      "text/html": [
       "<div>\n",
       "<style scoped>\n",
       "    .dataframe tbody tr th:only-of-type {\n",
       "        vertical-align: middle;\n",
       "    }\n",
       "\n",
       "    .dataframe tbody tr th {\n",
       "        vertical-align: top;\n",
       "    }\n",
       "\n",
       "    .dataframe thead th {\n",
       "        text-align: right;\n",
       "    }\n",
       "</style>\n",
       "<table border=\"1\" class=\"dataframe\">\n",
       "  <thead>\n",
       "    <tr style=\"text-align: right;\">\n",
       "      <th></th>\n",
       "      <th>cpa</th>\n",
       "      <th>ptsd</th>\n",
       "      <th>csa</th>\n",
       "    </tr>\n",
       "  </thead>\n",
       "  <tbody>\n",
       "    <tr>\n",
       "      <th>1</th>\n",
       "      <td>2.04786</td>\n",
       "      <td>9.71365</td>\n",
       "      <td>Abused</td>\n",
       "    </tr>\n",
       "    <tr>\n",
       "      <th>2</th>\n",
       "      <td>0.83895</td>\n",
       "      <td>6.16933</td>\n",
       "      <td>Abused</td>\n",
       "    </tr>\n",
       "    <tr>\n",
       "      <th>3</th>\n",
       "      <td>-0.24139</td>\n",
       "      <td>15.15926</td>\n",
       "      <td>Abused</td>\n",
       "    </tr>\n",
       "    <tr>\n",
       "      <th>4</th>\n",
       "      <td>-1.11461</td>\n",
       "      <td>11.31277</td>\n",
       "      <td>Abused</td>\n",
       "    </tr>\n",
       "    <tr>\n",
       "      <th>5</th>\n",
       "      <td>2.01468</td>\n",
       "      <td>9.95384</td>\n",
       "      <td>Abused</td>\n",
       "    </tr>\n",
       "  </tbody>\n",
       "</table>\n",
       "</div>"
      ],
      "text/plain": [
       "       cpa      ptsd     csa\n",
       "1  2.04786   9.71365  Abused\n",
       "2  0.83895   6.16933  Abused\n",
       "3 -0.24139  15.15926  Abused\n",
       "4 -1.11461  11.31277  Abused\n",
       "5  2.01468   9.95384  Abused"
      ]
     },
     "execution_count": 68,
     "metadata": {},
     "output_type": "execute_result"
    }
   ],
   "source": [
    "df_sex = sexab.load()\n",
    "df_sex.head()"
   ]
  },
  {
   "cell_type": "code",
   "execution_count": 69,
   "metadata": {},
   "outputs": [
    {
     "data": {
      "text/html": [
       "<div>\n",
       "<style scoped>\n",
       "    .dataframe tbody tr th:only-of-type {\n",
       "        vertical-align: middle;\n",
       "    }\n",
       "\n",
       "    .dataframe tbody tr th {\n",
       "        vertical-align: top;\n",
       "    }\n",
       "\n",
       "    .dataframe thead tr th {\n",
       "        text-align: left;\n",
       "    }\n",
       "\n",
       "    .dataframe thead tr:last-of-type th {\n",
       "        text-align: right;\n",
       "    }\n",
       "</style>\n",
       "<table border=\"1\" class=\"dataframe\">\n",
       "  <thead>\n",
       "    <tr>\n",
       "      <th></th>\n",
       "      <th colspan=\"3\" halign=\"left\">cpa</th>\n",
       "      <th colspan=\"3\" halign=\"left\">ptsd</th>\n",
       "    </tr>\n",
       "    <tr>\n",
       "      <th></th>\n",
       "      <th>min</th>\n",
       "      <th>median</th>\n",
       "      <th>max</th>\n",
       "      <th>min</th>\n",
       "      <th>median</th>\n",
       "      <th>max</th>\n",
       "    </tr>\n",
       "    <tr>\n",
       "      <th>csa</th>\n",
       "      <th></th>\n",
       "      <th></th>\n",
       "      <th></th>\n",
       "      <th></th>\n",
       "      <th></th>\n",
       "      <th></th>\n",
       "    </tr>\n",
       "  </thead>\n",
       "  <tbody>\n",
       "    <tr>\n",
       "      <th>Abused</th>\n",
       "      <td>-1.11461</td>\n",
       "      <td>2.62746</td>\n",
       "      <td>8.64690</td>\n",
       "      <td>5.98491</td>\n",
       "      <td>11.31277</td>\n",
       "      <td>18.99251</td>\n",
       "    </tr>\n",
       "    <tr>\n",
       "      <th>NotAbused</th>\n",
       "      <td>-3.12036</td>\n",
       "      <td>1.32165</td>\n",
       "      <td>5.04974</td>\n",
       "      <td>-3.34921</td>\n",
       "      <td>5.79447</td>\n",
       "      <td>10.91447</td>\n",
       "    </tr>\n",
       "  </tbody>\n",
       "</table>\n",
       "</div>"
      ],
      "text/plain": [
       "               cpa                       ptsd                    \n",
       "               min   median      max      min    median       max\n",
       "csa                                                              \n",
       "Abused    -1.11461  2.62746  8.64690  5.98491  11.31277  18.99251\n",
       "NotAbused -3.12036  1.32165  5.04974 -3.34921   5.79447  10.91447"
      ]
     },
     "execution_count": 69,
     "metadata": {},
     "output_type": "execute_result"
    }
   ],
   "source": [
    "cfun = ['min','median','max']\n",
    "df_sex.groupby('csa').agg({'cpa':cfun,'ptsd':cfun})"
   ]
  },
  {
   "cell_type": "code",
   "execution_count": 70,
   "metadata": {},
   "outputs": [
    {
     "data": {
      "text/plain": [
       "<Axes: xlabel='cpa', ylabel='ptsd'>"
      ]
     },
     "execution_count": 70,
     "metadata": {},
     "output_type": "execute_result"
    },
    {
     "data": {
      "image/png": "[encoded data removed]",
      "text/plain": [
       "<Figure size 640x480 with 2 Axes>"
      ]
     },
     "metadata": {},
     "output_type": "display_data"
    }
   ],
   "source": [
    "fig,ax = plt.subplots(1,2)\n",
    "sns.boxplot(x = 'csa',y = 'ptsd',data = df_sex,ax = ax[0])\n",
    "sns.scatterplot(x = 'cpa',y = 'ptsd',hue = 'csa',\n",
    "                data = df_sex,ax = ax[1])"
   ]
  },
  {
   "cell_type": "code",
   "execution_count": 71,
   "metadata": {},
   "outputs": [
    {
     "data": {
      "text/html": [
       "<table class=\"simpletable\">\n",
       "<caption>OLS Regression Results</caption>\n",
       "<tr>\n",
       "  <th>Dep. Variable:</th>      <td>ptsd</td>    <th>  R-squared:         </th> <td>   0.519</td>\n",
       "</tr>\n",
       "<tr>\n",
       "  <th>Model:</th>               <td>OLS</td>    <th>  Adj. R-squared:    </th> <td>   0.513</td>\n",
       "</tr>\n",
       "<tr>\n",
       "  <th>No. Observations:</th>  <td>    76</td>   <th>  F-statistic:       </th> <td>   79.90</td>\n",
       "</tr>\n",
       "<tr>\n",
       "  <th>Covariance Type:</th>  <td>nonrobust</td> <th>  Prob (F-statistic):</th> <td>2.17e-13</td>\n",
       "</tr>\n",
       "</table>\n",
       "<table class=\"simpletable\">\n",
       "<tr>\n",
       "         <td></td>            <th>coef</th>     <th>std err</th>      <th>t</th>      <th>P>|t|</th>  <th>[0.025</th>    <th>0.975]</th>  \n",
       "</tr>\n",
       "<tr>\n",
       "  <th>const</th>           <td>    5.5457</td> <td>    0.270</td> <td>   20.526</td> <td> 0.000</td> <td>    5.007</td> <td>    6.084</td>\n",
       "</tr>\n",
       "<tr>\n",
       "  <th>csa = Abused</th>    <td>    6.3954</td> <td>    0.403</td> <td>   15.874</td> <td> 0.000</td> <td>    5.593</td> <td>    7.198</td>\n",
       "</tr>\n",
       "<tr>\n",
       "  <th>csa = NotAbused</th> <td>   -0.8498</td> <td>    0.450</td> <td>   -1.888</td> <td> 0.063</td> <td>   -1.747</td> <td>    0.047</td>\n",
       "</tr>\n",
       "</table><br/><br/>Notes:<br/>[1] Standard Errors assume that the covariance matrix of the errors is correctly specified.<br/>[2] The smallest eigenvalue is 4.43e-30. This might indicate that there are<br/>strong multicollinearity problems or that the design matrix is singular."
      ],
      "text/latex": [
       "\\begin{center}\n",
       "\\begin{tabular}{lclc}\n",
       "\\toprule\n",
       "\\textbf{Dep. Variable:}    &      ptsd     & \\textbf{  R-squared:         } &     0.519   \\\\\n",
       "\\textbf{Model:}            &      OLS      & \\textbf{  Adj. R-squared:    } &     0.513   \\\\\n",
       "\\textbf{No. Observations:} &         76    & \\textbf{  F-statistic:       } &     79.90   \\\\\n",
       "\\textbf{Covariance Type:}  &   nonrobust   & \\textbf{  Prob (F-statistic):} &  2.17e-13   \\\\\n",
       "\\bottomrule\n",
       "\\end{tabular}\n",
       "\\begin{tabular}{lcccccc}\n",
       "                         & \\textbf{coef} & \\textbf{std err} & \\textbf{t} & \\textbf{P$> |$t$|$} & \\textbf{[0.025} & \\textbf{0.975]}  \\\\\n",
       "\\midrule\n",
       "\\textbf{const}           &       5.5457  &        0.270     &    20.526  &         0.000        &        5.007    &        6.084     \\\\\n",
       "\\textbf{csa = Abused}    &       6.3954  &        0.403     &    15.874  &         0.000        &        5.593    &        7.198     \\\\\n",
       "\\textbf{csa = NotAbused} &      -0.8498  &        0.450     &    -1.888  &         0.063        &       -1.747    &        0.047     \\\\\n",
       "\\bottomrule\n",
       "\\end{tabular}\n",
       "%\\caption{OLS Regression Results}\n",
       "\\end{center}\n",
       "\n",
       "Notes: \\newline\n",
       " [1] Standard Errors assume that the covariance matrix of the errors is correctly specified. \\newline\n",
       " [2] The smallest eigenvalue is 4.43e-30. This might indicate that there are \\newline\n",
       " strong multicollinearity problems or that the design matrix is singular."
      ],
      "text/plain": [
       "<class 'statsmodels.iolib.summary.Summary'>\n",
       "\"\"\"\n",
       "                            OLS Regression Results                            \n",
       "==============================================================================\n",
       "Dep. Variable:                   ptsd   R-squared:                       0.519\n",
       "Model:                            OLS   Adj. R-squared:                  0.513\n",
       "No. Observations:                  76   F-statistic:                     79.90\n",
       "Covariance Type:            nonrobust   Prob (F-statistic):           2.17e-13\n",
       "===================================================================================\n",
       "                      coef    std err          t      P>|t|      [0.025      0.975]\n",
       "-----------------------------------------------------------------------------------\n",
       "const               5.5457      0.270     20.526      0.000       5.007       6.084\n",
       "csa = Abused        6.3954      0.403     15.874      0.000       5.593       7.198\n",
       "csa = NotAbused    -0.8498      0.450     -1.888      0.063      -1.747       0.047\n",
       "===================================================================================\n",
       "\n",
       "Notes:\n",
       "[1] Standard Errors assume that the covariance matrix of the errors is correctly specified.\n",
       "[2] The smallest eigenvalue is 4.43e-30. This might indicate that there are\n",
       "strong multicollinearity problems or that the design matrix is singular.\n",
       "\"\"\""
      ]
     },
     "execution_count": 71,
     "metadata": {},
     "output_type": "execute_result"
    }
   ],
   "source": [
    "X = df_sex.csa.transform(lambda x:int(x == 'Abused'))\n",
    "X = pd.concat([X,df_sex.csa.transform(lambda x:int(x == 'NotAbused'))],axis = 1)\n",
    "X.columns = ['csa = Abused','csa = NotAbused']\n",
    "Xm = sm.add_constant(X)\n",
    "y = df_sex.ptsd\n",
    "model_L2 = sm.OLS(y,Xm).fit()\n",
    "model_L2.summary(slim = True)"
   ]
  },
  {
   "cell_type": "code",
   "execution_count": 72,
   "metadata": {},
   "outputs": [
    {
     "data": {
      "text/html": [
       "<table class=\"simpletable\">\n",
       "<caption>OLS Regression Results</caption>\n",
       "<tr>\n",
       "  <th>Dep. Variable:</th>      <td>ptsd</td>    <th>  R-squared:         </th> <td>   0.519</td>\n",
       "</tr>\n",
       "<tr>\n",
       "  <th>Model:</th>               <td>OLS</td>    <th>  Adj. R-squared:    </th> <td>   0.513</td>\n",
       "</tr>\n",
       "<tr>\n",
       "  <th>No. Observations:</th>  <td>    76</td>   <th>  F-statistic:       </th> <td>   79.90</td>\n",
       "</tr>\n",
       "<tr>\n",
       "  <th>Covariance Type:</th>  <td>nonrobust</td> <th>  Prob (F-statistic):</th> <td>2.17e-13</td>\n",
       "</tr>\n",
       "</table>\n",
       "<table class=\"simpletable\">\n",
       "<tr>\n",
       "         <td></td>            <th>coef</th>     <th>std err</th>      <th>t</th>      <th>P>|t|</th>  <th>[0.025</th>    <th>0.975]</th>  \n",
       "</tr>\n",
       "<tr>\n",
       "  <th>const</th>           <td>   11.9411</td> <td>    0.518</td> <td>   23.067</td> <td> 0.000</td> <td>   10.910</td> <td>   12.973</td>\n",
       "</tr>\n",
       "<tr>\n",
       "  <th>csa = NotAbused</th> <td>   -7.2452</td> <td>    0.811</td> <td>   -8.939</td> <td> 0.000</td> <td>   -8.860</td> <td>   -5.630</td>\n",
       "</tr>\n",
       "</table><br/><br/>Notes:<br/>[1] Standard Errors assume that the covariance matrix of the errors is correctly specified."
      ],
      "text/latex": [
       "\\begin{center}\n",
       "\\begin{tabular}{lclc}\n",
       "\\toprule\n",
       "\\textbf{Dep. Variable:}    &      ptsd     & \\textbf{  R-squared:         } &     0.519   \\\\\n",
       "\\textbf{Model:}            &      OLS      & \\textbf{  Adj. R-squared:    } &     0.513   \\\\\n",
       "\\textbf{No. Observations:} &         76    & \\textbf{  F-statistic:       } &     79.90   \\\\\n",
       "\\textbf{Covariance Type:}  &   nonrobust   & \\textbf{  Prob (F-statistic):} &  2.17e-13   \\\\\n",
       "\\bottomrule\n",
       "\\end{tabular}\n",
       "\\begin{tabular}{lcccccc}\n",
       "                         & \\textbf{coef} & \\textbf{std err} & \\textbf{t} & \\textbf{P$> |$t$|$} & \\textbf{[0.025} & \\textbf{0.975]}  \\\\\n",
       "\\midrule\n",
       "\\textbf{const}           &      11.9411  &        0.518     &    23.067  &         0.000        &       10.910    &       12.973     \\\\\n",
       "\\textbf{csa = NotAbused} &      -7.2452  &        0.811     &    -8.939  &         0.000        &       -8.860    &       -5.630     \\\\\n",
       "\\bottomrule\n",
       "\\end{tabular}\n",
       "%\\caption{OLS Regression Results}\n",
       "\\end{center}\n",
       "\n",
       "Notes: \\newline\n",
       " [1] Standard Errors assume that the covariance matrix of the errors is correctly specified."
      ],
      "text/plain": [
       "<class 'statsmodels.iolib.summary.Summary'>\n",
       "\"\"\"\n",
       "                            OLS Regression Results                            \n",
       "==============================================================================\n",
       "Dep. Variable:                   ptsd   R-squared:                       0.519\n",
       "Model:                            OLS   Adj. R-squared:                  0.513\n",
       "No. Observations:                  76   F-statistic:                     79.90\n",
       "Covariance Type:            nonrobust   Prob (F-statistic):           2.17e-13\n",
       "===================================================================================\n",
       "                      coef    std err          t      P>|t|      [0.025      0.975]\n",
       "-----------------------------------------------------------------------------------\n",
       "const              11.9411      0.518     23.067      0.000      10.910      12.973\n",
       "csa = NotAbused    -7.2452      0.811     -8.939      0.000      -8.860      -5.630\n",
       "===================================================================================\n",
       "\n",
       "Notes:\n",
       "[1] Standard Errors assume that the covariance matrix of the errors is correctly specified.\n",
       "\"\"\""
      ]
     },
     "execution_count": 72,
     "metadata": {},
     "output_type": "execute_result"
    }
   ],
   "source": [
    "Xm = Xm.drop('csa = Abused',axis = 1)\n",
    "model_L21 = sm.OLS(y,Xm).fit()\n",
    "model_L21.summary(slim = True)"
   ]
  },
  {
   "cell_type": "code",
   "execution_count": 73,
   "metadata": {},
   "outputs": [
    {
     "data": {
      "text/html": [
       "<table class=\"simpletable\">\n",
       "<caption>OLS Regression Results</caption>\n",
       "<tr>\n",
       "  <th>Dep. Variable:</th>      <td>ptsd</td>    <th>  R-squared:         </th> <td>   0.519</td>\n",
       "</tr>\n",
       "<tr>\n",
       "  <th>Model:</th>               <td>OLS</td>    <th>  Adj. R-squared:    </th> <td>   0.513</td>\n",
       "</tr>\n",
       "<tr>\n",
       "  <th>No. Observations:</th>  <td>    76</td>   <th>  F-statistic:       </th> <td>   79.90</td>\n",
       "</tr>\n",
       "<tr>\n",
       "  <th>Covariance Type:</th>  <td>nonrobust</td> <th>  Prob (F-statistic):</th> <td>2.17e-13</td>\n",
       "</tr>\n",
       "</table>\n",
       "<table class=\"simpletable\">\n",
       "<tr>\n",
       "          <td></td>            <th>coef</th>     <th>std err</th>      <th>t</th>      <th>P>|t|</th>  <th>[0.025</th>    <th>0.975]</th>  \n",
       "</tr>\n",
       "<tr>\n",
       "  <th>Intercept</th>        <td>   11.9411</td> <td>    0.518</td> <td>   23.067</td> <td> 0.000</td> <td>   10.910</td> <td>   12.973</td>\n",
       "</tr>\n",
       "<tr>\n",
       "  <th>csa[T.NotAbused]</th> <td>   -7.2452</td> <td>    0.811</td> <td>   -8.939</td> <td> 0.000</td> <td>   -8.860</td> <td>   -5.630</td>\n",
       "</tr>\n",
       "</table><br/><br/>Notes:<br/>[1] Standard Errors assume that the covariance matrix of the errors is correctly specified."
      ],
      "text/latex": [
       "\\begin{center}\n",
       "\\begin{tabular}{lclc}\n",
       "\\toprule\n",
       "\\textbf{Dep. Variable:}    &      ptsd     & \\textbf{  R-squared:         } &     0.519   \\\\\n",
       "\\textbf{Model:}            &      OLS      & \\textbf{  Adj. R-squared:    } &     0.513   \\\\\n",
       "\\textbf{No. Observations:} &         76    & \\textbf{  F-statistic:       } &     79.90   \\\\\n",
       "\\textbf{Covariance Type:}  &   nonrobust   & \\textbf{  Prob (F-statistic):} &  2.17e-13   \\\\\n",
       "\\bottomrule\n",
       "\\end{tabular}\n",
       "\\begin{tabular}{lcccccc}\n",
       "                          & \\textbf{coef} & \\textbf{std err} & \\textbf{t} & \\textbf{P$> |$t$|$} & \\textbf{[0.025} & \\textbf{0.975]}  \\\\\n",
       "\\midrule\n",
       "\\textbf{Intercept}        &      11.9411  &        0.518     &    23.067  &         0.000        &       10.910    &       12.973     \\\\\n",
       "\\textbf{csa[T.NotAbused]} &      -7.2452  &        0.811     &    -8.939  &         0.000        &       -8.860    &       -5.630     \\\\\n",
       "\\bottomrule\n",
       "\\end{tabular}\n",
       "%\\caption{OLS Regression Results}\n",
       "\\end{center}\n",
       "\n",
       "Notes: \\newline\n",
       " [1] Standard Errors assume that the covariance matrix of the errors is correctly specified."
      ],
      "text/plain": [
       "<class 'statsmodels.iolib.summary.Summary'>\n",
       "\"\"\"\n",
       "                            OLS Regression Results                            \n",
       "==============================================================================\n",
       "Dep. Variable:                   ptsd   R-squared:                       0.519\n",
       "Model:                            OLS   Adj. R-squared:                  0.513\n",
       "No. Observations:                  76   F-statistic:                     79.90\n",
       "Covariance Type:            nonrobust   Prob (F-statistic):           2.17e-13\n",
       "====================================================================================\n",
       "                       coef    std err          t      P>|t|      [0.025      0.975]\n",
       "------------------------------------------------------------------------------------\n",
       "Intercept           11.9411      0.518     23.067      0.000      10.910      12.973\n",
       "csa[T.NotAbused]    -7.2452      0.811     -8.939      0.000      -8.860      -5.630\n",
       "====================================================================================\n",
       "\n",
       "Notes:\n",
       "[1] Standard Errors assume that the covariance matrix of the errors is correctly specified.\n",
       "\"\"\""
      ]
     },
     "execution_count": 73,
     "metadata": {},
     "output_type": "execute_result"
    }
   ],
   "source": [
    "smf.ols('ptsd ~ csa',data = df_sex).fit().summary(slim = True)"
   ]
  },
  {
   "cell_type": "code",
   "execution_count": 74,
   "metadata": {},
   "outputs": [
    {
     "data": {
      "text/plain": [
       "array([[1., 0.],\n",
       "       [1., 0.],\n",
       "       [1., 1.],\n",
       "       [1., 1.]])"
      ]
     },
     "execution_count": 74,
     "metadata": {},
     "output_type": "execute_result"
    }
   ],
   "source": [
    "model_L21.model.wexog[[0,44,45,75],:]"
   ]
  },
  {
   "cell_type": "code",
   "execution_count": 75,
   "metadata": {},
   "outputs": [
    {
     "data": {
      "text/html": [
       "<table class=\"simpletable\">\n",
       "<caption>OLS Regression Results</caption>\n",
       "<tr>\n",
       "  <th>Dep. Variable:</th>      <td>ptsd</td>    <th>  R-squared:         </th> <td>   0.519</td>\n",
       "</tr>\n",
       "<tr>\n",
       "  <th>Model:</th>               <td>OLS</td>    <th>  Adj. R-squared:    </th> <td>   0.513</td>\n",
       "</tr>\n",
       "<tr>\n",
       "  <th>No. Observations:</th>  <td>    76</td>   <th>  F-statistic:       </th> <td>   79.90</td>\n",
       "</tr>\n",
       "<tr>\n",
       "  <th>Covariance Type:</th>  <td>nonrobust</td> <th>  Prob (F-statistic):</th> <td>2.17e-13</td>\n",
       "</tr>\n",
       "</table>\n",
       "<table class=\"simpletable\">\n",
       "<tr>\n",
       "                           <td></td>                             <th>coef</th>     <th>std err</th>      <th>t</th>      <th>P>|t|</th>  <th>[0.025</th>    <th>0.975]</th>  \n",
       "</tr>\n",
       "<tr>\n",
       "  <th>Intercept</th>                                          <td>    4.6959</td> <td>    0.624</td> <td>    7.529</td> <td> 0.000</td> <td>    3.453</td> <td>    5.939</td>\n",
       "</tr>\n",
       "<tr>\n",
       "  <th>C(csa, Treatment(reference=\"NotAbused\"))[T.Abused]</th> <td>    7.2452</td> <td>    0.811</td> <td>    8.939</td> <td> 0.000</td> <td>    5.630</td> <td>    8.860</td>\n",
       "</tr>\n",
       "</table><br/><br/>Notes:<br/>[1] Standard Errors assume that the covariance matrix of the errors is correctly specified."
      ],
      "text/latex": [
       "\\begin{center}\n",
       "\\begin{tabular}{lclc}\n",
       "\\toprule\n",
       "\\textbf{Dep. Variable:}                                     &      ptsd     & \\textbf{  R-squared:         } &     0.519   \\\\\n",
       "\\textbf{Model:}                                             &      OLS      & \\textbf{  Adj. R-squared:    } &     0.513   \\\\\n",
       "\\textbf{No. Observations:}                                  &         76    & \\textbf{  F-statistic:       } &     79.90   \\\\\n",
       "\\textbf{Covariance Type:}                                   &   nonrobust   & \\textbf{  Prob (F-statistic):} &  2.17e-13   \\\\\n",
       "\\bottomrule\n",
       "\\end{tabular}\n",
       "\\begin{tabular}{lcccccc}\n",
       "                                                            & \\textbf{coef} & \\textbf{std err} & \\textbf{t} & \\textbf{P$> |$t$|$} & \\textbf{[0.025} & \\textbf{0.975]}  \\\\\n",
       "\\midrule\n",
       "\\textbf{Intercept}                                          &       4.6959  &        0.624     &     7.529  &         0.000        &        3.453    &        5.939     \\\\\n",
       "\\textbf{C(csa, Treatment(reference=\"NotAbused\"))[T.Abused]} &       7.2452  &        0.811     &     8.939  &         0.000        &        5.630    &        8.860     \\\\\n",
       "\\bottomrule\n",
       "\\end{tabular}\n",
       "%\\caption{OLS Regression Results}\n",
       "\\end{center}\n",
       "\n",
       "Notes: \\newline\n",
       " [1] Standard Errors assume that the covariance matrix of the errors is correctly specified."
      ],
      "text/plain": [
       "<class 'statsmodels.iolib.summary.Summary'>\n",
       "\"\"\"\n",
       "                            OLS Regression Results                            \n",
       "==============================================================================\n",
       "Dep. Variable:                   ptsd   R-squared:                       0.519\n",
       "Model:                            OLS   Adj. R-squared:                  0.513\n",
       "No. Observations:                  76   F-statistic:                     79.90\n",
       "Covariance Type:            nonrobust   Prob (F-statistic):           2.17e-13\n",
       "======================================================================================================================\n",
       "                                                         coef    std err          t      P>|t|      [0.025      0.975]\n",
       "----------------------------------------------------------------------------------------------------------------------\n",
       "Intercept                                              4.6959      0.624      7.529      0.000       3.453       5.939\n",
       "C(csa, Treatment(reference=\"NotAbused\"))[T.Abused]     7.2452      0.811      8.939      0.000       5.630       8.860\n",
       "======================================================================================================================\n",
       "\n",
       "Notes:\n",
       "[1] Standard Errors assume that the covariance matrix of the errors is correctly specified.\n",
       "\"\"\""
      ]
     },
     "execution_count": 75,
     "metadata": {},
     "output_type": "execute_result"
    }
   ],
   "source": [
    "# Reference level\n",
    "smf.ols('ptsd ~ C(csa,Treatment(reference = \"NotAbused\"))',data = df_sex).fit().summary(slim = True)"
   ]
  },
  {
   "cell_type": "markdown",
   "metadata": {},
   "source": [
    "***\n",
    "## Dummy (More than 2 levels)\n",
    "***"
   ]
  },
  {
   "cell_type": "code",
   "execution_count": 76,
   "metadata": {},
   "outputs": [
    {
     "data": {
      "text/html": [
       "<div>\n",
       "<style scoped>\n",
       "    .dataframe tbody tr th:only-of-type {\n",
       "        vertical-align: middle;\n",
       "    }\n",
       "\n",
       "    .dataframe tbody tr th {\n",
       "        vertical-align: top;\n",
       "    }\n",
       "\n",
       "    .dataframe thead th {\n",
       "        text-align: right;\n",
       "    }\n",
       "</style>\n",
       "<table border=\"1\" class=\"dataframe\">\n",
       "  <thead>\n",
       "    <tr style=\"text-align: right;\">\n",
       "      <th></th>\n",
       "      <th>thorax</th>\n",
       "      <th>longevity</th>\n",
       "      <th>activity</th>\n",
       "    </tr>\n",
       "  </thead>\n",
       "  <tbody>\n",
       "    <tr>\n",
       "      <th>1</th>\n",
       "      <td>0.68</td>\n",
       "      <td>37</td>\n",
       "      <td>many</td>\n",
       "    </tr>\n",
       "    <tr>\n",
       "      <th>25</th>\n",
       "      <td>0.64</td>\n",
       "      <td>40</td>\n",
       "      <td>isolated</td>\n",
       "    </tr>\n",
       "    <tr>\n",
       "      <th>50</th>\n",
       "      <td>0.64</td>\n",
       "      <td>46</td>\n",
       "      <td>one</td>\n",
       "    </tr>\n",
       "    <tr>\n",
       "      <th>75</th>\n",
       "      <td>0.68</td>\n",
       "      <td>21</td>\n",
       "      <td>low</td>\n",
       "    </tr>\n",
       "    <tr>\n",
       "      <th>100</th>\n",
       "      <td>0.64</td>\n",
       "      <td>16</td>\n",
       "      <td>high</td>\n",
       "    </tr>\n",
       "  </tbody>\n",
       "</table>\n",
       "</div>"
      ],
      "text/plain": [
       "     thorax  longevity  activity\n",
       "1      0.68         37      many\n",
       "25     0.64         40  isolated\n",
       "50     0.64         46       one\n",
       "75     0.68         21       low\n",
       "100    0.64         16      high"
      ]
     },
     "metadata": {},
     "output_type": "display_data"
    }
   ],
   "source": [
    "df_ff = fruitfly.load()\n",
    "spec_row = [1,25,50,75,100]\n",
    "display(df_ff[~df_ff.duplicated(subset = ['activity'])])"
   ]
  },
  {
   "cell_type": "code",
   "execution_count": 77,
   "metadata": {},
   "outputs": [
    {
     "data": {
      "text/plain": [
       "<Axes: xlabel='thorax', ylabel='longevity'>"
      ]
     },
     "execution_count": 77,
     "metadata": {},
     "output_type": "execute_result"
    },
    {
     "data": {
      "image/png": "[encoded data removed]",
      "text/plain": [
       "<Figure size 640x480 with 1 Axes>"
      ]
     },
     "metadata": {},
     "output_type": "display_data"
    }
   ],
   "source": [
    "sns.scatterplot(x = 'thorax',y = 'longevity',hue = 'activity',data = df_ff)"
   ]
  },
  {
   "cell_type": "code",
   "execution_count": 78,
   "metadata": {},
   "outputs": [
    {
     "data": {
      "text/html": [
       "<table class=\"simpletable\">\n",
       "<caption>OLS Regression Results</caption>\n",
       "<tr>\n",
       "  <th>Dep. Variable:</th>    <td>np.log(longevity)</td> <th>  R-squared:         </th> <td>   0.359</td>\n",
       "</tr>\n",
       "<tr>\n",
       "  <th>Model:</th>                   <td>OLS</td>        <th>  Adj. R-squared:    </th> <td>   0.338</td>\n",
       "</tr>\n",
       "<tr>\n",
       "  <th>No. Observations:</th>      <td>   124</td>       <th>  F-statistic:       </th> <td>   16.69</td>\n",
       "</tr>\n",
       "<tr>\n",
       "  <th>Covariance Type:</th>      <td>nonrobust</td>     <th>  Prob (F-statistic):</th> <td>6.96e-11</td>\n",
       "</tr>\n",
       "</table>\n",
       "<table class=\"simpletable\">\n",
       "<tr>\n",
       "                            <td></td>                              <th>coef</th>     <th>std err</th>      <th>t</th>      <th>P>|t|</th>  <th>[0.025</th>    <th>0.975]</th>  \n",
       "</tr>\n",
       "<tr>\n",
       "  <th>Intercept</th>                                            <td>    4.1193</td> <td>    0.056</td> <td>   72.986</td> <td> 0.000</td> <td>    4.008</td> <td>    4.231</td>\n",
       "</tr>\n",
       "<tr>\n",
       "  <th>C(activity, Treatment(reference=\"isolated\"))[T.high]</th> <td>   -0.5172</td> <td>    0.080</td> <td>   -6.480</td> <td> 0.000</td> <td>   -0.675</td> <td>   -0.359</td>\n",
       "</tr>\n",
       "<tr>\n",
       "  <th>C(activity, Treatment(reference=\"isolated\"))[T.low]</th>  <td>   -0.1195</td> <td>    0.080</td> <td>   -1.497</td> <td> 0.137</td> <td>   -0.278</td> <td>    0.039</td>\n",
       "</tr>\n",
       "<tr>\n",
       "  <th>C(activity, Treatment(reference=\"isolated\"))[T.many]</th> <td>    0.0240</td> <td>    0.081</td> <td>    0.297</td> <td> 0.767</td> <td>   -0.136</td> <td>    0.184</td>\n",
       "</tr>\n",
       "<tr>\n",
       "  <th>C(activity, Treatment(reference=\"isolated\"))[T.one]</th>  <td>    0.0234</td> <td>    0.080</td> <td>    0.294</td> <td> 0.770</td> <td>   -0.135</td> <td>    0.181</td>\n",
       "</tr>\n",
       "</table><br/><br/>Notes:<br/>[1] Standard Errors assume that the covariance matrix of the errors is correctly specified."
      ],
      "text/latex": [
       "\\begin{center}\n",
       "\\begin{tabular}{lclc}\n",
       "\\toprule\n",
       "\\textbf{Dep. Variable:}                                       & np.log(longevity) & \\textbf{  R-squared:         } &     0.359   \\\\\n",
       "\\textbf{Model:}                                               &        OLS        & \\textbf{  Adj. R-squared:    } &     0.338   \\\\\n",
       "\\textbf{No. Observations:}                                    &          124      & \\textbf{  F-statistic:       } &     16.69   \\\\\n",
       "\\textbf{Covariance Type:}                                     &     nonrobust     & \\textbf{  Prob (F-statistic):} &  6.96e-11   \\\\\n",
       "\\bottomrule\n",
       "\\end{tabular}\n",
       "\\begin{tabular}{lcccccc}\n",
       "                                                              & \\textbf{coef} & \\textbf{std err} & \\textbf{t} & \\textbf{P$> |$t$|$} & \\textbf{[0.025} & \\textbf{0.975]}  \\\\\n",
       "\\midrule\n",
       "\\textbf{Intercept}                                            &       4.1193  &        0.056     &    72.986  &         0.000        &        4.008    &        4.231     \\\\\n",
       "\\textbf{C(activity, Treatment(reference=\"isolated\"))[T.high]} &      -0.5172  &        0.080     &    -6.480  &         0.000        &       -0.675    &       -0.359     \\\\\n",
       "\\textbf{C(activity, Treatment(reference=\"isolated\"))[T.low]}  &      -0.1195  &        0.080     &    -1.497  &         0.137        &       -0.278    &        0.039     \\\\\n",
       "\\textbf{C(activity, Treatment(reference=\"isolated\"))[T.many]} &       0.0240  &        0.081     &     0.297  &         0.767        &       -0.136    &        0.184     \\\\\n",
       "\\textbf{C(activity, Treatment(reference=\"isolated\"))[T.one]}  &       0.0234  &        0.080     &     0.294  &         0.770        &       -0.135    &        0.181     \\\\\n",
       "\\bottomrule\n",
       "\\end{tabular}\n",
       "%\\caption{OLS Regression Results}\n",
       "\\end{center}\n",
       "\n",
       "Notes: \\newline\n",
       " [1] Standard Errors assume that the covariance matrix of the errors is correctly specified."
      ],
      "text/plain": [
       "<class 'statsmodels.iolib.summary.Summary'>\n",
       "\"\"\"\n",
       "                            OLS Regression Results                            \n",
       "==============================================================================\n",
       "Dep. Variable:      np.log(longevity)   R-squared:                       0.359\n",
       "Model:                            OLS   Adj. R-squared:                  0.338\n",
       "No. Observations:                 124   F-statistic:                     16.69\n",
       "Covariance Type:            nonrobust   Prob (F-statistic):           6.96e-11\n",
       "========================================================================================================================\n",
       "                                                           coef    std err          t      P>|t|      [0.025      0.975]\n",
       "------------------------------------------------------------------------------------------------------------------------\n",
       "Intercept                                                4.1193      0.056     72.986      0.000       4.008       4.231\n",
       "C(activity, Treatment(reference=\"isolated\"))[T.high]    -0.5172      0.080     -6.480      0.000      -0.675      -0.359\n",
       "C(activity, Treatment(reference=\"isolated\"))[T.low]     -0.1195      0.080     -1.497      0.137      -0.278       0.039\n",
       "C(activity, Treatment(reference=\"isolated\"))[T.many]     0.0240      0.081      0.297      0.767      -0.136       0.184\n",
       "C(activity, Treatment(reference=\"isolated\"))[T.one]      0.0234      0.080      0.294      0.770      -0.135       0.181\n",
       "========================================================================================================================\n",
       "\n",
       "Notes:\n",
       "[1] Standard Errors assume that the covariance matrix of the errors is correctly specified.\n",
       "\"\"\""
      ]
     },
     "metadata": {},
     "output_type": "display_data"
    },
    {
     "data": {
      "text/plain": [
       "array([[1., 0., 0., 1., 0.],\n",
       "       [1., 0., 0., 0., 0.],\n",
       "       [1., 0., 0., 0., 1.],\n",
       "       [1., 0., 1., 0., 0.],\n",
       "       [1., 1., 0., 0., 0.]])"
      ]
     },
     "metadata": {},
     "output_type": "display_data"
    }
   ],
   "source": [
    "model_ff = smf.ols('np.log(longevity) ~ C(activity,Treatment(reference = \"isolated\"))',data = df_ff).fit()\n",
    "display(model_ff.summary(slim = True),\n",
    "\t\tmodel_ff.model.wexog[spec_row,:])"
   ]
  },
  {
   "cell_type": "code",
   "execution_count": 79,
   "metadata": {},
   "outputs": [
    {
     "data": {
      "text/html": [
       "<table class=\"simpletable\">\n",
       "<caption>OLS Regression Results</caption>\n",
       "<tr>\n",
       "  <th>Dep. Variable:</th>    <td>np.log(longevity)</td> <th>  R-squared:         </th> <td>   0.359</td>\n",
       "</tr>\n",
       "<tr>\n",
       "  <th>Model:</th>                   <td>OLS</td>        <th>  Adj. R-squared:    </th> <td>   0.338</td>\n",
       "</tr>\n",
       "<tr>\n",
       "  <th>No. Observations:</th>      <td>   124</td>       <th>  F-statistic:       </th> <td>   16.69</td>\n",
       "</tr>\n",
       "<tr>\n",
       "  <th>Covariance Type:</th>      <td>nonrobust</td>     <th>  Prob (F-statistic):</th> <td>6.96e-11</td>\n",
       "</tr>\n",
       "</table>\n",
       "<table class=\"simpletable\">\n",
       "<tr>\n",
       "                <td></td>                  <th>coef</th>     <th>std err</th>      <th>t</th>      <th>P>|t|</th>  <th>[0.025</th>    <th>0.975]</th>  \n",
       "</tr>\n",
       "<tr>\n",
       "  <th>Intercept</th>                    <td>    4.0015</td> <td>    0.025</td> <td>  157.875</td> <td> 0.000</td> <td>    3.951</td> <td>    4.052</td>\n",
       "</tr>\n",
       "<tr>\n",
       "  <th>C(activity, Sum)[S.high]</th>     <td>   -0.3994</td> <td>    0.051</td> <td>   -7.903</td> <td> 0.000</td> <td>   -0.499</td> <td>   -0.299</td>\n",
       "</tr>\n",
       "<tr>\n",
       "  <th>C(activity, Sum)[S.isolated]</th> <td>    0.1179</td> <td>    0.051</td> <td>    2.332</td> <td> 0.021</td> <td>    0.018</td> <td>    0.218</td>\n",
       "</tr>\n",
       "<tr>\n",
       "  <th>C(activity, Sum)[S.low]</th>      <td>   -0.0016</td> <td>    0.051</td> <td>   -0.033</td> <td> 0.974</td> <td>   -0.102</td> <td>    0.098</td>\n",
       "</tr>\n",
       "<tr>\n",
       "  <th>C(activity, Sum)[S.many]</th>     <td>    0.1418</td> <td>    0.051</td> <td>    2.764</td> <td> 0.007</td> <td>    0.040</td> <td>    0.243</td>\n",
       "</tr>\n",
       "</table><br/><br/>Notes:<br/>[1] Standard Errors assume that the covariance matrix of the errors is correctly specified."
      ],
      "text/latex": [
       "\\begin{center}\n",
       "\\begin{tabular}{lclc}\n",
       "\\toprule\n",
       "\\textbf{Dep. Variable:}               & np.log(longevity) & \\textbf{  R-squared:         } &     0.359   \\\\\n",
       "\\textbf{Model:}                       &        OLS        & \\textbf{  Adj. R-squared:    } &     0.338   \\\\\n",
       "\\textbf{No. Observations:}            &          124      & \\textbf{  F-statistic:       } &     16.69   \\\\\n",
       "\\textbf{Covariance Type:}             &     nonrobust     & \\textbf{  Prob (F-statistic):} &  6.96e-11   \\\\\n",
       "\\bottomrule\n",
       "\\end{tabular}\n",
       "\\begin{tabular}{lcccccc}\n",
       "                                      & \\textbf{coef} & \\textbf{std err} & \\textbf{t} & \\textbf{P$> |$t$|$} & \\textbf{[0.025} & \\textbf{0.975]}  \\\\\n",
       "\\midrule\n",
       "\\textbf{Intercept}                    &       4.0015  &        0.025     &   157.875  &         0.000        &        3.951    &        4.052     \\\\\n",
       "\\textbf{C(activity, Sum)[S.high]}     &      -0.3994  &        0.051     &    -7.903  &         0.000        &       -0.499    &       -0.299     \\\\\n",
       "\\textbf{C(activity, Sum)[S.isolated]} &       0.1179  &        0.051     &     2.332  &         0.021        &        0.018    &        0.218     \\\\\n",
       "\\textbf{C(activity, Sum)[S.low]}      &      -0.0016  &        0.051     &    -0.033  &         0.974        &       -0.102    &        0.098     \\\\\n",
       "\\textbf{C(activity, Sum)[S.many]}     &       0.1418  &        0.051     &     2.764  &         0.007        &        0.040    &        0.243     \\\\\n",
       "\\bottomrule\n",
       "\\end{tabular}\n",
       "%\\caption{OLS Regression Results}\n",
       "\\end{center}\n",
       "\n",
       "Notes: \\newline\n",
       " [1] Standard Errors assume that the covariance matrix of the errors is correctly specified."
      ],
      "text/plain": [
       "<class 'statsmodels.iolib.summary.Summary'>\n",
       "\"\"\"\n",
       "                            OLS Regression Results                            \n",
       "==============================================================================\n",
       "Dep. Variable:      np.log(longevity)   R-squared:                       0.359\n",
       "Model:                            OLS   Adj. R-squared:                  0.338\n",
       "No. Observations:                 124   F-statistic:                     16.69\n",
       "Covariance Type:            nonrobust   Prob (F-statistic):           6.96e-11\n",
       "================================================================================================\n",
       "                                   coef    std err          t      P>|t|      [0.025      0.975]\n",
       "------------------------------------------------------------------------------------------------\n",
       "Intercept                        4.0015      0.025    157.875      0.000       3.951       4.052\n",
       "C(activity, Sum)[S.high]        -0.3994      0.051     -7.903      0.000      -0.499      -0.299\n",
       "C(activity, Sum)[S.isolated]     0.1179      0.051      2.332      0.021       0.018       0.218\n",
       "C(activity, Sum)[S.low]         -0.0016      0.051     -0.033      0.974      -0.102       0.098\n",
       "C(activity, Sum)[S.many]         0.1418      0.051      2.764      0.007       0.040       0.243\n",
       "================================================================================================\n",
       "\n",
       "Notes:\n",
       "[1] Standard Errors assume that the covariance matrix of the errors is correctly specified.\n",
       "\"\"\""
      ]
     },
     "metadata": {},
     "output_type": "display_data"
    },
    {
     "data": {
      "text/plain": [
       "array([[ 1.,  0.,  0.,  0.,  1.],\n",
       "       [ 1.,  0.,  1.,  0.,  0.],\n",
       "       [ 1., -1., -1., -1., -1.],\n",
       "       [ 1.,  0.,  0.,  1.,  0.],\n",
       "       [ 1.,  1.,  0.,  0.,  0.]])"
      ]
     },
     "metadata": {},
     "output_type": "display_data"
    }
   ],
   "source": [
    "model_ffS = smf.ols('np.log(longevity) ~ C(activity,Sum)',data = df_ff).fit()\n",
    "display(model_ffS.summary(slim = True),\n",
    "        model_ffS.model.wexog[spec_row,:])"
   ]
  },
  {
   "cell_type": "markdown",
   "metadata": {},
   "source": [
    "***\n",
    "## Piecewise Regression\n",
    "***"
   ]
  },
  {
   "cell_type": "code",
   "execution_count": 80,
   "metadata": {},
   "outputs": [
    {
     "data": {
      "text/plain": [
       "[<matplotlib.lines.Line2D at 0x177224f0d40>]"
      ]
     },
     "execution_count": 80,
     "metadata": {},
     "output_type": "execute_result"
    },
    {
     "data": {
      "image/png": "[encoded data removed]",
      "text/plain": [
       "<Figure size 800x500 with 1 Axes>"
      ]
     },
     "metadata": {},
     "output_type": "display_data"
    }
   ],
   "source": [
    "model_part1 = smf.ols('sr ~ pop15',data = df_sav[df_sav.pop15 < 35]).fit()\n",
    "model_part2 = smf.ols('sr ~ pop15',data = df_sav[df_sav.pop15 > 35]).fit()\n",
    "plt.figure(figsize = [8,5])\n",
    "area_set = [(20,35),(35,48)]\n",
    "model_set = [model_part1,model_part2]\n",
    "for case,(a,b) in zip(model_set,area_set):\n",
    "    y0 = np.sum(case.params.values * np.array([1,a]))\n",
    "    y1 = np.sum(case.params.values * np.array([1,b]))\n",
    "    plt.plot([a,b],[y0,y1],color = 'lime')\n",
    "plt.scatter(df_sav.pop15,df_sav.sr,color = 'gray')\n",
    "plt.xlabel('Pop under 15')\n",
    "plt.ylabel('Saving Rate')\n",
    "plt.axvline(35,color = 'gray',linestyle = 'dashed')\n",
    "bL = lambda x,c:np.where(x < c,c - x,0)\n",
    "bR = lambda x,c:np.where(x < c,0,x - c)\n",
    "model_pr = smf.ols('sr ~ bL(pop15,35) + bR(pop15,35)',data = df_sav).fit()\n",
    "xg = np.arange(20,49)\n",
    "fpr = lambda x:np.sum(model_pr.params.values * np.array([1,bL(x,35),bR(x,35)]))\n",
    "y_pr = list(map(fpr,xg))\n",
    "plt.plot(xg,y_pr,linestyle = 'dotted',color = 'red')"
   ]
  },
  {
   "cell_type": "markdown",
   "metadata": {},
   "source": [
    "***\n",
    "## Polynomial Regression\n",
    "***"
   ]
  },
  {
   "cell_type": "code",
   "execution_count": 81,
   "metadata": {},
   "outputs": [
    {
     "data": {
      "text/html": [
       "<div>\n",
       "<style scoped>\n",
       "    .dataframe tbody tr th:only-of-type {\n",
       "        vertical-align: middle;\n",
       "    }\n",
       "\n",
       "    .dataframe tbody tr th {\n",
       "        vertical-align: top;\n",
       "    }\n",
       "\n",
       "    .dataframe thead th {\n",
       "        text-align: right;\n",
       "    }\n",
       "</style>\n",
       "<table border=\"1\" class=\"dataframe\">\n",
       "  <thead>\n",
       "    <tr style=\"text-align: right;\">\n",
       "      <th></th>\n",
       "      <th>NOx</th>\n",
       "      <th>C</th>\n",
       "      <th>E</th>\n",
       "    </tr>\n",
       "  </thead>\n",
       "  <tbody>\n",
       "    <tr>\n",
       "      <th>0</th>\n",
       "      <td>3.741</td>\n",
       "      <td>12.0</td>\n",
       "      <td>0.907</td>\n",
       "    </tr>\n",
       "    <tr>\n",
       "      <th>1</th>\n",
       "      <td>2.295</td>\n",
       "      <td>12.0</td>\n",
       "      <td>0.761</td>\n",
       "    </tr>\n",
       "    <tr>\n",
       "      <th>2</th>\n",
       "      <td>1.498</td>\n",
       "      <td>12.0</td>\n",
       "      <td>1.108</td>\n",
       "    </tr>\n",
       "    <tr>\n",
       "      <th>3</th>\n",
       "      <td>2.881</td>\n",
       "      <td>12.0</td>\n",
       "      <td>1.016</td>\n",
       "    </tr>\n",
       "    <tr>\n",
       "      <th>4</th>\n",
       "      <td>0.760</td>\n",
       "      <td>12.0</td>\n",
       "      <td>1.189</td>\n",
       "    </tr>\n",
       "  </tbody>\n",
       "</table>\n",
       "</div>"
      ],
      "text/plain": [
       "     NOx     C      E\n",
       "0  3.741  12.0  0.907\n",
       "1  2.295  12.0  0.761\n",
       "2  1.498  12.0  1.108\n",
       "3  2.881  12.0  1.016\n",
       "4  0.760  12.0  1.189"
      ]
     },
     "execution_count": 81,
     "metadata": {},
     "output_type": "execute_result"
    }
   ],
   "source": [
    "df_eth = sm.datasets.get_rdataset(\"ethanol\",\"lattice\").data\n",
    "df_eth.head()"
   ]
  },
  {
   "cell_type": "code",
   "execution_count": 82,
   "metadata": {},
   "outputs": [
    {
     "data": {
      "text/html": [
       "<table class=\"simpletable\">\n",
       "<caption>OLS Regression Results</caption>\n",
       "<tr>\n",
       "  <th>Dep. Variable:</th>       <td>NOx</td>    <th>  R-squared:         </th> <td>   0.824</td>\n",
       "</tr>\n",
       "<tr>\n",
       "  <th>Model:</th>               <td>OLS</td>    <th>  Adj. R-squared:    </th> <td>   0.817</td>\n",
       "</tr>\n",
       "<tr>\n",
       "  <th>No. Observations:</th>  <td>    88</td>   <th>  F-statistic:       </th> <td>   130.8</td>\n",
       "</tr>\n",
       "<tr>\n",
       "  <th>Covariance Type:</th>  <td>nonrobust</td> <th>  Prob (F-statistic):</th> <td>1.47e-31</td>\n",
       "</tr>\n",
       "</table>\n",
       "<table class=\"simpletable\">\n",
       "<tr>\n",
       "         <td></td>           <th>coef</th>     <th>std err</th>      <th>t</th>      <th>P>|t|</th>  <th>[0.025</th>    <th>0.975]</th>  \n",
       "</tr>\n",
       "<tr>\n",
       "  <th>Intercept</th>      <td>  -21.2030</td> <td>    1.240</td> <td>  -17.102</td> <td> 0.000</td> <td>  -23.669</td> <td>  -18.738</td>\n",
       "</tr>\n",
       "<tr>\n",
       "  <th>E</th>              <td>   52.4110</td> <td>    2.704</td> <td>   19.385</td> <td> 0.000</td> <td>   47.034</td> <td>   57.788</td>\n",
       "</tr>\n",
       "<tr>\n",
       "  <th>np.power(E, 2)</th> <td>  -29.0899</td> <td>    1.478</td> <td>  -19.679</td> <td> 0.000</td> <td>  -32.029</td> <td>  -26.150</td>\n",
       "</tr>\n",
       "<tr>\n",
       "  <th>C</th>              <td>    0.0635</td> <td>    0.014</td> <td>    4.635</td> <td> 0.000</td> <td>    0.036</td> <td>    0.091</td>\n",
       "</tr>\n",
       "</table><br/><br/>Notes:<br/>[1] Standard Errors assume that the covariance matrix of the errors is correctly specified."
      ],
      "text/latex": [
       "\\begin{center}\n",
       "\\begin{tabular}{lclc}\n",
       "\\toprule\n",
       "\\textbf{Dep. Variable:}    &      NOx      & \\textbf{  R-squared:         } &     0.824   \\\\\n",
       "\\textbf{Model:}            &      OLS      & \\textbf{  Adj. R-squared:    } &     0.817   \\\\\n",
       "\\textbf{No. Observations:} &         88    & \\textbf{  F-statistic:       } &     130.8   \\\\\n",
       "\\textbf{Covariance Type:}  &   nonrobust   & \\textbf{  Prob (F-statistic):} &  1.47e-31   \\\\\n",
       "\\bottomrule\n",
       "\\end{tabular}\n",
       "\\begin{tabular}{lcccccc}\n",
       "                        & \\textbf{coef} & \\textbf{std err} & \\textbf{t} & \\textbf{P$> |$t$|$} & \\textbf{[0.025} & \\textbf{0.975]}  \\\\\n",
       "\\midrule\n",
       "\\textbf{Intercept}      &     -21.2030  &        1.240     &   -17.102  &         0.000        &      -23.669    &      -18.738     \\\\\n",
       "\\textbf{E}              &      52.4110  &        2.704     &    19.385  &         0.000        &       47.034    &       57.788     \\\\\n",
       "\\textbf{np.power(E, 2)} &     -29.0899  &        1.478     &   -19.679  &         0.000        &      -32.029    &      -26.150     \\\\\n",
       "\\textbf{C}              &       0.0635  &        0.014     &     4.635  &         0.000        &        0.036    &        0.091     \\\\\n",
       "\\bottomrule\n",
       "\\end{tabular}\n",
       "%\\caption{OLS Regression Results}\n",
       "\\end{center}\n",
       "\n",
       "Notes: \\newline\n",
       " [1] Standard Errors assume that the covariance matrix of the errors is correctly specified."
      ],
      "text/plain": [
       "<class 'statsmodels.iolib.summary.Summary'>\n",
       "\"\"\"\n",
       "                            OLS Regression Results                            \n",
       "==============================================================================\n",
       "Dep. Variable:                    NOx   R-squared:                       0.824\n",
       "Model:                            OLS   Adj. R-squared:                  0.817\n",
       "No. Observations:                  88   F-statistic:                     130.8\n",
       "Covariance Type:            nonrobust   Prob (F-statistic):           1.47e-31\n",
       "==================================================================================\n",
       "                     coef    std err          t      P>|t|      [0.025      0.975]\n",
       "----------------------------------------------------------------------------------\n",
       "Intercept        -21.2030      1.240    -17.102      0.000     -23.669     -18.738\n",
       "E                 52.4110      2.704     19.385      0.000      47.034      57.788\n",
       "np.power(E, 2)   -29.0899      1.478    -19.679      0.000     -32.029     -26.150\n",
       "C                  0.0635      0.014      4.635      0.000       0.036       0.091\n",
       "==================================================================================\n",
       "\n",
       "Notes:\n",
       "[1] Standard Errors assume that the covariance matrix of the errors is correctly specified.\n",
       "\"\"\""
      ]
     },
     "execution_count": 82,
     "metadata": {},
     "output_type": "execute_result"
    }
   ],
   "source": [
    "model_deg2 = smf.ols('NOx ~ E + np.power(E,2) + C',data = df_eth).fit()\n",
    "model_deg2.summary(slim = True)"
   ]
  },
  {
   "cell_type": "code",
   "execution_count": 83,
   "metadata": {},
   "outputs": [
    {
     "data": {
      "text/html": [
       "<table class=\"simpletable\">\n",
       "<caption>OLS Regression Results</caption>\n",
       "<tr>\n",
       "  <th>Dep. Variable:</th>       <td>NOx</td>    <th>  R-squared:         </th> <td>   0.932</td>\n",
       "</tr>\n",
       "<tr>\n",
       "  <th>Model:</th>               <td>OLS</td>    <th>  Adj. R-squared:    </th> <td>   0.928</td>\n",
       "</tr>\n",
       "<tr>\n",
       "  <th>No. Observations:</th>  <td>    88</td>   <th>  F-statistic:       </th> <td>   224.1</td>\n",
       "</tr>\n",
       "<tr>\n",
       "  <th>Covariance Type:</th>  <td>nonrobust</td> <th>  Prob (F-statistic):</th> <td>2.83e-46</td>\n",
       "</tr>\n",
       "</table>\n",
       "<table class=\"simpletable\">\n",
       "<tr>\n",
       "         <td></td>           <th>coef</th>     <th>std err</th>      <th>t</th>      <th>P>|t|</th>  <th>[0.025</th>    <th>0.975]</th>  \n",
       "</tr>\n",
       "<tr>\n",
       "  <th>Intercept</th>      <td>  161.7820</td> <td>   16.249</td> <td>    9.956</td> <td> 0.000</td> <td>  129.458</td> <td>  194.107</td>\n",
       "</tr>\n",
       "<tr>\n",
       "  <th>E</th>              <td> -821.3328</td> <td>   77.013</td> <td>  -10.665</td> <td> 0.000</td> <td> -974.535</td> <td> -668.130</td>\n",
       "</tr>\n",
       "<tr>\n",
       "  <th>np.power(E, 2)</th> <td> 1496.8577</td> <td>  133.971</td> <td>   11.173</td> <td> 0.000</td> <td> 1230.346</td> <td> 1763.369</td>\n",
       "</tr>\n",
       "<tr>\n",
       "  <th>np.power(E, 3)</th> <td>-1156.0814</td> <td>  101.392</td> <td>  -11.402</td> <td> 0.000</td> <td>-1357.783</td> <td> -954.380</td>\n",
       "</tr>\n",
       "<tr>\n",
       "  <th>np.power(E, 4)</th> <td>  321.1542</td> <td>   28.205</td> <td>   11.387</td> <td> 0.000</td> <td>  265.046</td> <td>  377.262</td>\n",
       "</tr>\n",
       "<tr>\n",
       "  <th>C</th>              <td>    0.0548</td> <td>    0.009</td> <td>    6.275</td> <td> 0.000</td> <td>    0.037</td> <td>    0.072</td>\n",
       "</tr>\n",
       "</table><br/><br/>Notes:<br/>[1] Standard Errors assume that the covariance matrix of the errors is correctly specified.<br/>[2] The condition number is large, 7.4e+04. This might indicate that there are<br/>strong multicollinearity or other numerical problems."
      ],
      "text/latex": [
       "\\begin{center}\n",
       "\\begin{tabular}{lclc}\n",
       "\\toprule\n",
       "\\textbf{Dep. Variable:}    &      NOx      & \\textbf{  R-squared:         } &     0.932   \\\\\n",
       "\\textbf{Model:}            &      OLS      & \\textbf{  Adj. R-squared:    } &     0.928   \\\\\n",
       "\\textbf{No. Observations:} &         88    & \\textbf{  F-statistic:       } &     224.1   \\\\\n",
       "\\textbf{Covariance Type:}  &   nonrobust   & \\textbf{  Prob (F-statistic):} &  2.83e-46   \\\\\n",
       "\\bottomrule\n",
       "\\end{tabular}\n",
       "\\begin{tabular}{lcccccc}\n",
       "                        & \\textbf{coef} & \\textbf{std err} & \\textbf{t} & \\textbf{P$> |$t$|$} & \\textbf{[0.025} & \\textbf{0.975]}  \\\\\n",
       "\\midrule\n",
       "\\textbf{Intercept}      &     161.7820  &       16.249     &     9.956  &         0.000        &      129.458    &      194.107     \\\\\n",
       "\\textbf{E}              &    -821.3328  &       77.013     &   -10.665  &         0.000        &     -974.535    &     -668.130     \\\\\n",
       "\\textbf{np.power(E, 2)} &    1496.8577  &      133.971     &    11.173  &         0.000        &     1230.346    &     1763.369     \\\\\n",
       "\\textbf{np.power(E, 3)} &   -1156.0814  &      101.392     &   -11.402  &         0.000        &    -1357.783    &     -954.380     \\\\\n",
       "\\textbf{np.power(E, 4)} &     321.1542  &       28.205     &    11.387  &         0.000        &      265.046    &      377.262     \\\\\n",
       "\\textbf{C}              &       0.0548  &        0.009     &     6.275  &         0.000        &        0.037    &        0.072     \\\\\n",
       "\\bottomrule\n",
       "\\end{tabular}\n",
       "%\\caption{OLS Regression Results}\n",
       "\\end{center}\n",
       "\n",
       "Notes: \\newline\n",
       " [1] Standard Errors assume that the covariance matrix of the errors is correctly specified. \\newline\n",
       " [2] The condition number is large, 7.4e+04. This might indicate that there are \\newline\n",
       " strong multicollinearity or other numerical problems."
      ],
      "text/plain": [
       "<class 'statsmodels.iolib.summary.Summary'>\n",
       "\"\"\"\n",
       "                            OLS Regression Results                            \n",
       "==============================================================================\n",
       "Dep. Variable:                    NOx   R-squared:                       0.932\n",
       "Model:                            OLS   Adj. R-squared:                  0.928\n",
       "No. Observations:                  88   F-statistic:                     224.1\n",
       "Covariance Type:            nonrobust   Prob (F-statistic):           2.83e-46\n",
       "==================================================================================\n",
       "                     coef    std err          t      P>|t|      [0.025      0.975]\n",
       "----------------------------------------------------------------------------------\n",
       "Intercept        161.7820     16.249      9.956      0.000     129.458     194.107\n",
       "E               -821.3328     77.013    -10.665      0.000    -974.535    -668.130\n",
       "np.power(E, 2)  1496.8577    133.971     11.173      0.000    1230.346    1763.369\n",
       "np.power(E, 3) -1156.0814    101.392    -11.402      0.000   -1357.783    -954.380\n",
       "np.power(E, 4)   321.1542     28.205     11.387      0.000     265.046     377.262\n",
       "C                  0.0548      0.009      6.275      0.000       0.037       0.072\n",
       "==================================================================================\n",
       "\n",
       "Notes:\n",
       "[1] Standard Errors assume that the covariance matrix of the errors is correctly specified.\n",
       "[2] The condition number is large, 7.4e+04. This might indicate that there are\n",
       "strong multicollinearity or other numerical problems.\n",
       "\"\"\""
      ]
     },
     "execution_count": 83,
     "metadata": {},
     "output_type": "execute_result"
    }
   ],
   "source": [
    "model_deg4 = smf.ols('NOx ~ E + np.power(E,2) + np.power(E,3) + np.power(E,4) + C',data = df_eth).fit()\n",
    "model_deg4.summary(slim = True)"
   ]
  },
  {
   "cell_type": "code",
   "execution_count": 84,
   "metadata": {},
   "outputs": [
    {
     "data": {
      "text/html": [
       "<table class=\"simpletable\">\n",
       "<caption>OLS Regression Results</caption>\n",
       "<tr>\n",
       "  <th>Dep. Variable:</th>    <td>np.log(NOx)</td> <th>  R-squared:         </th> <td>   0.913</td>\n",
       "</tr>\n",
       "<tr>\n",
       "  <th>Model:</th>                <td>OLS</td>     <th>  Adj. R-squared:    </th> <td>   0.910</td>\n",
       "</tr>\n",
       "<tr>\n",
       "  <th>No. Observations:</th>   <td>    88</td>    <th>  F-statistic:       </th> <td>   292.6</td>\n",
       "</tr>\n",
       "<tr>\n",
       "  <th>Covariance Type:</th>   <td>nonrobust</td>  <th>  Prob (F-statistic):</th> <td>2.39e-44</td>\n",
       "</tr>\n",
       "</table>\n",
       "<table class=\"simpletable\">\n",
       "<tr>\n",
       "         <td></td>           <th>coef</th>     <th>std err</th>      <th>t</th>      <th>P>|t|</th>  <th>[0.025</th>    <th>0.975]</th>  \n",
       "</tr>\n",
       "<tr>\n",
       "  <th>Intercept</th>      <td>  -13.9351</td> <td>    0.519</td> <td>  -26.875</td> <td> 0.000</td> <td>  -14.966</td> <td>  -12.904</td>\n",
       "</tr>\n",
       "<tr>\n",
       "  <th>E</th>              <td>   32.7990</td> <td>    1.131</td> <td>   29.007</td> <td> 0.000</td> <td>   30.550</td> <td>   35.048</td>\n",
       "</tr>\n",
       "<tr>\n",
       "  <th>np.power(E, 2)</th> <td>  -18.1650</td> <td>    0.618</td> <td>  -29.383</td> <td> 0.000</td> <td>  -19.394</td> <td>  -16.936</td>\n",
       "</tr>\n",
       "<tr>\n",
       "  <th>C</th>              <td>    0.0296</td> <td>    0.006</td> <td>    5.166</td> <td> 0.000</td> <td>    0.018</td> <td>    0.041</td>\n",
       "</tr>\n",
       "</table><br/><br/>Notes:<br/>[1] Standard Errors assume that the covariance matrix of the errors is correctly specified."
      ],
      "text/latex": [
       "\\begin{center}\n",
       "\\begin{tabular}{lclc}\n",
       "\\toprule\n",
       "\\textbf{Dep. Variable:}    &  np.log(NOx)  & \\textbf{  R-squared:         } &     0.913   \\\\\n",
       "\\textbf{Model:}            &      OLS      & \\textbf{  Adj. R-squared:    } &     0.910   \\\\\n",
       "\\textbf{No. Observations:} &         88    & \\textbf{  F-statistic:       } &     292.6   \\\\\n",
       "\\textbf{Covariance Type:}  &   nonrobust   & \\textbf{  Prob (F-statistic):} &  2.39e-44   \\\\\n",
       "\\bottomrule\n",
       "\\end{tabular}\n",
       "\\begin{tabular}{lcccccc}\n",
       "                        & \\textbf{coef} & \\textbf{std err} & \\textbf{t} & \\textbf{P$> |$t$|$} & \\textbf{[0.025} & \\textbf{0.975]}  \\\\\n",
       "\\midrule\n",
       "\\textbf{Intercept}      &     -13.9351  &        0.519     &   -26.875  &         0.000        &      -14.966    &      -12.904     \\\\\n",
       "\\textbf{E}              &      32.7990  &        1.131     &    29.007  &         0.000        &       30.550    &       35.048     \\\\\n",
       "\\textbf{np.power(E, 2)} &     -18.1650  &        0.618     &   -29.383  &         0.000        &      -19.394    &      -16.936     \\\\\n",
       "\\textbf{C}              &       0.0296  &        0.006     &     5.166  &         0.000        &        0.018    &        0.041     \\\\\n",
       "\\bottomrule\n",
       "\\end{tabular}\n",
       "%\\caption{OLS Regression Results}\n",
       "\\end{center}\n",
       "\n",
       "Notes: \\newline\n",
       " [1] Standard Errors assume that the covariance matrix of the errors is correctly specified."
      ],
      "text/plain": [
       "<class 'statsmodels.iolib.summary.Summary'>\n",
       "\"\"\"\n",
       "                            OLS Regression Results                            \n",
       "==============================================================================\n",
       "Dep. Variable:            np.log(NOx)   R-squared:                       0.913\n",
       "Model:                            OLS   Adj. R-squared:                  0.910\n",
       "No. Observations:                  88   F-statistic:                     292.6\n",
       "Covariance Type:            nonrobust   Prob (F-statistic):           2.39e-44\n",
       "==================================================================================\n",
       "                     coef    std err          t      P>|t|      [0.025      0.975]\n",
       "----------------------------------------------------------------------------------\n",
       "Intercept        -13.9351      0.519    -26.875      0.000     -14.966     -12.904\n",
       "E                 32.7990      1.131     29.007      0.000      30.550      35.048\n",
       "np.power(E, 2)   -18.1650      0.618    -29.383      0.000     -19.394     -16.936\n",
       "C                  0.0296      0.006      5.166      0.000       0.018       0.041\n",
       "==================================================================================\n",
       "\n",
       "Notes:\n",
       "[1] Standard Errors assume that the covariance matrix of the errors is correctly specified.\n",
       "\"\"\""
      ]
     },
     "execution_count": 84,
     "metadata": {},
     "output_type": "execute_result"
    }
   ],
   "source": [
    "model_log = smf.ols('np.log(NOx) ~ E + np.power(E,2) + C',data = df_eth).fit()\n",
    "model_log.summary(slim = True)"
   ]
  },
  {
   "cell_type": "code",
   "execution_count": 85,
   "metadata": {},
   "outputs": [
    {
     "data": {
      "text/plain": [
       "<matplotlib.legend.Legend at 0x17722521d60>"
      ]
     },
     "execution_count": 85,
     "metadata": {},
     "output_type": "execute_result"
    },
    {
     "data": {
      "image/png": "[encoded data removed]",
      "text/plain": [
       "<Figure size 640x480 with 1 Axes>"
      ]
     },
     "metadata": {},
     "output_type": "display_data"
    }
   ],
   "source": [
    "f4 = np.poly1d(model_deg4.params.iloc[[4,3,2,1,0]])\n",
    "f2 = np.poly1d(model_deg2.params.iloc[[2,1,0]])\n",
    "fL = np.poly1d(model_log.params.iloc[[2,1,0]])\n",
    "plt.scatter(df_eth.E,df_eth.NOx,color = 'gray')\n",
    "grids = np.linspace(0.4,1.4)\n",
    "meanC = df_eth.C.mean()\n",
    "plt.plot(grids,f2(grids) + meanC * model_deg2.params['C'],'r-',label = 'quadratic')\n",
    "plt.plot(grids,f4(grids) + meanC * model_deg4.params['C'],'b-',label = 'quartic')\n",
    "plt.plot(grids,np.exp(fL(grids)) + meanC * model_log.params['C'],'k:',label = 'log-quadratic')\n",
    "plt.legend()"
   ]
  },
  {
   "cell_type": "markdown",
   "metadata": {},
   "source": [
    "***\n",
    "## Orthogonal Polynomial\n",
    "***"
   ]
  },
  {
   "cell_type": "code",
   "execution_count": 86,
   "metadata": {},
   "outputs": [
    {
     "data": {
      "text/html": [
       "<table class=\"simpletable\">\n",
       "<caption>OLS Regression Results</caption>\n",
       "<tr>\n",
       "  <th>Dep. Variable:</th>        <td>y</td>     <th>  R-squared:         </th> <td>   0.932</td>\n",
       "</tr>\n",
       "<tr>\n",
       "  <th>Model:</th>               <td>OLS</td>    <th>  Adj. R-squared:    </th> <td>   0.928</td>\n",
       "</tr>\n",
       "<tr>\n",
       "  <th>No. Observations:</th>  <td>    88</td>   <th>  F-statistic:       </th> <td>   224.1</td>\n",
       "</tr>\n",
       "<tr>\n",
       "  <th>Covariance Type:</th>  <td>nonrobust</td> <th>  Prob (F-statistic):</th> <td>2.83e-46</td>\n",
       "</tr>\n",
       "</table>\n",
       "<table class=\"simpletable\">\n",
       "<tr>\n",
       "    <td></td>       <th>coef</th>     <th>std err</th>      <th>t</th>      <th>P>|t|</th>  <th>[0.025</th>    <th>0.975]</th>  \n",
       "</tr>\n",
       "<tr>\n",
       "  <th>const</th> <td>    1.3299</td> <td>    0.111</td> <td>   12.032</td> <td> 0.000</td> <td>    1.110</td> <td>    1.550</td>\n",
       "</tr>\n",
       "<tr>\n",
       "  <th>x1</th>    <td>    0.2711</td> <td>    0.059</td> <td>    4.586</td> <td> 0.000</td> <td>    0.154</td> <td>    0.389</td>\n",
       "</tr>\n",
       "<tr>\n",
       "  <th>x2</th>    <td>   -2.4128</td> <td>    0.079</td> <td>  -30.393</td> <td> 0.000</td> <td>   -2.571</td> <td>   -2.255</td>\n",
       "</tr>\n",
       "<tr>\n",
       "  <th>x3</th>    <td>   -0.3576</td> <td>    0.086</td> <td>   -4.153</td> <td> 0.000</td> <td>   -0.529</td> <td>   -0.186</td>\n",
       "</tr>\n",
       "<tr>\n",
       "  <th>x4</th>    <td>    1.0828</td> <td>    0.095</td> <td>   11.387</td> <td> 0.000</td> <td>    0.894</td> <td>    1.272</td>\n",
       "</tr>\n",
       "<tr>\n",
       "  <th>x5</th>    <td>    0.0548</td> <td>    0.009</td> <td>    6.275</td> <td> 0.000</td> <td>    0.037</td> <td>    0.072</td>\n",
       "</tr>\n",
       "</table><br/><br/>Notes:<br/>[1] Standard Errors assume that the covariance matrix of the errors is correctly specified."
      ],
      "text/latex": [
       "\\begin{center}\n",
       "\\begin{tabular}{lclc}\n",
       "\\toprule\n",
       "\\textbf{Dep. Variable:}    &       y       & \\textbf{  R-squared:         } &     0.932   \\\\\n",
       "\\textbf{Model:}            &      OLS      & \\textbf{  Adj. R-squared:    } &     0.928   \\\\\n",
       "\\textbf{No. Observations:} &         88    & \\textbf{  F-statistic:       } &     224.1   \\\\\n",
       "\\textbf{Covariance Type:}  &   nonrobust   & \\textbf{  Prob (F-statistic):} &  2.83e-46   \\\\\n",
       "\\bottomrule\n",
       "\\end{tabular}\n",
       "\\begin{tabular}{lcccccc}\n",
       "               & \\textbf{coef} & \\textbf{std err} & \\textbf{t} & \\textbf{P$> |$t$|$} & \\textbf{[0.025} & \\textbf{0.975]}  \\\\\n",
       "\\midrule\n",
       "\\textbf{const} &       1.3299  &        0.111     &    12.032  &         0.000        &        1.110    &        1.550     \\\\\n",
       "\\textbf{x1}    &       0.2711  &        0.059     &     4.586  &         0.000        &        0.154    &        0.389     \\\\\n",
       "\\textbf{x2}    &      -2.4128  &        0.079     &   -30.393  &         0.000        &       -2.571    &       -2.255     \\\\\n",
       "\\textbf{x3}    &      -0.3576  &        0.086     &    -4.153  &         0.000        &       -0.529    &       -0.186     \\\\\n",
       "\\textbf{x4}    &       1.0828  &        0.095     &    11.387  &         0.000        &        0.894    &        1.272     \\\\\n",
       "\\textbf{x5}    &       0.0548  &        0.009     &     6.275  &         0.000        &        0.037    &        0.072     \\\\\n",
       "\\bottomrule\n",
       "\\end{tabular}\n",
       "%\\caption{OLS Regression Results}\n",
       "\\end{center}\n",
       "\n",
       "Notes: \\newline\n",
       " [1] Standard Errors assume that the covariance matrix of the errors is correctly specified."
      ],
      "text/plain": [
       "<class 'statsmodels.iolib.summary.Summary'>\n",
       "\"\"\"\n",
       "                            OLS Regression Results                            \n",
       "==============================================================================\n",
       "Dep. Variable:                      y   R-squared:                       0.932\n",
       "Model:                            OLS   Adj. R-squared:                  0.928\n",
       "No. Observations:                  88   F-statistic:                     224.1\n",
       "Covariance Type:            nonrobust   Prob (F-statistic):           2.83e-46\n",
       "==============================================================================\n",
       "                 coef    std err          t      P>|t|      [0.025      0.975]\n",
       "------------------------------------------------------------------------------\n",
       "const          1.3299      0.111     12.032      0.000       1.110       1.550\n",
       "x1             0.2711      0.059      4.586      0.000       0.154       0.389\n",
       "x2            -2.4128      0.079    -30.393      0.000      -2.571      -2.255\n",
       "x3            -0.3576      0.086     -4.153      0.000      -0.529      -0.186\n",
       "x4             1.0828      0.095     11.387      0.000       0.894       1.272\n",
       "x5             0.0548      0.009      6.275      0.000       0.037       0.072\n",
       "==============================================================================\n",
       "\n",
       "Notes:\n",
       "[1] Standard Errors assume that the covariance matrix of the errors is correctly specified.\n",
       "\"\"\""
      ]
     },
     "metadata": {},
     "output_type": "display_data"
    },
    {
     "data": {
      "text/plain": [
       "array([[1.   , 0.303, 0.076, 0.17 ],\n",
       "       [0.303, 1.   , 0.29 , 0.232],\n",
       "       [0.076, 0.29 , 1.   , 0.35 ],\n",
       "       [0.17 , 0.232, 0.35 , 1.   ]])"
      ]
     },
     "metadata": {},
     "output_type": "display_data"
    }
   ],
   "source": [
    "# Legender Polynomial\n",
    "E_scale = -1 + ((df_eth.E - df_eth.E.min()) * 2) / (df_eth.E.max() - df_eth.E.min())\n",
    "X_Leg = np.hstack([np.polynomial.legendre.legvander(E_scale,4),df_eth.C.values.reshape(-1,1)])\n",
    "model_Leg = sm.OLS(df_eth.NOx.values,X_Leg).fit()\n",
    "display(model_Leg.summary(slim = True),\n",
    "        np.corrcoef(X_Leg[:,1:5].T).round(3))"
   ]
  },
  {
   "cell_type": "code",
   "execution_count": 87,
   "metadata": {},
   "outputs": [
    {
     "data": {
      "text/latex": [
       "$\\displaystyle \\left[\\begin{matrix}1\\end{matrix}\\right]$"
      ],
      "text/plain": [
       "Matrix([[1]])"
      ]
     },
     "metadata": {},
     "output_type": "display_data"
    },
    {
     "data": {
      "text/latex": [
       "$\\displaystyle 1$"
      ],
      "text/plain": [
       "1"
      ]
     },
     "metadata": {},
     "output_type": "display_data"
    },
    {
     "data": {
      "text/latex": [
       "$\\displaystyle \\left[\\begin{matrix}2.0 & 0.0\\\\1 & x\\end{matrix}\\right]$"
      ],
      "text/plain": [
       "Matrix([\n",
       "[2.0, 0.0],\n",
       "[  1,   x]])"
      ]
     },
     "metadata": {},
     "output_type": "display_data"
    },
    {
     "data": {
      "text/latex": [
       "$\\displaystyle 2.0 x$"
      ],
      "text/plain": [
       "2.0*x"
      ]
     },
     "metadata": {},
     "output_type": "display_data"
    },
    {
     "data": {
      "text/latex": [
       "$\\displaystyle \\left[\\begin{matrix}2.0 & 0.0 & 0.666666666666667\\\\0.0 & 0.666666666666667 & 0.0\\\\1 & x & x^{2}\\end{matrix}\\right]$"
      ],
      "text/plain": [
       "Matrix([\n",
       "[2.0,               0.0, 0.666666666666667],\n",
       "[0.0, 0.666666666666667,               0.0],\n",
       "[  1,                 x,              x**2]])"
      ]
     },
     "metadata": {},
     "output_type": "display_data"
    },
    {
     "data": {
      "text/latex": [
       "$\\displaystyle 1.33333333333333 x^{2} - 0.444444444444444$"
      ],
      "text/plain": [
       "1.33333333333333*x**2 - 0.444444444444444"
      ]
     },
     "metadata": {},
     "output_type": "display_data"
    }
   ],
   "source": [
    "# generate orthogonal polynomial\n",
    "b = sym.symbols('x')\n",
    "d = 3\n",
    "for n in range(d):\n",
    "\tmoM = np.zeros((n,n+1))\n",
    "\tfor i in range(n):\n",
    "\t\tfor j in range(n+1):\n",
    "\t\t\tmoM[i,j] = sp.integrate.quad(lambda x:x**(i+j),-1,1)[0]\n",
    "\tmoMB = moM.tolist()\n",
    "\tmoMB.append([b**k for k in range(n+1)])\n",
    "\tdisplay(sym.Matrix(moMB),\n",
    "\t\t    sym.det(sym.Matrix(moMB)))\n"
   ]
  },
  {
   "cell_type": "markdown",
   "metadata": {},
   "source": [
    "***\n",
    "## Model Selection\n",
    "***"
   ]
  },
  {
   "cell_type": "code",
   "execution_count": 5,
   "metadata": {},
   "outputs": [
    {
     "data": {
      "text/html": [
       "<div>\n",
       "<style scoped>\n",
       "    .dataframe tbody tr th:only-of-type {\n",
       "        vertical-align: middle;\n",
       "    }\n",
       "\n",
       "    .dataframe tbody tr th {\n",
       "        vertical-align: top;\n",
       "    }\n",
       "\n",
       "    .dataframe thead th {\n",
       "        text-align: right;\n",
       "    }\n",
       "</style>\n",
       "<table border=\"1\" class=\"dataframe\">\n",
       "  <thead>\n",
       "    <tr style=\"text-align: right;\">\n",
       "      <th></th>\n",
       "      <th>Population</th>\n",
       "      <th>Income</th>\n",
       "      <th>Illiteracy</th>\n",
       "      <th>LifeExp</th>\n",
       "      <th>Murder</th>\n",
       "      <th>HSGrad</th>\n",
       "      <th>Frost</th>\n",
       "      <th>Area</th>\n",
       "    </tr>\n",
       "    <tr>\n",
       "      <th>State</th>\n",
       "      <th></th>\n",
       "      <th></th>\n",
       "      <th></th>\n",
       "      <th></th>\n",
       "      <th></th>\n",
       "      <th></th>\n",
       "      <th></th>\n",
       "      <th></th>\n",
       "    </tr>\n",
       "  </thead>\n",
       "  <tbody>\n",
       "    <tr>\n",
       "      <th>AL</th>\n",
       "      <td>3615</td>\n",
       "      <td>3624</td>\n",
       "      <td>2.1</td>\n",
       "      <td>69.05</td>\n",
       "      <td>15.1</td>\n",
       "      <td>41.3</td>\n",
       "      <td>20</td>\n",
       "      <td>50708</td>\n",
       "    </tr>\n",
       "    <tr>\n",
       "      <th>AK</th>\n",
       "      <td>365</td>\n",
       "      <td>6315</td>\n",
       "      <td>1.5</td>\n",
       "      <td>69.31</td>\n",
       "      <td>11.3</td>\n",
       "      <td>66.7</td>\n",
       "      <td>152</td>\n",
       "      <td>566432</td>\n",
       "    </tr>\n",
       "    <tr>\n",
       "      <th>AZ</th>\n",
       "      <td>2212</td>\n",
       "      <td>4530</td>\n",
       "      <td>1.8</td>\n",
       "      <td>70.55</td>\n",
       "      <td>7.8</td>\n",
       "      <td>58.1</td>\n",
       "      <td>15</td>\n",
       "      <td>113417</td>\n",
       "    </tr>\n",
       "    <tr>\n",
       "      <th>AR</th>\n",
       "      <td>2110</td>\n",
       "      <td>3378</td>\n",
       "      <td>1.9</td>\n",
       "      <td>70.66</td>\n",
       "      <td>10.1</td>\n",
       "      <td>39.9</td>\n",
       "      <td>65</td>\n",
       "      <td>51945</td>\n",
       "    </tr>\n",
       "    <tr>\n",
       "      <th>CA</th>\n",
       "      <td>21198</td>\n",
       "      <td>5114</td>\n",
       "      <td>1.1</td>\n",
       "      <td>71.71</td>\n",
       "      <td>10.3</td>\n",
       "      <td>62.6</td>\n",
       "      <td>20</td>\n",
       "      <td>156361</td>\n",
       "    </tr>\n",
       "  </tbody>\n",
       "</table>\n",
       "</div>"
      ],
      "text/plain": [
       "       Population  Income  Illiteracy  LifeExp  Murder  HSGrad  Frost    Area\n",
       "State                                                                        \n",
       "AL           3615    3624         2.1    69.05    15.1    41.3     20   50708\n",
       "AK            365    6315         1.5    69.31    11.3    66.7    152  566432\n",
       "AZ           2212    4530         1.8    70.55     7.8    58.1     15  113417\n",
       "AR           2110    3378         1.9    70.66    10.1    39.9     65   51945\n",
       "CA          21198    5114         1.1    71.71    10.3    62.6     20  156361"
      ]
     },
     "execution_count": 5,
     "metadata": {},
     "output_type": "execute_result"
    }
   ],
   "source": [
    "df_sd = statedata.load()\n",
    "df_sd.set_index('State',inplace = True)\n",
    "df_sd.head()"
   ]
  },
  {
   "cell_type": "code",
   "execution_count": 6,
   "metadata": {},
   "outputs": [],
   "source": [
    "y = df_sd.LifeExp\n",
    "Xm = sm.add_constant(df_sd.drop('LifeExp',axis = 1))"
   ]
  },
  {
   "cell_type": "code",
   "execution_count": 90,
   "metadata": {},
   "outputs": [
    {
     "name": "stderr",
     "output_type": "stream",
     "text": [
      "Features: 255/255"
     ]
    },
    {
     "data": {
      "text/plain": [
       "['const', 'Population', 'Murder', 'HSGrad', 'Frost']"
      ]
     },
     "metadata": {},
     "output_type": "display_data"
    },
    {
     "data": {
      "text/html": [
       "<table class=\"simpletable\">\n",
       "<caption>OLS Regression Results</caption>\n",
       "<tr>\n",
       "  <th>Dep. Variable:</th>     <td>LifeExp</td>  <th>  R-squared:         </th> <td>   0.736</td>\n",
       "</tr>\n",
       "<tr>\n",
       "  <th>Model:</th>               <td>OLS</td>    <th>  Adj. R-squared:    </th> <td>   0.713</td>\n",
       "</tr>\n",
       "<tr>\n",
       "  <th>No. Observations:</th>  <td>    50</td>   <th>  F-statistic:       </th> <td>   31.37</td>\n",
       "</tr>\n",
       "<tr>\n",
       "  <th>Covariance Type:</th>  <td>nonrobust</td> <th>  Prob (F-statistic):</th> <td>1.70e-12</td>\n",
       "</tr>\n",
       "</table>\n",
       "<table class=\"simpletable\">\n",
       "<tr>\n",
       "       <td></td>         <th>coef</th>     <th>std err</th>      <th>t</th>      <th>P>|t|</th>  <th>[0.025</th>    <th>0.975]</th>  \n",
       "</tr>\n",
       "<tr>\n",
       "  <th>const</th>      <td>   71.0271</td> <td>    0.953</td> <td>   74.542</td> <td> 0.000</td> <td>   69.108</td> <td>   72.946</td>\n",
       "</tr>\n",
       "<tr>\n",
       "  <th>Population</th> <td> 5.014e-05</td> <td> 2.51e-05</td> <td>    1.996</td> <td> 0.052</td> <td>-4.54e-07</td> <td>    0.000</td>\n",
       "</tr>\n",
       "<tr>\n",
       "  <th>Murder</th>     <td>   -0.3001</td> <td>    0.037</td> <td>   -8.199</td> <td> 0.000</td> <td>   -0.374</td> <td>   -0.226</td>\n",
       "</tr>\n",
       "<tr>\n",
       "  <th>HSGrad</th>     <td>    0.0466</td> <td>    0.015</td> <td>    3.142</td> <td> 0.003</td> <td>    0.017</td> <td>    0.076</td>\n",
       "</tr>\n",
       "<tr>\n",
       "  <th>Frost</th>      <td>   -0.0059</td> <td>    0.002</td> <td>   -2.455</td> <td> 0.018</td> <td>   -0.011</td> <td>   -0.001</td>\n",
       "</tr>\n",
       "</table><br/><br/>Notes:<br/>[1] Standard Errors assume that the covariance matrix of the errors is correctly specified.<br/>[2] The condition number is large, 5.74e+04. This might indicate that there are<br/>strong multicollinearity or other numerical problems."
      ],
      "text/latex": [
       "\\begin{center}\n",
       "\\begin{tabular}{lclc}\n",
       "\\toprule\n",
       "\\textbf{Dep. Variable:}    &    LifeExp    & \\textbf{  R-squared:         } &     0.736   \\\\\n",
       "\\textbf{Model:}            &      OLS      & \\textbf{  Adj. R-squared:    } &     0.713   \\\\\n",
       "\\textbf{No. Observations:} &         50    & \\textbf{  F-statistic:       } &     31.37   \\\\\n",
       "\\textbf{Covariance Type:}  &   nonrobust   & \\textbf{  Prob (F-statistic):} &  1.70e-12   \\\\\n",
       "\\bottomrule\n",
       "\\end{tabular}\n",
       "\\begin{tabular}{lcccccc}\n",
       "                    & \\textbf{coef} & \\textbf{std err} & \\textbf{t} & \\textbf{P$> |$t$|$} & \\textbf{[0.025} & \\textbf{0.975]}  \\\\\n",
       "\\midrule\n",
       "\\textbf{const}      &      71.0271  &        0.953     &    74.542  &         0.000        &       69.108    &       72.946     \\\\\n",
       "\\textbf{Population} &    5.014e-05  &     2.51e-05     &     1.996  &         0.052        &    -4.54e-07    &        0.000     \\\\\n",
       "\\textbf{Murder}     &      -0.3001  &        0.037     &    -8.199  &         0.000        &       -0.374    &       -0.226     \\\\\n",
       "\\textbf{HSGrad}     &       0.0466  &        0.015     &     3.142  &         0.003        &        0.017    &        0.076     \\\\\n",
       "\\textbf{Frost}      &      -0.0059  &        0.002     &    -2.455  &         0.018        &       -0.011    &       -0.001     \\\\\n",
       "\\bottomrule\n",
       "\\end{tabular}\n",
       "%\\caption{OLS Regression Results}\n",
       "\\end{center}\n",
       "\n",
       "Notes: \\newline\n",
       " [1] Standard Errors assume that the covariance matrix of the errors is correctly specified. \\newline\n",
       " [2] The condition number is large, 5.74e+04. This might indicate that there are \\newline\n",
       " strong multicollinearity or other numerical problems."
      ],
      "text/plain": [
       "<class 'statsmodels.iolib.summary.Summary'>\n",
       "\"\"\"\n",
       "                            OLS Regression Results                            \n",
       "==============================================================================\n",
       "Dep. Variable:                LifeExp   R-squared:                       0.736\n",
       "Model:                            OLS   Adj. R-squared:                  0.713\n",
       "No. Observations:                  50   F-statistic:                     31.37\n",
       "Covariance Type:            nonrobust   Prob (F-statistic):           1.70e-12\n",
       "==============================================================================\n",
       "                 coef    std err          t      P>|t|      [0.025      0.975]\n",
       "------------------------------------------------------------------------------\n",
       "const         71.0271      0.953     74.542      0.000      69.108      72.946\n",
       "Population  5.014e-05   2.51e-05      1.996      0.052   -4.54e-07       0.000\n",
       "Murder        -0.3001      0.037     -8.199      0.000      -0.374      -0.226\n",
       "HSGrad         0.0466      0.015      3.142      0.003       0.017       0.076\n",
       "Frost         -0.0059      0.002     -2.455      0.018      -0.011      -0.001\n",
       "==============================================================================\n",
       "\n",
       "Notes:\n",
       "[1] Standard Errors assume that the covariance matrix of the errors is correctly specified.\n",
       "[2] The condition number is large, 5.74e+04. This might indicate that there are\n",
       "strong multicollinearity or other numerical problems.\n",
       "\"\"\""
      ]
     },
     "metadata": {},
     "output_type": "display_data"
    }
   ],
   "source": [
    "# Best Subset Selection\n",
    "best_optima = EFS(LinearRegression(),\n",
    "                  max_features = Xm.shape[1],\n",
    "                  scoring = 'r2',\n",
    "                  print_progress = True).fit(Xm,y)\n",
    "best_features = list(Xm.columns[list(best_optima.best_idx_)])\n",
    "X_selected = sm.add_constant(Xm[best_features])\n",
    "model_best = sm.OLS(y, X_selected).fit()\n",
    "display(best_features,\n",
    "        model_best.summary(slim = True))"
   ]
  },
  {
   "cell_type": "code",
   "execution_count": 91,
   "metadata": {},
   "outputs": [
    {
     "data": {
      "text/html": [
       "<table class=\"simpletable\">\n",
       "<caption>OLS Regression Results</caption>\n",
       "<tr>\n",
       "  <th>Dep. Variable:</th>     <td>LifeExp</td>  <th>  R-squared:         </th> <td>   0.713</td>\n",
       "</tr>\n",
       "<tr>\n",
       "  <th>Model:</th>               <td>OLS</td>    <th>  Adj. R-squared:    </th> <td>   0.694</td>\n",
       "</tr>\n",
       "<tr>\n",
       "  <th>No. Observations:</th>  <td>    50</td>   <th>  F-statistic:       </th> <td>   38.03</td>\n",
       "</tr>\n",
       "<tr>\n",
       "  <th>Covariance Type:</th>  <td>nonrobust</td> <th>  Prob (F-statistic):</th> <td>1.63e-12</td>\n",
       "</tr>\n",
       "</table>\n",
       "<table class=\"simpletable\">\n",
       "<tr>\n",
       "     <td></td>       <th>coef</th>     <th>std err</th>      <th>t</th>      <th>P>|t|</th>  <th>[0.025</th>    <th>0.975]</th>  \n",
       "</tr>\n",
       "<tr>\n",
       "  <th>const</th>  <td>   71.0364</td> <td>    0.983</td> <td>   72.246</td> <td> 0.000</td> <td>   69.057</td> <td>   73.016</td>\n",
       "</tr>\n",
       "<tr>\n",
       "  <th>Murder</th> <td>   -0.2831</td> <td>    0.037</td> <td>   -7.706</td> <td> 0.000</td> <td>   -0.357</td> <td>   -0.209</td>\n",
       "</tr>\n",
       "<tr>\n",
       "  <th>HSGrad</th> <td>    0.0499</td> <td>    0.015</td> <td>    3.286</td> <td> 0.002</td> <td>    0.019</td> <td>    0.081</td>\n",
       "</tr>\n",
       "<tr>\n",
       "  <th>Frost</th>  <td>   -0.0069</td> <td>    0.002</td> <td>   -2.824</td> <td> 0.007</td> <td>   -0.012</td> <td>   -0.002</td>\n",
       "</tr>\n",
       "</table><br/><br/>Notes:<br/>[1] Standard Errors assume that the covariance matrix of the errors is correctly specified.<br/>[2] The condition number is large, 1.19e+03. This might indicate that there are<br/>strong multicollinearity or other numerical problems."
      ],
      "text/latex": [
       "\\begin{center}\n",
       "\\begin{tabular}{lclc}\n",
       "\\toprule\n",
       "\\textbf{Dep. Variable:}    &    LifeExp    & \\textbf{  R-squared:         } &     0.713   \\\\\n",
       "\\textbf{Model:}            &      OLS      & \\textbf{  Adj. R-squared:    } &     0.694   \\\\\n",
       "\\textbf{No. Observations:} &         50    & \\textbf{  F-statistic:       } &     38.03   \\\\\n",
       "\\textbf{Covariance Type:}  &   nonrobust   & \\textbf{  Prob (F-statistic):} &  1.63e-12   \\\\\n",
       "\\bottomrule\n",
       "\\end{tabular}\n",
       "\\begin{tabular}{lcccccc}\n",
       "                & \\textbf{coef} & \\textbf{std err} & \\textbf{t} & \\textbf{P$> |$t$|$} & \\textbf{[0.025} & \\textbf{0.975]}  \\\\\n",
       "\\midrule\n",
       "\\textbf{const}  &      71.0364  &        0.983     &    72.246  &         0.000        &       69.057    &       73.016     \\\\\n",
       "\\textbf{Murder} &      -0.2831  &        0.037     &    -7.706  &         0.000        &       -0.357    &       -0.209     \\\\\n",
       "\\textbf{HSGrad} &       0.0499  &        0.015     &     3.286  &         0.002        &        0.019    &        0.081     \\\\\n",
       "\\textbf{Frost}  &      -0.0069  &        0.002     &    -2.824  &         0.007        &       -0.012    &       -0.002     \\\\\n",
       "\\bottomrule\n",
       "\\end{tabular}\n",
       "%\\caption{OLS Regression Results}\n",
       "\\end{center}\n",
       "\n",
       "Notes: \\newline\n",
       " [1] Standard Errors assume that the covariance matrix of the errors is correctly specified. \\newline\n",
       " [2] The condition number is large, 1.19e+03. This might indicate that there are \\newline\n",
       " strong multicollinearity or other numerical problems."
      ],
      "text/plain": [
       "<class 'statsmodels.iolib.summary.Summary'>\n",
       "\"\"\"\n",
       "                            OLS Regression Results                            \n",
       "==============================================================================\n",
       "Dep. Variable:                LifeExp   R-squared:                       0.713\n",
       "Model:                            OLS   Adj. R-squared:                  0.694\n",
       "No. Observations:                  50   F-statistic:                     38.03\n",
       "Covariance Type:            nonrobust   Prob (F-statistic):           1.63e-12\n",
       "==============================================================================\n",
       "                 coef    std err          t      P>|t|      [0.025      0.975]\n",
       "------------------------------------------------------------------------------\n",
       "const         71.0364      0.983     72.246      0.000      69.057      73.016\n",
       "Murder        -0.2831      0.037     -7.706      0.000      -0.357      -0.209\n",
       "HSGrad         0.0499      0.015      3.286      0.002       0.019       0.081\n",
       "Frost         -0.0069      0.002     -2.824      0.007      -0.012      -0.002\n",
       "==============================================================================\n",
       "\n",
       "Notes:\n",
       "[1] Standard Errors assume that the covariance matrix of the errors is correctly specified.\n",
       "[2] The condition number is large, 1.19e+03. This might indicate that there are\n",
       "strong multicollinearity or other numerical problems.\n",
       "\"\"\""
      ]
     },
     "metadata": {},
     "output_type": "display_data"
    }
   ],
   "source": [
    "# Backward selection\n",
    "seq_optima = SFS(LinearRegression(),\n",
    "                 forward = False,\n",
    "                 scoring = 'r2',\n",
    "                 k_features = 3).fit(Xm,y)\n",
    "col_choice = list(Xm.columns[list(seq_optima.k_feature_idx_)])\n",
    "Xc = sm.add_constant(Xm[col_choice])\n",
    "model_bw = sm.OLS(y,Xc).fit()\n",
    "display(model_bw.summary(slim = True))"
   ]
  },
  {
   "cell_type": "markdown",
   "metadata": {},
   "source": [
    "***\n",
    "## Shrinkage\n",
    "***"
   ]
  },
  {
   "cell_type": "code",
   "execution_count": 7,
   "metadata": {},
   "outputs": [
    {
     "data": {
      "text/html": [
       "<style>#sk-container-id-1 {\n",
       "  /* Definition of color scheme common for light and dark mode */\n",
       "  --sklearn-color-text: black;\n",
       "  --sklearn-color-line: gray;\n",
       "  /* Definition of color scheme for unfitted estimators */\n",
       "  --sklearn-color-unfitted-level-0: #fff5e6;\n",
       "  --sklearn-color-unfitted-level-1: #f6e4d2;\n",
       "  --sklearn-color-unfitted-level-2: #ffe0b3;\n",
       "  --sklearn-color-unfitted-level-3: chocolate;\n",
       "  /* Definition of color scheme for fitted estimators */\n",
       "  --sklearn-color-fitted-level-0: #f0f8ff;\n",
       "  --sklearn-color-fitted-level-1: #d4ebff;\n",
       "  --sklearn-color-fitted-level-2: #b3dbfd;\n",
       "  --sklearn-color-fitted-level-3: cornflowerblue;\n",
       "\n",
       "  /* Specific color for light theme */\n",
       "  --sklearn-color-text-on-default-background: var(--sg-text-color, var(--theme-code-foreground, var(--jp-content-font-color1, black)));\n",
       "  --sklearn-color-background: var(--sg-background-color, var(--theme-background, var(--jp-layout-color0, white)));\n",
       "  --sklearn-color-border-box: var(--sg-text-color, var(--theme-code-foreground, var(--jp-content-font-color1, black)));\n",
       "  --sklearn-color-icon: #696969;\n",
       "\n",
       "  @media (prefers-color-scheme: dark) {\n",
       "    /* Redefinition of color scheme for dark theme */\n",
       "    --sklearn-color-text-on-default-background: var(--sg-text-color, var(--theme-code-foreground, var(--jp-content-font-color1, white)));\n",
       "    --sklearn-color-background: var(--sg-background-color, var(--theme-background, var(--jp-layout-color0, #111)));\n",
       "    --sklearn-color-border-box: var(--sg-text-color, var(--theme-code-foreground, var(--jp-content-font-color1, white)));\n",
       "    --sklearn-color-icon: #878787;\n",
       "  }\n",
       "}\n",
       "\n",
       "#sk-container-id-1 {\n",
       "  color: var(--sklearn-color-text);\n",
       "}\n",
       "\n",
       "#sk-container-id-1 pre {\n",
       "  padding: 0;\n",
       "}\n",
       "\n",
       "#sk-container-id-1 input.sk-hidden--visually {\n",
       "  border: 0;\n",
       "  clip: rect(1px 1px 1px 1px);\n",
       "  clip: rect(1px, 1px, 1px, 1px);\n",
       "  height: 1px;\n",
       "  margin: -1px;\n",
       "  overflow: hidden;\n",
       "  padding: 0;\n",
       "  position: absolute;\n",
       "  width: 1px;\n",
       "}\n",
       "\n",
       "#sk-container-id-1 div.sk-dashed-wrapped {\n",
       "  border: 1px dashed var(--sklearn-color-line);\n",
       "  margin: 0 0.4em 0.5em 0.4em;\n",
       "  box-sizing: border-box;\n",
       "  padding-bottom: 0.4em;\n",
       "  background-color: var(--sklearn-color-background);\n",
       "}\n",
       "\n",
       "#sk-container-id-1 div.sk-container {\n",
       "  /* jupyter's `normalize.less` sets `[hidden] { display: none; }`\n",
       "     but bootstrap.min.css set `[hidden] { display: none !important; }`\n",
       "     so we also need the `!important` here to be able to override the\n",
       "     default hidden behavior on the sphinx rendered scikit-learn.org.\n",
       "     See: https://github.com/scikit-learn/scikit-learn/issues/21755 */\n",
       "  display: inline-block !important;\n",
       "  position: relative;\n",
       "}\n",
       "\n",
       "#sk-container-id-1 div.sk-text-repr-fallback {\n",
       "  display: none;\n",
       "}\n",
       "\n",
       "div.sk-parallel-item,\n",
       "div.sk-serial,\n",
       "div.sk-item {\n",
       "  /* draw centered vertical line to link estimators */\n",
       "  background-image: linear-gradient(var(--sklearn-color-text-on-default-background), var(--sklearn-color-text-on-default-background));\n",
       "  background-size: 2px 100%;\n",
       "  background-repeat: no-repeat;\n",
       "  background-position: center center;\n",
       "}\n",
       "\n",
       "/* Parallel-specific style estimator block */\n",
       "\n",
       "#sk-container-id-1 div.sk-parallel-item::after {\n",
       "  content: \"\";\n",
       "  width: 100%;\n",
       "  border-bottom: 2px solid var(--sklearn-color-text-on-default-background);\n",
       "  flex-grow: 1;\n",
       "}\n",
       "\n",
       "#sk-container-id-1 div.sk-parallel {\n",
       "  display: flex;\n",
       "  align-items: stretch;\n",
       "  justify-content: center;\n",
       "  background-color: var(--sklearn-color-background);\n",
       "  position: relative;\n",
       "}\n",
       "\n",
       "#sk-container-id-1 div.sk-parallel-item {\n",
       "  display: flex;\n",
       "  flex-direction: column;\n",
       "}\n",
       "\n",
       "#sk-container-id-1 div.sk-parallel-item:first-child::after {\n",
       "  align-self: flex-end;\n",
       "  width: 50%;\n",
       "}\n",
       "\n",
       "#sk-container-id-1 div.sk-parallel-item:last-child::after {\n",
       "  align-self: flex-start;\n",
       "  width: 50%;\n",
       "}\n",
       "\n",
       "#sk-container-id-1 div.sk-parallel-item:only-child::after {\n",
       "  width: 0;\n",
       "}\n",
       "\n",
       "/* Serial-specific style estimator block */\n",
       "\n",
       "#sk-container-id-1 div.sk-serial {\n",
       "  display: flex;\n",
       "  flex-direction: column;\n",
       "  align-items: center;\n",
       "  background-color: var(--sklearn-color-background);\n",
       "  padding-right: 1em;\n",
       "  padding-left: 1em;\n",
       "}\n",
       "\n",
       "\n",
       "/* Toggleable style: style used for estimator/Pipeline/ColumnTransformer box that is\n",
       "clickable and can be expanded/collapsed.\n",
       "- Pipeline and ColumnTransformer use this feature and define the default style\n",
       "- Estimators will overwrite some part of the style using the `sk-estimator` class\n",
       "*/\n",
       "\n",
       "/* Pipeline and ColumnTransformer style (default) */\n",
       "\n",
       "#sk-container-id-1 div.sk-toggleable {\n",
       "  /* Default theme specific background. It is overwritten whether we have a\n",
       "  specific estimator or a Pipeline/ColumnTransformer */\n",
       "  background-color: var(--sklearn-color-background);\n",
       "}\n",
       "\n",
       "/* Toggleable label */\n",
       "#sk-container-id-1 label.sk-toggleable__label {\n",
       "  cursor: pointer;\n",
       "  display: block;\n",
       "  width: 100%;\n",
       "  margin-bottom: 0;\n",
       "  padding: 0.5em;\n",
       "  box-sizing: border-box;\n",
       "  text-align: center;\n",
       "}\n",
       "\n",
       "#sk-container-id-1 label.sk-toggleable__label-arrow:before {\n",
       "  /* Arrow on the left of the label */\n",
       "  content: \"▸\";\n",
       "  float: left;\n",
       "  margin-right: 0.25em;\n",
       "  color: var(--sklearn-color-icon);\n",
       "}\n",
       "\n",
       "#sk-container-id-1 label.sk-toggleable__label-arrow:hover:before {\n",
       "  color: var(--sklearn-color-text);\n",
       "}\n",
       "\n",
       "/* Toggleable content - dropdown */\n",
       "\n",
       "#sk-container-id-1 div.sk-toggleable__content {\n",
       "  max-height: 0;\n",
       "  max-width: 0;\n",
       "  overflow: hidden;\n",
       "  text-align: left;\n",
       "  /* unfitted */\n",
       "  background-color: var(--sklearn-color-unfitted-level-0);\n",
       "}\n",
       "\n",
       "#sk-container-id-1 div.sk-toggleable__content.fitted {\n",
       "  /* fitted */\n",
       "  background-color: var(--sklearn-color-fitted-level-0);\n",
       "}\n",
       "\n",
       "#sk-container-id-1 div.sk-toggleable__content pre {\n",
       "  margin: 0.2em;\n",
       "  border-radius: 0.25em;\n",
       "  color: var(--sklearn-color-text);\n",
       "  /* unfitted */\n",
       "  background-color: var(--sklearn-color-unfitted-level-0);\n",
       "}\n",
       "\n",
       "#sk-container-id-1 div.sk-toggleable__content.fitted pre {\n",
       "  /* unfitted */\n",
       "  background-color: var(--sklearn-color-fitted-level-0);\n",
       "}\n",
       "\n",
       "#sk-container-id-1 input.sk-toggleable__control:checked~div.sk-toggleable__content {\n",
       "  /* Expand drop-down */\n",
       "  max-height: 200px;\n",
       "  max-width: 100%;\n",
       "  overflow: auto;\n",
       "}\n",
       "\n",
       "#sk-container-id-1 input.sk-toggleable__control:checked~label.sk-toggleable__label-arrow:before {\n",
       "  content: \"▾\";\n",
       "}\n",
       "\n",
       "/* Pipeline/ColumnTransformer-specific style */\n",
       "\n",
       "#sk-container-id-1 div.sk-label input.sk-toggleable__control:checked~label.sk-toggleable__label {\n",
       "  color: var(--sklearn-color-text);\n",
       "  background-color: var(--sklearn-color-unfitted-level-2);\n",
       "}\n",
       "\n",
       "#sk-container-id-1 div.sk-label.fitted input.sk-toggleable__control:checked~label.sk-toggleable__label {\n",
       "  background-color: var(--sklearn-color-fitted-level-2);\n",
       "}\n",
       "\n",
       "/* Estimator-specific style */\n",
       "\n",
       "/* Colorize estimator box */\n",
       "#sk-container-id-1 div.sk-estimator input.sk-toggleable__control:checked~label.sk-toggleable__label {\n",
       "  /* unfitted */\n",
       "  background-color: var(--sklearn-color-unfitted-level-2);\n",
       "}\n",
       "\n",
       "#sk-container-id-1 div.sk-estimator.fitted input.sk-toggleable__control:checked~label.sk-toggleable__label {\n",
       "  /* fitted */\n",
       "  background-color: var(--sklearn-color-fitted-level-2);\n",
       "}\n",
       "\n",
       "#sk-container-id-1 div.sk-label label.sk-toggleable__label,\n",
       "#sk-container-id-1 div.sk-label label {\n",
       "  /* The background is the default theme color */\n",
       "  color: var(--sklearn-color-text-on-default-background);\n",
       "}\n",
       "\n",
       "/* On hover, darken the color of the background */\n",
       "#sk-container-id-1 div.sk-label:hover label.sk-toggleable__label {\n",
       "  color: var(--sklearn-color-text);\n",
       "  background-color: var(--sklearn-color-unfitted-level-2);\n",
       "}\n",
       "\n",
       "/* Label box, darken color on hover, fitted */\n",
       "#sk-container-id-1 div.sk-label.fitted:hover label.sk-toggleable__label.fitted {\n",
       "  color: var(--sklearn-color-text);\n",
       "  background-color: var(--sklearn-color-fitted-level-2);\n",
       "}\n",
       "\n",
       "/* Estimator label */\n",
       "\n",
       "#sk-container-id-1 div.sk-label label {\n",
       "  font-family: monospace;\n",
       "  font-weight: bold;\n",
       "  display: inline-block;\n",
       "  line-height: 1.2em;\n",
       "}\n",
       "\n",
       "#sk-container-id-1 div.sk-label-container {\n",
       "  text-align: center;\n",
       "}\n",
       "\n",
       "/* Estimator-specific */\n",
       "#sk-container-id-1 div.sk-estimator {\n",
       "  font-family: monospace;\n",
       "  border: 1px dotted var(--sklearn-color-border-box);\n",
       "  border-radius: 0.25em;\n",
       "  box-sizing: border-box;\n",
       "  margin-bottom: 0.5em;\n",
       "  /* unfitted */\n",
       "  background-color: var(--sklearn-color-unfitted-level-0);\n",
       "}\n",
       "\n",
       "#sk-container-id-1 div.sk-estimator.fitted {\n",
       "  /* fitted */\n",
       "  background-color: var(--sklearn-color-fitted-level-0);\n",
       "}\n",
       "\n",
       "/* on hover */\n",
       "#sk-container-id-1 div.sk-estimator:hover {\n",
       "  /* unfitted */\n",
       "  background-color: var(--sklearn-color-unfitted-level-2);\n",
       "}\n",
       "\n",
       "#sk-container-id-1 div.sk-estimator.fitted:hover {\n",
       "  /* fitted */\n",
       "  background-color: var(--sklearn-color-fitted-level-2);\n",
       "}\n",
       "\n",
       "/* Specification for estimator info (e.g. \"i\" and \"?\") */\n",
       "\n",
       "/* Common style for \"i\" and \"?\" */\n",
       "\n",
       ".sk-estimator-doc-link,\n",
       "a:link.sk-estimator-doc-link,\n",
       "a:visited.sk-estimator-doc-link {\n",
       "  float: right;\n",
       "  font-size: smaller;\n",
       "  line-height: 1em;\n",
       "  font-family: monospace;\n",
       "  background-color: var(--sklearn-color-background);\n",
       "  border-radius: 1em;\n",
       "  height: 1em;\n",
       "  width: 1em;\n",
       "  text-decoration: none !important;\n",
       "  margin-left: 1ex;\n",
       "  /* unfitted */\n",
       "  border: var(--sklearn-color-unfitted-level-1) 1pt solid;\n",
       "  color: var(--sklearn-color-unfitted-level-1);\n",
       "}\n",
       "\n",
       ".sk-estimator-doc-link.fitted,\n",
       "a:link.sk-estimator-doc-link.fitted,\n",
       "a:visited.sk-estimator-doc-link.fitted {\n",
       "  /* fitted */\n",
       "  border: var(--sklearn-color-fitted-level-1) 1pt solid;\n",
       "  color: var(--sklearn-color-fitted-level-1);\n",
       "}\n",
       "\n",
       "/* On hover */\n",
       "div.sk-estimator:hover .sk-estimator-doc-link:hover,\n",
       ".sk-estimator-doc-link:hover,\n",
       "div.sk-label-container:hover .sk-estimator-doc-link:hover,\n",
       ".sk-estimator-doc-link:hover {\n",
       "  /* unfitted */\n",
       "  background-color: var(--sklearn-color-unfitted-level-3);\n",
       "  color: var(--sklearn-color-background);\n",
       "  text-decoration: none;\n",
       "}\n",
       "\n",
       "div.sk-estimator.fitted:hover .sk-estimator-doc-link.fitted:hover,\n",
       ".sk-estimator-doc-link.fitted:hover,\n",
       "div.sk-label-container:hover .sk-estimator-doc-link.fitted:hover,\n",
       ".sk-estimator-doc-link.fitted:hover {\n",
       "  /* fitted */\n",
       "  background-color: var(--sklearn-color-fitted-level-3);\n",
       "  color: var(--sklearn-color-background);\n",
       "  text-decoration: none;\n",
       "}\n",
       "\n",
       "/* Span, style for the box shown on hovering the info icon */\n",
       ".sk-estimator-doc-link span {\n",
       "  display: none;\n",
       "  z-index: 9999;\n",
       "  position: relative;\n",
       "  font-weight: normal;\n",
       "  right: .2ex;\n",
       "  padding: .5ex;\n",
       "  margin: .5ex;\n",
       "  width: min-content;\n",
       "  min-width: 20ex;\n",
       "  max-width: 50ex;\n",
       "  color: var(--sklearn-color-text);\n",
       "  box-shadow: 2pt 2pt 4pt #999;\n",
       "  /* unfitted */\n",
       "  background: var(--sklearn-color-unfitted-level-0);\n",
       "  border: .5pt solid var(--sklearn-color-unfitted-level-3);\n",
       "}\n",
       "\n",
       ".sk-estimator-doc-link.fitted span {\n",
       "  /* fitted */\n",
       "  background: var(--sklearn-color-fitted-level-0);\n",
       "  border: var(--sklearn-color-fitted-level-3);\n",
       "}\n",
       "\n",
       ".sk-estimator-doc-link:hover span {\n",
       "  display: block;\n",
       "}\n",
       "\n",
       "/* \"?\"-specific style due to the `<a>` HTML tag */\n",
       "\n",
       "#sk-container-id-1 a.estimator_doc_link {\n",
       "  float: right;\n",
       "  font-size: 1rem;\n",
       "  line-height: 1em;\n",
       "  font-family: monospace;\n",
       "  background-color: var(--sklearn-color-background);\n",
       "  border-radius: 1rem;\n",
       "  height: 1rem;\n",
       "  width: 1rem;\n",
       "  text-decoration: none;\n",
       "  /* unfitted */\n",
       "  color: var(--sklearn-color-unfitted-level-1);\n",
       "  border: var(--sklearn-color-unfitted-level-1) 1pt solid;\n",
       "}\n",
       "\n",
       "#sk-container-id-1 a.estimator_doc_link.fitted {\n",
       "  /* fitted */\n",
       "  border: var(--sklearn-color-fitted-level-1) 1pt solid;\n",
       "  color: var(--sklearn-color-fitted-level-1);\n",
       "}\n",
       "\n",
       "/* On hover */\n",
       "#sk-container-id-1 a.estimator_doc_link:hover {\n",
       "  /* unfitted */\n",
       "  background-color: var(--sklearn-color-unfitted-level-3);\n",
       "  color: var(--sklearn-color-background);\n",
       "  text-decoration: none;\n",
       "}\n",
       "\n",
       "#sk-container-id-1 a.estimator_doc_link.fitted:hover {\n",
       "  /* fitted */\n",
       "  background-color: var(--sklearn-color-fitted-level-3);\n",
       "}\n",
       "</style><div id=\"sk-container-id-1\" class=\"sk-top-container\"><div class=\"sk-text-repr-fallback\"><pre>GridSearchCV(cv=10, estimator=Lasso(),\n",
       "             param_grid={&#x27;alpha&#x27;: array([0.        , 0.        , 0.        , 0.        , 0.        ,\n",
       "       0.        , 0.        , 0.        , 0.        , 0.        ,\n",
       "       0.        , 0.        , 0.        , 0.        , 0.        ,\n",
       "       0.        , 0.        , 0.00000001, 0.00000001, 0.00000001,\n",
       "       0.00000001, 0.00000001, 0.00000002, 0.00000002, 0.00000003,\n",
       "       0.00000004, 0.00000004, 0.00000006, 0.00000007, 0.00000009,\n",
       "       0.00000012, 0.00000015, 0.00000018, 0.00000023, 0.00000029,\n",
       "       0.00000037, 0.00000047, 0.0000006 , 0.00000075, 0.00000095,\n",
       "       0.00000121, 0.00000153, 0.00000193, 0.00000244, 0.00000309,\n",
       "       0.00000391, 0.00000494, 0.00000625, 0.00000791, 0.00001   ])},\n",
       "             scoring=&#x27;r2&#x27;)</pre><b>In a Jupyter environment, please rerun this cell to show the HTML representation or trust the notebook. <br />On GitHub, the HTML representation is unable to render, please try loading this page with nbviewer.org.</b></div><div class=\"sk-container\" hidden><div class=\"sk-item sk-dashed-wrapped\"><div class=\"sk-label-container\"><div class=\"sk-label fitted sk-toggleable\"><input class=\"sk-toggleable__control sk-hidden--visually\" id=\"sk-estimator-id-1\" type=\"checkbox\" ><label for=\"sk-estimator-id-1\" class=\"sk-toggleable__label fitted sk-toggleable__label-arrow fitted\">&nbsp;&nbsp;GridSearchCV<a class=\"sk-estimator-doc-link fitted\" rel=\"noreferrer\" target=\"_blank\" href=\"https://scikit-learn.org/1.5/modules/generated/sklearn.model_selection.GridSearchCV.html\">?<span>Documentation for GridSearchCV</span></a><span class=\"sk-estimator-doc-link fitted\">i<span>Fitted</span></span></label><div class=\"sk-toggleable__content fitted\"><pre>GridSearchCV(cv=10, estimator=Lasso(),\n",
       "             param_grid={&#x27;alpha&#x27;: array([0.        , 0.        , 0.        , 0.        , 0.        ,\n",
       "       0.        , 0.        , 0.        , 0.        , 0.        ,\n",
       "       0.        , 0.        , 0.        , 0.        , 0.        ,\n",
       "       0.        , 0.        , 0.00000001, 0.00000001, 0.00000001,\n",
       "       0.00000001, 0.00000001, 0.00000002, 0.00000002, 0.00000003,\n",
       "       0.00000004, 0.00000004, 0.00000006, 0.00000007, 0.00000009,\n",
       "       0.00000012, 0.00000015, 0.00000018, 0.00000023, 0.00000029,\n",
       "       0.00000037, 0.00000047, 0.0000006 , 0.00000075, 0.00000095,\n",
       "       0.00000121, 0.00000153, 0.00000193, 0.00000244, 0.00000309,\n",
       "       0.00000391, 0.00000494, 0.00000625, 0.00000791, 0.00001   ])},\n",
       "             scoring=&#x27;r2&#x27;)</pre></div> </div></div><div class=\"sk-parallel\"><div class=\"sk-parallel-item\"><div class=\"sk-item\"><div class=\"sk-label-container\"><div class=\"sk-label fitted sk-toggleable\"><input class=\"sk-toggleable__control sk-hidden--visually\" id=\"sk-estimator-id-2\" type=\"checkbox\" ><label for=\"sk-estimator-id-2\" class=\"sk-toggleable__label fitted sk-toggleable__label-arrow fitted\">best_estimator_: Lasso</label><div class=\"sk-toggleable__content fitted\"><pre>Lasso(alpha=np.float64(1e-05))</pre></div> </div></div><div class=\"sk-serial\"><div class=\"sk-item\"><div class=\"sk-estimator fitted sk-toggleable\"><input class=\"sk-toggleable__control sk-hidden--visually\" id=\"sk-estimator-id-3\" type=\"checkbox\" ><label for=\"sk-estimator-id-3\" class=\"sk-toggleable__label fitted sk-toggleable__label-arrow fitted\">&nbsp;Lasso<a class=\"sk-estimator-doc-link fitted\" rel=\"noreferrer\" target=\"_blank\" href=\"https://scikit-learn.org/1.5/modules/generated/sklearn.linear_model.Lasso.html\">?<span>Documentation for Lasso</span></a></label><div class=\"sk-toggleable__content fitted\"><pre>Lasso(alpha=np.float64(1e-05))</pre></div> </div></div></div></div></div></div></div></div></div>"
      ],
      "text/plain": [
       "GridSearchCV(cv=10, estimator=Lasso(),\n",
       "             param_grid={'alpha': array([0.        , 0.        , 0.        , 0.        , 0.        ,\n",
       "       0.        , 0.        , 0.        , 0.        , 0.        ,\n",
       "       0.        , 0.        , 0.        , 0.        , 0.        ,\n",
       "       0.        , 0.        , 0.00000001, 0.00000001, 0.00000001,\n",
       "       0.00000001, 0.00000001, 0.00000002, 0.00000002, 0.00000003,\n",
       "       0.00000004, 0.00000004, 0.00000006, 0.00000007, 0.00000009,\n",
       "       0.00000012, 0.00000015, 0.00000018, 0.00000023, 0.00000029,\n",
       "       0.00000037, 0.00000047, 0.0000006 , 0.00000075, 0.00000095,\n",
       "       0.00000121, 0.00000153, 0.00000193, 0.00000244, 0.00000309,\n",
       "       0.00000391, 0.00000494, 0.00000625, 0.00000791, 0.00001   ])},\n",
       "             scoring='r2')"
      ]
     },
     "execution_count": 7,
     "metadata": {},
     "output_type": "execute_result"
    }
   ],
   "source": [
    "params = {'alpha':np.logspace(-10,-5,50)}\n",
    "rr = GridSearchCV(Lasso(),params,scoring = 'r2',cv = 10)\n",
    "rr.fit(Xm,y)"
   ]
  },
  {
   "cell_type": "code",
   "execution_count": 8,
   "metadata": {},
   "outputs": [
    {
     "data": {
      "text/plain": [
       "np.float64(1e-05)"
      ]
     },
     "execution_count": 8,
     "metadata": {},
     "output_type": "execute_result"
    }
   ],
   "source": [
    "opt_alpha = rr.best_params_['alpha']\n",
    "opt_alpha"
   ]
  },
  {
   "cell_type": "code",
   "execution_count": 12,
   "metadata": {},
   "outputs": [
    {
     "data": {
      "text/html": [
       "<div>\n",
       "<style scoped>\n",
       "    .dataframe tbody tr th:only-of-type {\n",
       "        vertical-align: middle;\n",
       "    }\n",
       "\n",
       "    .dataframe tbody tr th {\n",
       "        vertical-align: top;\n",
       "    }\n",
       "\n",
       "    .dataframe thead th {\n",
       "        text-align: right;\n",
       "    }\n",
       "</style>\n",
       "<table border=\"1\" class=\"dataframe\">\n",
       "  <thead>\n",
       "    <tr style=\"text-align: right;\">\n",
       "      <th></th>\n",
       "      <th>0</th>\n",
       "      <th>1</th>\n",
       "    </tr>\n",
       "  </thead>\n",
       "  <tbody>\n",
       "    <tr>\n",
       "      <th>0</th>\n",
       "      <td>const</td>\n",
       "      <td>71.377681</td>\n",
       "    </tr>\n",
       "    <tr>\n",
       "      <th>1</th>\n",
       "      <td>Population</td>\n",
       "      <td>0.000048</td>\n",
       "    </tr>\n",
       "    <tr>\n",
       "      <th>2</th>\n",
       "      <td>Income</td>\n",
       "      <td>-0.000019</td>\n",
       "    </tr>\n",
       "    <tr>\n",
       "      <th>3</th>\n",
       "      <td>Illiteracy</td>\n",
       "      <td>-0.098587</td>\n",
       "    </tr>\n",
       "    <tr>\n",
       "      <th>4</th>\n",
       "      <td>Murder</td>\n",
       "      <td>-0.296775</td>\n",
       "    </tr>\n",
       "    <tr>\n",
       "      <th>5</th>\n",
       "      <td>HSGrad</td>\n",
       "      <td>0.04472</td>\n",
       "    </tr>\n",
       "    <tr>\n",
       "      <th>6</th>\n",
       "      <td>Frost</td>\n",
       "      <td>-0.006621</td>\n",
       "    </tr>\n",
       "    <tr>\n",
       "      <th>7</th>\n",
       "      <td>Area</td>\n",
       "      <td>0.0</td>\n",
       "    </tr>\n",
       "  </tbody>\n",
       "</table>\n",
       "</div>"
      ],
      "text/plain": [
       "            0          1\n",
       "0       const  71.377681\n",
       "1  Population   0.000048\n",
       "2      Income  -0.000019\n",
       "3  Illiteracy  -0.098587\n",
       "4      Murder  -0.296775\n",
       "5      HSGrad    0.04472\n",
       "6       Frost  -0.006621\n",
       "7        Area        0.0"
      ]
     },
     "execution_count": 12,
     "metadata": {},
     "output_type": "execute_result"
    }
   ],
   "source": [
    "model_lasso = Lasso(alpha = opt_alpha,fit_intercept = False).fit(Xm,y)\n",
    "pd.DataFrame([model_lasso.feature_names_in_,model_lasso.coef_]).T"
   ]
  },
  {
   "cell_type": "code",
   "execution_count": null,
   "metadata": {},
   "outputs": [],
   "source": []
  }
 ],
 "metadata": {
  "kernelspec": {
   "display_name": "Python 3",
   "language": "python",
   "name": "python3"
  },
  "language_info": {
   "codemirror_mode": {
    "name": "ipython",
    "version": 3
   },
   "file_extension": ".py",
   "mimetype": "text/x-python",
   "name": "python",
   "nbconvert_exporter": "python",
   "pygments_lexer": "ipython3",
   "version": "3.12.0"
  }
 },
 "nbformat": 4,
 "nbformat_minor": 2
}
