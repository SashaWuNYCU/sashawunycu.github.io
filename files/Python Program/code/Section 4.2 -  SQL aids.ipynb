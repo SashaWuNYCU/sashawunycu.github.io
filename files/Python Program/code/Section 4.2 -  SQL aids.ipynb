{
 "cells": [
  {
   "cell_type": "markdown",
   "metadata": {},
   "source": [
    "***\n",
    "## Load package and define connection\n",
    "***"
   ]
  },
  {
   "cell_type": "code",
   "execution_count": 1,
   "metadata": {},
   "outputs": [],
   "source": [
    "import pyodbc\n",
    "# Define the connection str\n",
    "connstr = 'DRIVER=SQL Server;SERVER={};DATABASE={};Trusted_Connection=yes'\n",
    "uid_login = [r'LAPTOP-K9RBHJ19\\SQLEXPRESS','NTPU_CLASS']\n",
    "connstr = connstr.format(*uid_login)\n",
    "# create connection\n",
    "conn = pyodbc.connect(connstr)\n",
    "conn.autocommit = True\n",
    "cursor = conn.cursor()"
   ]
  },
  {
   "cell_type": "markdown",
   "metadata": {},
   "source": [
    "***\n",
    "## Find all already exist DB\n",
    "***"
   ]
  },
  {
   "cell_type": "code",
   "execution_count": 2,
   "metadata": {},
   "outputs": [
    {
     "name": "stdout",
     "output_type": "stream",
     "text": [
      "[('master',), ('tempdb',), ('model',), ('msdb',), ('NTPU_CLASS',)]\n"
     ]
    }
   ],
   "source": [
    "sqlstr = 'select name from master.sys.databases'\n",
    "cursor.execute(sqlstr)\n",
    "res = cursor.fetchall()\n",
    "print(res)"
   ]
  },
  {
   "cell_type": "markdown",
   "metadata": {},
   "source": [
    "***\n",
    "## Delete a DB (Not in Use)\n",
    "***"
   ]
  },
  {
   "cell_type": "code",
   "execution_count": 14,
   "metadata": {},
   "outputs": [
    {
     "data": {
      "text/plain": [
       "<pyodbc.Cursor at 0x17fed444d30>"
      ]
     },
     "execution_count": 14,
     "metadata": {},
     "output_type": "execute_result"
    }
   ],
   "source": [
    "sqlstr = '''use master\n",
    "            drop database NTPU_CLASS'''\n",
    "cursor.execute(sqlstr)"
   ]
  },
  {
   "cell_type": "markdown",
   "metadata": {},
   "source": [
    "***\n",
    "## Create a DB\n",
    "***"
   ]
  },
  {
   "cell_type": "code",
   "execution_count": 15,
   "metadata": {},
   "outputs": [
    {
     "data": {
      "text/plain": [
       "<pyodbc.Cursor at 0x17fed444d30>"
      ]
     },
     "execution_count": 15,
     "metadata": {},
     "output_type": "execute_result"
    }
   ],
   "source": [
    "sqlstr = 'create database NTPU_CLASS'\n",
    "cursor.execute(sqlstr)"
   ]
  },
  {
   "cell_type": "markdown",
   "metadata": {},
   "source": [
    "***\n",
    "## Find existance of a table\n",
    "***"
   ]
  },
  {
   "cell_type": "code",
   "execution_count": 18,
   "metadata": {},
   "outputs": [
    {
     "name": "stdout",
     "output_type": "stream",
     "text": [
      "[('Member_Info',)]\n"
     ]
    }
   ],
   "source": [
    "sqlstr = 'select name from NTPU_CLASS.sys.tables'\n",
    "cursor.execute(sqlstr)\n",
    "res = cursor.fetchall()\n",
    "print(res)"
   ]
  },
  {
   "cell_type": "markdown",
   "metadata": {},
   "source": [
    "***\n",
    "## Create a table\n",
    "***"
   ]
  },
  {
   "cell_type": "code",
   "execution_count": 17,
   "metadata": {},
   "outputs": [
    {
     "data": {
      "text/plain": [
       "<pyodbc.Cursor at 0x17fed444d30>"
      ]
     },
     "execution_count": 17,
     "metadata": {},
     "output_type": "execute_result"
    }
   ],
   "source": [
    "sqlstr = '''\n",
    "create table [NTPU_CLASS].[dbo].[Member_Info] (\n",
    "\tMemberId char(6),\n",
    "    RecordDate date,\n",
    "    GameMode int,\n",
    "    GameSession int,\n",
    "    [Buy-in] int,\n",
    "    OriginScore int,\n",
    "    Discount int,\n",
    "    FinalScore int,\n",
    "    Mdate datetime,\n",
    "    primary key (MemberId,RecordDate,GameMode,GameSession,\n",
    "                 [Buy-in],OriginScore,Discount,FinalScore)\n",
    ")\n",
    "'''\n",
    "cursor.execute(sqlstr)"
   ]
  },
  {
   "cell_type": "markdown",
   "metadata": {},
   "source": [
    "***\n",
    "## Insert data to table\n",
    "***"
   ]
  },
  {
   "cell_type": "code",
   "execution_count": 1,
   "metadata": {},
   "outputs": [
    {
     "data": {
      "text/html": [
       "<div>\n",
       "<style scoped>\n",
       "    .dataframe tbody tr th:only-of-type {\n",
       "        vertical-align: middle;\n",
       "    }\n",
       "\n",
       "    .dataframe tbody tr th {\n",
       "        vertical-align: top;\n",
       "    }\n",
       "\n",
       "    .dataframe thead th {\n",
       "        text-align: right;\n",
       "    }\n",
       "</style>\n",
       "<table border=\"1\" class=\"dataframe\">\n",
       "  <thead>\n",
       "    <tr style=\"text-align: right;\">\n",
       "      <th></th>\n",
       "      <th>date</th>\n",
       "      <th>time</th>\n",
       "      <th>ge</th>\n",
       "      <th>ibm</th>\n",
       "      <th>ford</th>\n",
       "      <th>msft</th>\n",
       "      <th>dis</th>\n",
       "      <th>xom</th>\n",
       "      <th>mkt</th>\n",
       "      <th>riskfree</th>\n",
       "    </tr>\n",
       "  </thead>\n",
       "  <tbody>\n",
       "    <tr>\n",
       "      <th>0</th>\n",
       "      <td>30JAN1998</td>\n",
       "      <td>1</td>\n",
       "      <td>0.056218</td>\n",
       "      <td>-0.056153</td>\n",
       "      <td>0.058842</td>\n",
       "      <td>0.154255</td>\n",
       "      <td>0.080884</td>\n",
       "      <td>-0.030644</td>\n",
       "      <td>0.004502</td>\n",
       "      <td>0.004480</td>\n",
       "    </tr>\n",
       "    <tr>\n",
       "      <th>1</th>\n",
       "      <td>27FEB1998</td>\n",
       "      <td>2</td>\n",
       "      <td>0.003226</td>\n",
       "      <td>0.059620</td>\n",
       "      <td>0.109069</td>\n",
       "      <td>0.136154</td>\n",
       "      <td>0.047368</td>\n",
       "      <td>0.081728</td>\n",
       "      <td>0.073303</td>\n",
       "      <td>0.004480</td>\n",
       "    </tr>\n",
       "    <tr>\n",
       "      <th>2</th>\n",
       "      <td>31MAR1998</td>\n",
       "      <td>3</td>\n",
       "      <td>0.112379</td>\n",
       "      <td>-0.005386</td>\n",
       "      <td>0.145856</td>\n",
       "      <td>0.056047</td>\n",
       "      <td>-0.046343</td>\n",
       "      <td>0.060784</td>\n",
       "      <td>0.051301</td>\n",
       "      <td>0.004519</td>\n",
       "    </tr>\n",
       "    <tr>\n",
       "      <th>3</th>\n",
       "      <td>30APR1998</td>\n",
       "      <td>4</td>\n",
       "      <td>-0.011603</td>\n",
       "      <td>0.115523</td>\n",
       "      <td>0.086181</td>\n",
       "      <td>0.006983</td>\n",
       "      <td>0.168337</td>\n",
       "      <td>0.080407</td>\n",
       "      <td>0.010903</td>\n",
       "      <td>0.004503</td>\n",
       "    </tr>\n",
       "    <tr>\n",
       "      <th>4</th>\n",
       "      <td>29MAY1998</td>\n",
       "      <td>5</td>\n",
       "      <td>-0.021277</td>\n",
       "      <td>0.015922</td>\n",
       "      <td>0.132333</td>\n",
       "      <td>-0.058946</td>\n",
       "      <td>-0.090818</td>\n",
       "      <td>-0.029461</td>\n",
       "      <td>-0.025748</td>\n",
       "      <td>0.004488</td>\n",
       "    </tr>\n",
       "  </tbody>\n",
       "</table>\n",
       "</div>"
      ],
      "text/plain": [
       "        date  time        ge       ibm      ford      msft       dis  \\\n",
       "0  30JAN1998     1  0.056218 -0.056153  0.058842  0.154255  0.080884   \n",
       "1  27FEB1998     2  0.003226  0.059620  0.109069  0.136154  0.047368   \n",
       "2  31MAR1998     3  0.112379 -0.005386  0.145856  0.056047 -0.046343   \n",
       "3  30APR1998     4 -0.011603  0.115523  0.086181  0.006983  0.168337   \n",
       "4  29MAY1998     5 -0.021277  0.015922  0.132333 -0.058946 -0.090818   \n",
       "\n",
       "        xom       mkt  riskfree  \n",
       "0 -0.030644  0.004502  0.004480  \n",
       "1  0.081728  0.073303  0.004480  \n",
       "2  0.060784  0.051301  0.004519  \n",
       "3  0.080407  0.010903  0.004503  \n",
       "4 -0.029461 -0.025748  0.004488  "
      ]
     },
     "execution_count": 1,
     "metadata": {},
     "output_type": "execute_result"
    }
   ],
   "source": [
    "import pandas as pd\n",
    "import os\n",
    "path = r'C:\\Users\\User\\Desktop\\北大統計-授課資料\\113-2 日間部-Python程式設計\\ReadList\\capm5.csv'\n",
    "df_sql = pd.read_csv(path)\n",
    "df_sql.head()"
   ]
  },
  {
   "cell_type": "code",
   "execution_count": 6,
   "metadata": {},
   "outputs": [
    {
     "name": "stderr",
     "output_type": "stream",
     "text": [
      "C:\\Users\\User\\AppData\\Local\\Temp\\ipykernel_12396\\3578787445.py:1: UserWarning: Could not infer format, so each element will be parsed individually, falling back to `dateutil`. To ensure parsing is consistent and as-expected, please specify a format.\n",
      "  pd.to_datetime(df_sql['date'])\n"
     ]
    },
    {
     "data": {
      "text/plain": [
       "0     1998-01-30\n",
       "1     1998-02-27\n",
       "2     1998-03-31\n",
       "3     1998-04-30\n",
       "4     1998-05-29\n",
       "         ...    \n",
       "175   2012-08-31\n",
       "176   2012-09-28\n",
       "177   2012-10-31\n",
       "178   2012-11-30\n",
       "179   2012-12-31\n",
       "Name: date, Length: 180, dtype: datetime64[ns]"
      ]
     },
     "execution_count": 6,
     "metadata": {},
     "output_type": "execute_result"
    }
   ],
   "source": [
    "pd.to_datetime(df_sql['date'])"
   ]
  },
  {
   "cell_type": "code",
   "execution_count": 20,
   "metadata": {},
   "outputs": [],
   "source": [
    "header = 'Insert into [NTPU_CLASS].[dbo].[Member_Info] values ('\n",
    "for _,row in df_sql.iterrows():\n",
    "    sqlstr = header + str(list(row))[1:-1] + ')'\n",
    "    cursor.execute(sqlstr)"
   ]
  },
  {
   "cell_type": "markdown",
   "metadata": {},
   "source": [
    "***\n",
    "## Read from SQL\n",
    "***"
   ]
  },
  {
   "cell_type": "code",
   "execution_count": 21,
   "metadata": {},
   "outputs": [
    {
     "name": "stderr",
     "output_type": "stream",
     "text": [
      "C:\\Users\\User\\AppData\\Local\\Temp\\ipykernel_10504\\511252433.py:3: UserWarning: pandas only supports SQLAlchemy connectable (engine/connection) or database string URI or sqlite3 DBAPI2 connection. Other DBAPI2 objects are not tested. Please consider using SQLAlchemy.\n",
      "  df = pd.read_sql(sqlstr,conn)\n"
     ]
    },
    {
     "data": {
      "text/html": [
       "<div>\n",
       "<style scoped>\n",
       "    .dataframe tbody tr th:only-of-type {\n",
       "        vertical-align: middle;\n",
       "    }\n",
       "\n",
       "    .dataframe tbody tr th {\n",
       "        vertical-align: top;\n",
       "    }\n",
       "\n",
       "    .dataframe thead th {\n",
       "        text-align: right;\n",
       "    }\n",
       "</style>\n",
       "<table border=\"1\" class=\"dataframe\">\n",
       "  <thead>\n",
       "    <tr style=\"text-align: right;\">\n",
       "      <th></th>\n",
       "      <th>MemberId</th>\n",
       "      <th>RecordDate</th>\n",
       "      <th>GameMode</th>\n",
       "      <th>GameSession</th>\n",
       "      <th>Buy-in</th>\n",
       "      <th>OriginScore</th>\n",
       "      <th>Discount</th>\n",
       "      <th>FinalScore</th>\n",
       "      <th>Mdate</th>\n",
       "    </tr>\n",
       "  </thead>\n",
       "  <tbody>\n",
       "    <tr>\n",
       "      <th>0</th>\n",
       "      <td>112434</td>\n",
       "      <td>2025-03-07</td>\n",
       "      <td>3400</td>\n",
       "      <td>2</td>\n",
       "      <td>1</td>\n",
       "      <td>4</td>\n",
       "      <td>0</td>\n",
       "      <td>4</td>\n",
       "      <td>2025-03-07 23:58:23</td>\n",
       "    </tr>\n",
       "    <tr>\n",
       "      <th>1</th>\n",
       "      <td>133992</td>\n",
       "      <td>2025-03-07</td>\n",
       "      <td>1200</td>\n",
       "      <td>1</td>\n",
       "      <td>2</td>\n",
       "      <td>4</td>\n",
       "      <td>0</td>\n",
       "      <td>4</td>\n",
       "      <td>2025-03-07 23:54:44</td>\n",
       "    </tr>\n",
       "    <tr>\n",
       "      <th>2</th>\n",
       "      <td>133992</td>\n",
       "      <td>2025-03-07</td>\n",
       "      <td>3400</td>\n",
       "      <td>2</td>\n",
       "      <td>1</td>\n",
       "      <td>4</td>\n",
       "      <td>-1</td>\n",
       "      <td>3</td>\n",
       "      <td>2025-03-07 23:58:23</td>\n",
       "    </tr>\n",
       "    <tr>\n",
       "      <th>3</th>\n",
       "      <td>331834</td>\n",
       "      <td>2025-03-07</td>\n",
       "      <td>1200</td>\n",
       "      <td>1</td>\n",
       "      <td>2</td>\n",
       "      <td>4</td>\n",
       "      <td>0</td>\n",
       "      <td>4</td>\n",
       "      <td>2025-03-07 23:54:44</td>\n",
       "    </tr>\n",
       "    <tr>\n",
       "      <th>4</th>\n",
       "      <td>331837</td>\n",
       "      <td>2025-03-07</td>\n",
       "      <td>3400</td>\n",
       "      <td>2</td>\n",
       "      <td>1</td>\n",
       "      <td>4</td>\n",
       "      <td>0</td>\n",
       "      <td>4</td>\n",
       "      <td>2025-03-07 23:58:23</td>\n",
       "    </tr>\n",
       "  </tbody>\n",
       "</table>\n",
       "</div>"
      ],
      "text/plain": [
       "  MemberId  RecordDate  GameMode  GameSession  Buy-in  OriginScore  Discount  \\\n",
       "0   112434  2025-03-07      3400            2       1            4         0   \n",
       "1   133992  2025-03-07      1200            1       2            4         0   \n",
       "2   133992  2025-03-07      3400            2       1            4        -1   \n",
       "3   331834  2025-03-07      1200            1       2            4         0   \n",
       "4   331837  2025-03-07      3400            2       1            4         0   \n",
       "\n",
       "   FinalScore               Mdate  \n",
       "0           4 2025-03-07 23:58:23  \n",
       "1           4 2025-03-07 23:54:44  \n",
       "2           3 2025-03-07 23:58:23  \n",
       "3           4 2025-03-07 23:54:44  \n",
       "4           4 2025-03-07 23:58:23  "
      ]
     },
     "execution_count": 21,
     "metadata": {},
     "output_type": "execute_result"
    }
   ],
   "source": [
    "import pandas as pd\n",
    "sqlstr = 'select * from [NTPU_CLASS].[dbo].[Member_Info]'\n",
    "df = pd.read_sql(sqlstr,conn)\n",
    "df.head()"
   ]
  },
  {
   "cell_type": "code",
   "execution_count": null,
   "metadata": {},
   "outputs": [],
   "source": []
  }
 ],
 "metadata": {
  "kernelspec": {
   "display_name": "Python 3",
   "language": "python",
   "name": "python3"
  },
  "language_info": {
   "codemirror_mode": {
    "name": "ipython",
    "version": 3
   },
   "file_extension": ".py",
   "mimetype": "text/x-python",
   "name": "python",
   "nbconvert_exporter": "python",
   "pygments_lexer": "ipython3",
   "version": "3.12.0"
  }
 },
 "nbformat": 4,
 "nbformat_minor": 2
}
