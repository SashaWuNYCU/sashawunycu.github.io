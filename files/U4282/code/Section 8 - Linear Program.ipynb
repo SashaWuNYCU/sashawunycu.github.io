{
 "cells": [
  {
   "cell_type": "code",
   "execution_count": 1,
   "metadata": {},
   "outputs": [],
   "source": [
    "import cvxpy as cp\n",
    "import cvxopt as co\n",
    "import numpy as np\n",
    "import pandas as pd\n",
    "import matplotlib.pyplot as plt\n",
    "import matplotlib as mpl\n",
    "import statsmodels.api as sm\n",
    "from sklearn.linear_model import Lasso\n",
    "from scipy.optimize import linprog\n",
    "from pulp import LpMaximize,LpProblem,LpStatus,lpSum,LpVariable\n",
    "\n",
    "plt.style.use('seaborn-v0_8-whitegrid')\n",
    "np.set_printoptions(suppress = True)\n",
    "from faraway.datasets import statedata\n",
    "from faraway.datasets import savings"
   ]
  },
  {
   "cell_type": "markdown",
   "metadata": {},
   "source": [
    "***\n",
    "## CVXPY\n",
    "***"
   ]
  },
  {
   "cell_type": "code",
   "execution_count": 2,
   "metadata": {},
   "outputs": [
    {
     "data": {
      "text/plain": [
       "['CLARABEL',\n",
       " 'CVXOPT',\n",
       " 'ECOS',\n",
       " 'ECOS_BB',\n",
       " 'GLPK',\n",
       " 'GLPK_MI',\n",
       " 'OSQP',\n",
       " 'SCIPY',\n",
       " 'SCS']"
      ]
     },
     "execution_count": 2,
     "metadata": {},
     "output_type": "execute_result"
    }
   ],
   "source": [
    "# Avaliable solver\n",
    "cp.installed_solvers()"
   ]
  },
  {
   "cell_type": "markdown",
   "metadata": {},
   "source": [
    "### Variable"
   ]
  },
  {
   "cell_type": "code",
   "execution_count": 3,
   "metadata": {},
   "outputs": [
    {
     "data": {
      "text/plain": [
       "Variable((), var1)"
      ]
     },
     "metadata": {},
     "output_type": "display_data"
    },
    {
     "data": {
      "text/plain": [
       "Variable((5,), var2)"
      ]
     },
     "metadata": {},
     "output_type": "display_data"
    },
    {
     "data": {
      "text/plain": [
       "Variable((5,), var3, nonneg=True)"
      ]
     },
     "metadata": {},
     "output_type": "display_data"
    },
    {
     "data": {
      "text/plain": [
       "Variable((5, 1), var4)"
      ]
     },
     "metadata": {},
     "output_type": "display_data"
    },
    {
     "data": {
      "text/plain": [
       "Variable((3, 3), var5)"
      ]
     },
     "metadata": {},
     "output_type": "display_data"
    }
   ],
   "source": [
    "# Scalar\n",
    "a0 = cp.Variable()\n",
    "# Vector with (5,)\n",
    "a1 = cp.Variable(5)\n",
    "# Vector with (5,)\n",
    "a2 = cp.Variable(5,nonneg = True)\n",
    "# Vector with (5,1)\n",
    "a3 = cp.Variable((5,1))\n",
    "# Matrix\n",
    "a4 = cp.Variable((3,3))\n",
    "display(a0,\n",
    "        a1,\n",
    "        a2,\n",
    "        a3,\n",
    "        a4)"
   ]
  },
  {
   "cell_type": "markdown",
   "metadata": {},
   "source": [
    "### Parameter"
   ]
  },
  {
   "cell_type": "code",
   "execution_count": 4,
   "metadata": {},
   "outputs": [
    {
     "data": {
      "text/plain": [
       "Parameter((), nonneg=True)"
      ]
     },
     "metadata": {},
     "output_type": "display_data"
    },
    {
     "data": {
      "text/plain": [
       "Parameter((5,))"
      ]
     },
     "metadata": {},
     "output_type": "display_data"
    },
    {
     "data": {
      "text/plain": [
       "Parameter((4, 3), nonpos=True)"
      ]
     },
     "metadata": {},
     "output_type": "display_data"
    }
   ],
   "source": [
    "# Positive scalar parameter\n",
    "m0 = cp.Parameter(nonneg = True)\n",
    "# Vector parameters with unknown sign\n",
    "m1 = cp.Parameter(5)\n",
    "# Matrix parameters with negative entries\n",
    "m2 = cp.Parameter((4,3),nonpos = True)\n",
    "# Assign a constant value to m2\n",
    "m2.value = -np.ones((4,3))\n",
    "display(m0,\n",
    "        m1,\n",
    "        m2)"
   ]
  },
  {
   "cell_type": "markdown",
   "metadata": {},
   "source": [
    "***\n",
    "## Solution Status\n",
    "***"
   ]
  },
  {
   "cell_type": "code",
   "execution_count": 5,
   "metadata": {},
   "outputs": [
    {
     "data": {
      "text/plain": [
       "{'status:': 'infeasible', 'optimal value': inf}"
      ]
     },
     "metadata": {},
     "output_type": "display_data"
    },
    {
     "data": {
      "text/plain": [
       "{'status:': 'optimal', 'optimal value': 1.8111535299736569e-09}"
      ]
     },
     "metadata": {},
     "output_type": "display_data"
    },
    {
     "data": {
      "text/plain": [
       "{'status:': 'unbounded', 'optimal value': -inf}"
      ]
     },
     "metadata": {},
     "output_type": "display_data"
    }
   ],
   "source": [
    "x = cp.Variable()\n",
    "cstr_dic ={'unbdd domain':[x >= 1,x <= 0],\n",
    "           'bdd domain':[x <= 1,x >= 0]}\n",
    "for case,cstr in cstr_dic.items():\n",
    "\tprob = cp.Problem(cp.Minimize(x),cstr)\n",
    "\tprob.solve()\n",
    "\tdisplay({\"status:\":prob.status,\n",
    "\t\t\t \"optimal value\":prob.value})\n",
    "\n",
    "# An unbounded problem.\n",
    "prob = cp.Problem(cp.Minimize(x))\n",
    "prob.solve()\n",
    "display({\"status:\":prob.status,\n",
    "\t\t \"optimal value\":prob.value})"
   ]
  },
  {
   "cell_type": "markdown",
   "metadata": {},
   "source": [
    "***\n",
    "## Linear Program\n",
    "***"
   ]
  },
  {
   "cell_type": "code",
   "execution_count": 6,
   "metadata": {},
   "outputs": [
    {
     "data": {
      "text/plain": [
       "'optimal'"
      ]
     },
     "metadata": {},
     "output_type": "display_data"
    },
    {
     "data": {
      "text/plain": [
       "'The optimal value is 21.0'"
      ]
     },
     "metadata": {},
     "output_type": "display_data"
    },
    {
     "data": {
      "text/plain": [
       "'A solution x is (10.0,1.0)'"
      ]
     },
     "metadata": {},
     "output_type": "display_data"
    }
   ],
   "source": [
    "# Define Variable\n",
    "x1 = cp.Variable()\n",
    "x2 = cp.Variable()\n",
    "# Constraint\n",
    "cstr = [x1 <= 10,\n",
    "        x1 + 2*x2 <= 12,\n",
    "        x1 - 2*x2 >= -8,\n",
    "        x1 >= 0,\n",
    "        x2 >= 0]\n",
    "obj = cp.Maximize(2 * x1 + x2)\n",
    "prob = cp.Problem(obj,cstr)\n",
    "prob.solve()\n",
    "# Print result.\n",
    "display(prob.status,\n",
    "        \"The optimal value is {:.1f}\".format(prob.value),\n",
    "        \"A solution x is ({:.1f},{:.1f})\".format(*[x1.value,x2.value]))"
   ]
  },
  {
   "cell_type": "code",
   "execution_count": 7,
   "metadata": {},
   "outputs": [
    {
     "data": {
      "text/plain": [
       "'optimal'"
      ]
     },
     "metadata": {},
     "output_type": "display_data"
    },
    {
     "data": {
      "text/plain": [
       "'The optimal value is 21.0'"
      ]
     },
     "metadata": {},
     "output_type": "display_data"
    },
    {
     "data": {
      "text/plain": [
       "'A solution x is (10.0,1.0)'"
      ]
     },
     "metadata": {},
     "output_type": "display_data"
    }
   ],
   "source": [
    "# Matrix form\n",
    "x = cp.Variable((2,1))\n",
    "c = np.array([[2],\n",
    "              [1]])\n",
    "A = np.array([[1,0],\n",
    "              [1,2],\n",
    "              [-1,2],\n",
    "              [-1,0],\n",
    "              [0,-1]])\n",
    "b = np.array([[10],\n",
    "              [12],\n",
    "              [-8],\n",
    "              [0],\n",
    "              [0]])\n",
    "cstr = [A @ x <= b]\n",
    "obj = cp.Maximize(c.T @ x)\n",
    "prob = cp.Problem(obj,cstr)\n",
    "prob.solve()\n",
    "# Print result.\n",
    "display(prob.status,\n",
    "        \"The optimal value is {:.1f}\".format(prob.value),\n",
    "        \"A solution x is ({:.1f},{:.1f})\".format(*x.value.ravel()))"
   ]
  },
  {
   "cell_type": "markdown",
   "metadata": {},
   "source": [
    "***\n",
    "## Visual LP\n",
    "***"
   ]
  },
  {
   "cell_type": "code",
   "execution_count": 8,
   "metadata": {},
   "outputs": [
    {
     "data": {
      "text/plain": [
       "'optimal'"
      ]
     },
     "metadata": {},
     "output_type": "display_data"
    },
    {
     "data": {
      "text/plain": [
       "'The optimal value is 8.0'"
      ]
     },
     "metadata": {},
     "output_type": "display_data"
    },
    {
     "data": {
      "text/plain": [
       "'A solution (x,y) is (4.0,4.0)'"
      ]
     },
     "metadata": {},
     "output_type": "display_data"
    }
   ],
   "source": [
    "x = cp.Variable()\n",
    "y = cp.Variable()\n",
    "cstr = [x + y >= -1,\n",
    "        0.5*x - y >= -2,\n",
    "        2*x - y <= 4]\n",
    "obj = cp.Maximize(x + y)\n",
    "prob = cp.Problem(obj,cstr)\n",
    "prob.solve()\n",
    "# Print result.\n",
    "display(prob.status,\n",
    "        \"The optimal value is {:.1f}\".format(prob.value),\n",
    "        \"A solution (x,y) is ({:.1f},{:.1f})\".format(*[x.value,y.value]))"
   ]
  },
  {
   "cell_type": "code",
   "execution_count": 9,
   "metadata": {},
   "outputs": [
    {
     "data": {
      "text/plain": [
       "Text(4.5, 2.25, 'x + y = 8')"
      ]
     },
     "execution_count": 9,
     "metadata": {},
     "output_type": "execute_result"
    },
    {
     "data": {
      "image/png": "[encoded data removed]",
      "text/plain": [
       "<Figure size 640x480 with 1 Axes>"
      ]
     },
     "metadata": {},
     "output_type": "display_data"
    }
   ],
   "source": [
    "xp = np.array([-3,6])\n",
    "# plot the constraints\n",
    "plt.plot(xp,-xp - 1,xp,0.5*xp + 2,xp,2*xp - 4,color = 'limegreen') \n",
    "# Draw the lines\n",
    "plt.plot(xp,-xp + 4,xp,-xp + 8,linestyle = 'dotted',color = 'red')\n",
    "# Draw the feasible set (filled triangle)\n",
    "path = mpl.path.Path([[4,4],[1,-2],[-2,1],[4,4]])            \n",
    "patch = mpl.patches.PathPatch(path,facecolor = 'cyan')               \n",
    "# Add the triangle to the plot\n",
    "plt.gca().add_patch(patch)                                          \n",
    "plt.xlabel('x')\n",
    "plt.ylabel('y')\n",
    "plt.title('feasible set of a LP')\n",
    "plt.xlim(-3,6)\n",
    "plt.ylim(-5,5)\n",
    "plt.text(2,-4.5,\"x + y = -1\")\n",
    "plt.text(3.5,-0.75,\"x + y = 4\")\n",
    "plt.text(4.5,2.25,\"x + y = 8\")"
   ]
  },
  {
   "cell_type": "markdown",
   "metadata": {},
   "source": [
    "***\n",
    "## Least Square\n",
    "***"
   ]
  },
  {
   "cell_type": "code",
   "execution_count": 10,
   "metadata": {},
   "outputs": [],
   "source": [
    "X = np.array([1.47,1.5,1.52,1.55,1.57,\n",
    "              1.6,1.63,1.65,1.68,1.7,\n",
    "              1.73,1.75,1.78,1.80,1.83])\n",
    "# model matrix\n",
    "Xm = sm.add_constant(X)\n",
    "y = np.array([52.21,53.12,54.48,55.84,57.2,\n",
    "              58.57,59.93,61.29,63.11,64.47,\n",
    "              66.28,68.1,69.92,72.19,74.46]).reshape(-1,1)"
   ]
  },
  {
   "cell_type": "code",
   "execution_count": 11,
   "metadata": {},
   "outputs": [
    {
     "data": {
      "text/plain": [
       "'optimal'"
      ]
     },
     "metadata": {},
     "output_type": "display_data"
    },
    {
     "data": {
      "text/plain": [
       "'The optimal value is 7.491'"
      ]
     },
     "metadata": {},
     "output_type": "display_data"
    },
    {
     "data": {
      "text/plain": [
       "'A solution (b0,b1) is (-39.062,61.272)'"
      ]
     },
     "metadata": {},
     "output_type": "display_data"
    }
   ],
   "source": [
    "beta = cp.Variable((2,1))\n",
    "obj = cp.Minimize(cp.sum_squares(y - Xm @ beta))\n",
    "prob = cp.Problem(obj)\n",
    "prob.solve()\n",
    "# Print result.\n",
    "display(prob.status,\n",
    "        \"The optimal value is {:.3f}\".format(prob.value),\n",
    "        \"A solution (b0,b1) is ({:.3f},{:.3f})\".format(*beta.value.ravel()))"
   ]
  },
  {
   "cell_type": "markdown",
   "metadata": {},
   "source": [
    "***\n",
    "## Quadratic Program\n",
    "***"
   ]
  },
  {
   "cell_type": "code",
   "execution_count": 12,
   "metadata": {},
   "outputs": [
    {
     "data": {
      "text/html": [
       "<div>\n",
       "<style scoped>\n",
       "    .dataframe tbody tr th:only-of-type {\n",
       "        vertical-align: middle;\n",
       "    }\n",
       "\n",
       "    .dataframe tbody tr th {\n",
       "        vertical-align: top;\n",
       "    }\n",
       "\n",
       "    .dataframe thead th {\n",
       "        text-align: right;\n",
       "    }\n",
       "</style>\n",
       "<table border=\"1\" class=\"dataframe\">\n",
       "  <thead>\n",
       "    <tr style=\"text-align: right;\">\n",
       "      <th></th>\n",
       "      <th>sr</th>\n",
       "      <th>pop15</th>\n",
       "      <th>pop75</th>\n",
       "      <th>dpi</th>\n",
       "      <th>ddpi</th>\n",
       "    </tr>\n",
       "  </thead>\n",
       "  <tbody>\n",
       "    <tr>\n",
       "      <th>Australia</th>\n",
       "      <td>11.43</td>\n",
       "      <td>29.35</td>\n",
       "      <td>2.87</td>\n",
       "      <td>2329.68</td>\n",
       "      <td>2.87</td>\n",
       "    </tr>\n",
       "    <tr>\n",
       "      <th>Austria</th>\n",
       "      <td>12.07</td>\n",
       "      <td>23.32</td>\n",
       "      <td>4.41</td>\n",
       "      <td>1507.99</td>\n",
       "      <td>3.93</td>\n",
       "    </tr>\n",
       "    <tr>\n",
       "      <th>Belgium</th>\n",
       "      <td>13.17</td>\n",
       "      <td>23.80</td>\n",
       "      <td>4.43</td>\n",
       "      <td>2108.47</td>\n",
       "      <td>3.82</td>\n",
       "    </tr>\n",
       "    <tr>\n",
       "      <th>Bolivia</th>\n",
       "      <td>5.75</td>\n",
       "      <td>41.89</td>\n",
       "      <td>1.67</td>\n",
       "      <td>189.13</td>\n",
       "      <td>0.22</td>\n",
       "    </tr>\n",
       "    <tr>\n",
       "      <th>Brazil</th>\n",
       "      <td>12.88</td>\n",
       "      <td>42.19</td>\n",
       "      <td>0.83</td>\n",
       "      <td>728.47</td>\n",
       "      <td>4.56</td>\n",
       "    </tr>\n",
       "  </tbody>\n",
       "</table>\n",
       "</div>"
      ],
      "text/plain": [
       "              sr  pop15  pop75      dpi  ddpi\n",
       "Australia  11.43  29.35   2.87  2329.68  2.87\n",
       "Austria    12.07  23.32   4.41  1507.99  3.93\n",
       "Belgium    13.17  23.80   4.43  2108.47  3.82\n",
       "Bolivia     5.75  41.89   1.67   189.13  0.22\n",
       "Brazil     12.88  42.19   0.83   728.47  4.56"
      ]
     },
     "execution_count": 12,
     "metadata": {},
     "output_type": "execute_result"
    }
   ],
   "source": [
    "df_sav = savings.load()\n",
    "df_sav.head()"
   ]
  },
  {
   "cell_type": "code",
   "execution_count": 13,
   "metadata": {},
   "outputs": [
    {
     "data": {
      "text/plain": [
       "'optimal'"
      ]
     },
     "metadata": {},
     "output_type": "display_data"
    },
    {
     "data": {
      "text/plain": [
       "'The optimal value is 10.077'"
      ]
     },
     "metadata": {},
     "output_type": "display_data"
    },
    {
     "data": {
      "text/plain": [
       "'A solution beta is (5.223,0.902,-0.902,0.000,0.006)'"
      ]
     },
     "metadata": {},
     "output_type": "display_data"
    }
   ],
   "source": [
    "Xc = sm.add_constant(df_sav.values[:,1:])\n",
    "yc = df_sav.values[:,1].reshape(-1,1)\n",
    "Am = np.array([[0,1,1,0,0]])\n",
    "# define variable\n",
    "beta = cp.Variable((5,1))\n",
    "cstr = [Am @ beta == np.zeros((5,1))]\n",
    "obj = cp.Minimize(cp.sum_squares(yc - Xc @ beta))\n",
    "prob = cp.Problem(obj,cstr)\n",
    "prob.solve()\n",
    "display(prob.status,\n",
    "        \"The optimal value is {:.3f}\".format(prob.value),\n",
    "        \"A solution beta is ({:.3f},{:.3f},{:.3f},{:.3f},{:.3f})\".format(*beta.value.ravel()))"
   ]
  },
  {
   "cell_type": "markdown",
   "metadata": {},
   "source": [
    "***\n",
    "## Trade off curve\n",
    "***"
   ]
  },
  {
   "cell_type": "code",
   "execution_count": 14,
   "metadata": {},
   "outputs": [
    {
     "data": {
      "image/png": "[encoded data removed]",
      "text/plain": [
       "<Figure size 1000x600 with 2 Axes>"
      ]
     },
     "metadata": {},
     "output_type": "display_data"
    }
   ],
   "source": [
    "# Generate data\n",
    "n,m = 15,10\n",
    "np.random.seed(1)\n",
    "A = np.random.randn(n,m)\n",
    "b = np.random.randn(n)\n",
    "# penal variable\n",
    "gamma = cp.Parameter(nonneg = True)\n",
    "# variable\n",
    "x = cp.Variable(m)\n",
    "# error part\n",
    "error = cp.sum_squares(A @ x - b)\n",
    "# objective\n",
    "obj = cp.Minimize(error + gamma * cp.norm(x, 1))\n",
    "prob = cp.Problem(obj)\n",
    "# Construct a trade-off curve \n",
    "error_term = []\n",
    "penal_term = []\n",
    "x_vals = []\n",
    "gamma_vals = np.logspace(-4, 6)\n",
    "for val in gamma_vals:\n",
    "    gamma.value = val\n",
    "    prob.solve()\n",
    "    # Use expr.value to get the numerical value of\n",
    "    # an expression in the problem.\n",
    "    error_term.append(error.value)\n",
    "    penal_term.append(cp.norm(x, 1).value)\n",
    "    x_vals.append(x.value)\n",
    "plt.figure(figsize = (10,6))\n",
    "# Plot trade-off curve.\n",
    "plt.subplot(1,2,1)\n",
    "plt.plot(penal_term,error_term)\n",
    "plt.xlabel(r'$\\|x\\|_1$')\n",
    "plt.ylabel(r'$\\|Ax-b\\|^2$')\n",
    "plt.title('Trade-Off Curve for LASSO')\n",
    "# Plot entries of x vs. gamma.\n",
    "plt.subplot(1,2,2)\n",
    "for i in range(m):\n",
    "    plt.plot(gamma_vals,[xi[i] for xi in x_vals])\n",
    "plt.xlabel(r'$\\gamma$')\n",
    "plt.ylabel(r'$x_{i}$')\n",
    "plt.xscale('log')\n",
    "plt.title(r'Entries of x vs $\\gamma$', fontsize=16)\n",
    "plt.tight_layout()"
   ]
  },
  {
   "cell_type": "markdown",
   "metadata": {},
   "source": [
    "***\n",
    "## Lasso Problem\n",
    "***"
   ]
  },
  {
   "cell_type": "code",
   "execution_count": 15,
   "metadata": {},
   "outputs": [
    {
     "data": {
      "text/html": [
       "<div>\n",
       "<style scoped>\n",
       "    .dataframe tbody tr th:only-of-type {\n",
       "        vertical-align: middle;\n",
       "    }\n",
       "\n",
       "    .dataframe tbody tr th {\n",
       "        vertical-align: top;\n",
       "    }\n",
       "\n",
       "    .dataframe thead th {\n",
       "        text-align: right;\n",
       "    }\n",
       "</style>\n",
       "<table border=\"1\" class=\"dataframe\">\n",
       "  <thead>\n",
       "    <tr style=\"text-align: right;\">\n",
       "      <th></th>\n",
       "      <th>Population</th>\n",
       "      <th>Income</th>\n",
       "      <th>Illiteracy</th>\n",
       "      <th>LifeExp</th>\n",
       "      <th>Murder</th>\n",
       "      <th>HSGrad</th>\n",
       "      <th>Frost</th>\n",
       "      <th>Area</th>\n",
       "    </tr>\n",
       "    <tr>\n",
       "      <th>State</th>\n",
       "      <th></th>\n",
       "      <th></th>\n",
       "      <th></th>\n",
       "      <th></th>\n",
       "      <th></th>\n",
       "      <th></th>\n",
       "      <th></th>\n",
       "      <th></th>\n",
       "    </tr>\n",
       "  </thead>\n",
       "  <tbody>\n",
       "    <tr>\n",
       "      <th>AL</th>\n",
       "      <td>3615</td>\n",
       "      <td>3624</td>\n",
       "      <td>2.1</td>\n",
       "      <td>69.05</td>\n",
       "      <td>15.1</td>\n",
       "      <td>41.3</td>\n",
       "      <td>20</td>\n",
       "      <td>50708</td>\n",
       "    </tr>\n",
       "    <tr>\n",
       "      <th>AK</th>\n",
       "      <td>365</td>\n",
       "      <td>6315</td>\n",
       "      <td>1.5</td>\n",
       "      <td>69.31</td>\n",
       "      <td>11.3</td>\n",
       "      <td>66.7</td>\n",
       "      <td>152</td>\n",
       "      <td>566432</td>\n",
       "    </tr>\n",
       "    <tr>\n",
       "      <th>AZ</th>\n",
       "      <td>2212</td>\n",
       "      <td>4530</td>\n",
       "      <td>1.8</td>\n",
       "      <td>70.55</td>\n",
       "      <td>7.8</td>\n",
       "      <td>58.1</td>\n",
       "      <td>15</td>\n",
       "      <td>113417</td>\n",
       "    </tr>\n",
       "    <tr>\n",
       "      <th>AR</th>\n",
       "      <td>2110</td>\n",
       "      <td>3378</td>\n",
       "      <td>1.9</td>\n",
       "      <td>70.66</td>\n",
       "      <td>10.1</td>\n",
       "      <td>39.9</td>\n",
       "      <td>65</td>\n",
       "      <td>51945</td>\n",
       "    </tr>\n",
       "    <tr>\n",
       "      <th>CA</th>\n",
       "      <td>21198</td>\n",
       "      <td>5114</td>\n",
       "      <td>1.1</td>\n",
       "      <td>71.71</td>\n",
       "      <td>10.3</td>\n",
       "      <td>62.6</td>\n",
       "      <td>20</td>\n",
       "      <td>156361</td>\n",
       "    </tr>\n",
       "  </tbody>\n",
       "</table>\n",
       "</div>"
      ],
      "text/plain": [
       "       Population  Income  Illiteracy  LifeExp  Murder  HSGrad  Frost    Area\n",
       "State                                                                        \n",
       "AL           3615    3624         2.1    69.05    15.1    41.3     20   50708\n",
       "AK            365    6315         1.5    69.31    11.3    66.7    152  566432\n",
       "AZ           2212    4530         1.8    70.55     7.8    58.1     15  113417\n",
       "AR           2110    3378         1.9    70.66    10.1    39.9     65   51945\n",
       "CA          21198    5114         1.1    71.71    10.3    62.6     20  156361"
      ]
     },
     "execution_count": 15,
     "metadata": {},
     "output_type": "execute_result"
    }
   ],
   "source": [
    "df_sd = statedata.load()\n",
    "df_sd.set_index('State',inplace = True)\n",
    "df_sd.head()"
   ]
  },
  {
   "cell_type": "code",
   "execution_count": 16,
   "metadata": {},
   "outputs": [
    {
     "data": {
      "text/plain": [
       "'optimal'"
      ]
     },
     "metadata": {},
     "output_type": "display_data"
    },
    {
     "data": {
      "text/plain": [
       "np.float64(23.29785146825527)"
      ]
     },
     "metadata": {},
     "output_type": "display_data"
    },
    {
     "data": {
      "text/plain": [
       "array([[70.94320201],\n",
       "       [ 0.0000518 ],\n",
       "       [-0.0000218 ],\n",
       "       [ 0.03382324],\n",
       "       [-0.30112297],\n",
       "       [ 0.04892968],\n",
       "       [-0.00573498],\n",
       "       [-0.00000007]])"
      ]
     },
     "metadata": {},
     "output_type": "display_data"
    }
   ],
   "source": [
    "# Coef vector\n",
    "beta = cp.Variable((8,1))\n",
    "# Data\n",
    "y = df_sd.LifeExp.values.reshape(-1,1)\n",
    "X = df_sd.drop('LifeExp',axis = 1).values\n",
    "Xm = sm.add_constant(X)\n",
    "# error part\n",
    "error = cp.sum_squares(y - Xm @ beta)\n",
    "# penal part\n",
    "penalty = 1e-5 * cp.norm(beta,1)\n",
    "# objective\n",
    "obj = cp.Minimize(error + penalty) \n",
    "# Define\n",
    "prob = cp.Problem(obj)\n",
    "# Solve\n",
    "prob.solve(solver = cp.CVXOPT)\n",
    "display(prob.status,\n",
    "        prob.value,\n",
    "        beta.value)"
   ]
  },
  {
   "cell_type": "markdown",
   "metadata": {},
   "source": [
    "***\n",
    "## Lasso by Sklearn\n",
    "***"
   ]
  },
  {
   "cell_type": "code",
   "execution_count": 17,
   "metadata": {},
   "outputs": [
    {
     "data": {
      "text/plain": [
       "array([[70.94363092],\n",
       "       [ 0.0000518 ],\n",
       "       [-0.00002181],\n",
       "       [ 0.03369101],\n",
       "       [-0.30111625],\n",
       "       [ 0.04892536],\n",
       "       [-0.00573561],\n",
       "       [-0.00000007]])"
      ]
     },
     "execution_count": 17,
     "metadata": {},
     "output_type": "execute_result"
    }
   ],
   "source": [
    "model_lasso = Lasso(alpha = 1e-5,fit_intercept = True).fit(X,y)\n",
    "np.concat([model_lasso.intercept_,\n",
    "                   model_lasso.coef_]).reshape(-1,1)"
   ]
  },
  {
   "cell_type": "markdown",
   "metadata": {},
   "source": [
    "***\n",
    "## solve LP by linprog in Scipy.optimize\n",
    "***"
   ]
  },
  {
   "cell_type": "code",
   "execution_count": 18,
   "metadata": {},
   "outputs": [
    {
     "data": {
      "text/plain": [
       "'Optimization terminated successfully. (HiGHS Status 7: Optimal)'"
      ]
     },
     "metadata": {},
     "output_type": "display_data"
    },
    {
     "data": {
      "text/plain": [
       "'max profit = 800.0'"
      ]
     },
     "metadata": {},
     "output_type": "display_data"
    },
    {
     "data": {
      "text/plain": [
       "'(Ale,Beer) = (12.0,28.0)'"
      ]
     },
     "metadata": {},
     "output_type": "display_data"
    }
   ],
   "source": [
    "# linprog() solves only minimization (not maximization) problems\n",
    "coef_obj = [-13,-23]\n",
    "coef_A = [[5,15],\n",
    "          [4,4],\n",
    "          [35,20]]\n",
    "bound_A = [480,\n",
    "           160,\n",
    "           1190]\n",
    "bnd = [(0, float(\"inf\")), # Bounds pf x\n",
    "       (0, float(\"inf\"))] # Bounds of y\n",
    "opt = linprog(c = coef_obj,A_ub = coef_A,b_ub = bound_A,bounds = bnd)\n",
    "display(f'{opt.message}',\n",
    "        f'max profit = {-opt.fun:.1f}',\n",
    "        '(Ale,Beer) = ({:.1f},{:.1f})'.format(*opt.x))"
   ]
  },
  {
   "cell_type": "markdown",
   "metadata": {},
   "source": [
    "***\n",
    "## solve LP by CVXPY\n",
    "***"
   ]
  },
  {
   "cell_type": "code",
   "execution_count": 19,
   "metadata": {},
   "outputs": [
    {
     "data": {
      "text/plain": [
       "'optimal'"
      ]
     },
     "metadata": {},
     "output_type": "display_data"
    },
    {
     "data": {
      "text/plain": [
       "'max profit = 800.0'"
      ]
     },
     "metadata": {},
     "output_type": "display_data"
    },
    {
     "data": {
      "text/plain": [
       "'(Ale,Beer) = (12.0,28.0)'"
      ]
     },
     "metadata": {},
     "output_type": "display_data"
    }
   ],
   "source": [
    "X = cp.Variable((2,1),nonneg = True)\n",
    "Am = np.array(coef_A)\n",
    "b = np.array(bound_A).reshape(-1,1)\n",
    "c = np.array(coef_obj).reshape(-1,1)\n",
    "cstr = [Am @ X <= b]\n",
    "obj = cp.Minimize(c.T @ X)\n",
    "prob = cp.Problem(obj,cstr)\n",
    "prob.solve()\n",
    "display(prob.status,\n",
    "        'max profit = {:.1f}'.format(prob.value * -1),\n",
    "        '(Ale,Beer) = ({:.1f},{:.1f})'.format(*X.value.ravel()))"
   ]
  },
  {
   "cell_type": "markdown",
   "metadata": {},
   "source": [
    "***\n",
    "## solve LP by PULP\n",
    "***"
   ]
  },
  {
   "cell_type": "code",
   "execution_count": 20,
   "metadata": {},
   "outputs": [
    {
     "data": {
      "text/plain": [
       "Brewery:\n",
       "MAXIMIZE\n",
       "13*Ale + 23*Beer + 0\n",
       "SUBJECT TO\n",
       "Corn_limitation: 5 Ale + 15 Beer <= 480\n",
       "\n",
       "Hops_limitation: 4 Ale + 4 Beer <= 160\n",
       "\n",
       "Malt_limitation: 35 Ale + 20 Beer <= 1190\n",
       "\n",
       "VARIABLES\n",
       "0 <= Ale Integer\n",
       "0 <= Beer Integer"
      ]
     },
     "execution_count": 20,
     "metadata": {},
     "output_type": "execute_result"
    }
   ],
   "source": [
    "from pulp import LpMaximize,LpProblem,LpStatus,lpSum,LpVariable\n",
    "# Create the LP model\n",
    "model = LpProblem(name = \"Brewery\",sense = LpMaximize)\n",
    "# Initialize the decision variables\n",
    "A = LpVariable(name = \"Ale\",lowBound = 0,cat = 'Integer')\n",
    "B = LpVariable(name = \"Beer\",lowBound = 0,cat = 'Integer')\n",
    "# Add the constraints to the model\n",
    "model += (5 * A + 15 * B <= 480,\"Corn limitation\")\n",
    "model += (4 * A + 4 * B <= 160,\"Hops limitation\")\n",
    "model += (35 * A + 20 * B <= 1190,\"Malt limitation\")\n",
    "# Add the objective function to the model\n",
    "model += lpSum([13 * A,23 * B])\n",
    "model"
   ]
  },
  {
   "cell_type": "code",
   "execution_count": 21,
   "metadata": {},
   "outputs": [
    {
     "data": {
      "text/plain": [
       "'status: 1, Optimal'"
      ]
     },
     "metadata": {},
     "output_type": "display_data"
    },
    {
     "data": {
      "text/plain": [
       "'objective: 800.0'"
      ]
     },
     "metadata": {},
     "output_type": "display_data"
    },
    {
     "name": "stdout",
     "output_type": "stream",
     "text": [
      "Ale: 12.0\n",
      "Beer: 28.0\n"
     ]
    }
   ],
   "source": [
    "status = model.solve()\n",
    "display(f\"status: {model.status}, {LpStatus[model.status]}\",\n",
    "        f\"objective: {model.objective.value()}\")\n",
    "for var in model.variables():\n",
    "    print(f\"{var.name}: {var.value()}\")"
   ]
  }
 ],
 "metadata": {
  "kernelspec": {
   "display_name": "Python 3",
   "language": "python",
   "name": "python3"
  },
  "language_info": {
   "codemirror_mode": {
    "name": "ipython",
    "version": 3
   },
   "file_extension": ".py",
   "mimetype": "text/x-python",
   "name": "python",
   "nbconvert_exporter": "python",
   "pygments_lexer": "ipython3",
   "version": "3.12.0"
  }
 },
 "nbformat": 4,
 "nbformat_minor": 2
}
